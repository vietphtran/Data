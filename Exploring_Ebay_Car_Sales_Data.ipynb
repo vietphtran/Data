{
  "nbformat": 4,
  "nbformat_minor": 0,
  "metadata": {
    "colab": {
      "name": "Exploring Ebay Car Sales Data.ipynb",
      "provenance": [],
      "collapsed_sections": [],
      "authorship_tag": "ABX9TyOiwUWqwXkR/Tk5wio5T22f",
      "include_colab_link": true
    },
    "kernelspec": {
      "name": "python3",
      "display_name": "Python 3"
    }
  },
  "cells": [
    {
      "cell_type": "markdown",
      "metadata": {
        "id": "view-in-github",
        "colab_type": "text"
      },
      "source": [
        "<a href=\"https://colab.research.google.com/github/vietphtran/Data/blob/master/Exploring_Ebay_Car_Sales_Data.ipynb\" target=\"_parent\"><img src=\"https://colab.research.google.com/assets/colab-badge.svg\" alt=\"Open In Colab\"/></a>"
      ]
    },
    {
      "cell_type": "markdown",
      "metadata": {
        "id": "9vbnZO9-y4-_"
      },
      "source": [
        "# **Exploring Ebay Car Sales Data**\n",
        "\n",
        "In this project, we, a team of three data analysts, work with a dataset of used cars being sold on [eBay Kleinanzeigen](https://www.ebay-kleinanzeigen.de/), the German version of eBay. The dataset was sampled from the original dataset on Kaggle and consists of 50,000 data points.\n",
        "\n",
        "Our main goal is to clean and analyze to provide useful insights regarding used cars being listed on German eBay website."
      ]
    },
    {
      "cell_type": "markdown",
      "metadata": {
        "id": "-reKSksZxad1"
      },
      "source": [
        "## **Import and Explore the data set**\n",
        "\n",
        "We will primarily work with the data set using two Python libraries: numpy and pandas. Our first step is to import these libraries as well as our dataset ([download here](https://github.com/vietphtran/Data/raw/master/autos.csv))."
      ]
    },
    {
      "cell_type": "code",
      "metadata": {
        "id": "Ofbz7_4Dy6v7"
      },
      "source": [
        "import numpy as np\n",
        "import pandas as pd"
      ],
      "execution_count": 1,
      "outputs": []
    },
    {
      "cell_type": "code",
      "metadata": {
        "id": "2CM4xlP5y66q"
      },
      "source": [
        "path = \"https://github.com/vietphtran/Data/raw/master/autos.csv\"\n",
        "autos = pd.read_csv(path, encoding=\"Latin-1\")"
      ],
      "execution_count": 2,
      "outputs": []
    },
    {
      "cell_type": "code",
      "metadata": {
        "id": "1pherXcmy69_",
        "outputId": "d9b2288d-f2d6-42bc-c9ce-739f9b7c4cca",
        "colab": {
          "base_uri": "https://localhost:8080/",
          "height": 779
        }
      },
      "source": [
        "autos"
      ],
      "execution_count": 3,
      "outputs": [
        {
          "output_type": "execute_result",
          "data": {
            "text/html": [
              "<div>\n",
              "<style scoped>\n",
              "    .dataframe tbody tr th:only-of-type {\n",
              "        vertical-align: middle;\n",
              "    }\n",
              "\n",
              "    .dataframe tbody tr th {\n",
              "        vertical-align: top;\n",
              "    }\n",
              "\n",
              "    .dataframe thead th {\n",
              "        text-align: right;\n",
              "    }\n",
              "</style>\n",
              "<table border=\"1\" class=\"dataframe\">\n",
              "  <thead>\n",
              "    <tr style=\"text-align: right;\">\n",
              "      <th></th>\n",
              "      <th>dateCrawled</th>\n",
              "      <th>name</th>\n",
              "      <th>seller</th>\n",
              "      <th>offerType</th>\n",
              "      <th>price</th>\n",
              "      <th>abtest</th>\n",
              "      <th>vehicleType</th>\n",
              "      <th>yearOfRegistration</th>\n",
              "      <th>gearbox</th>\n",
              "      <th>powerPS</th>\n",
              "      <th>model</th>\n",
              "      <th>odometer</th>\n",
              "      <th>monthOfRegistration</th>\n",
              "      <th>fuelType</th>\n",
              "      <th>brand</th>\n",
              "      <th>notRepairedDamage</th>\n",
              "      <th>dateCreated</th>\n",
              "      <th>nrOfPictures</th>\n",
              "      <th>postalCode</th>\n",
              "      <th>lastSeen</th>\n",
              "    </tr>\n",
              "  </thead>\n",
              "  <tbody>\n",
              "    <tr>\n",
              "      <th>0</th>\n",
              "      <td>2016-03-26 17:47:46</td>\n",
              "      <td>Peugeot_807_160_NAVTECH_ON_BOARD</td>\n",
              "      <td>privat</td>\n",
              "      <td>Angebot</td>\n",
              "      <td>$5,000</td>\n",
              "      <td>control</td>\n",
              "      <td>bus</td>\n",
              "      <td>2004</td>\n",
              "      <td>manuell</td>\n",
              "      <td>158</td>\n",
              "      <td>andere</td>\n",
              "      <td>150,000km</td>\n",
              "      <td>3</td>\n",
              "      <td>lpg</td>\n",
              "      <td>peugeot</td>\n",
              "      <td>nein</td>\n",
              "      <td>2016-03-26 00:00:00</td>\n",
              "      <td>0</td>\n",
              "      <td>79588</td>\n",
              "      <td>2016-04-06 06:45:54</td>\n",
              "    </tr>\n",
              "    <tr>\n",
              "      <th>1</th>\n",
              "      <td>2016-04-04 13:38:56</td>\n",
              "      <td>BMW_740i_4_4_Liter_HAMANN_UMBAU_Mega_Optik</td>\n",
              "      <td>privat</td>\n",
              "      <td>Angebot</td>\n",
              "      <td>$8,500</td>\n",
              "      <td>control</td>\n",
              "      <td>limousine</td>\n",
              "      <td>1997</td>\n",
              "      <td>automatik</td>\n",
              "      <td>286</td>\n",
              "      <td>7er</td>\n",
              "      <td>150,000km</td>\n",
              "      <td>6</td>\n",
              "      <td>benzin</td>\n",
              "      <td>bmw</td>\n",
              "      <td>nein</td>\n",
              "      <td>2016-04-04 00:00:00</td>\n",
              "      <td>0</td>\n",
              "      <td>71034</td>\n",
              "      <td>2016-04-06 14:45:08</td>\n",
              "    </tr>\n",
              "    <tr>\n",
              "      <th>2</th>\n",
              "      <td>2016-03-26 18:57:24</td>\n",
              "      <td>Volkswagen_Golf_1.6_United</td>\n",
              "      <td>privat</td>\n",
              "      <td>Angebot</td>\n",
              "      <td>$8,990</td>\n",
              "      <td>test</td>\n",
              "      <td>limousine</td>\n",
              "      <td>2009</td>\n",
              "      <td>manuell</td>\n",
              "      <td>102</td>\n",
              "      <td>golf</td>\n",
              "      <td>70,000km</td>\n",
              "      <td>7</td>\n",
              "      <td>benzin</td>\n",
              "      <td>volkswagen</td>\n",
              "      <td>nein</td>\n",
              "      <td>2016-03-26 00:00:00</td>\n",
              "      <td>0</td>\n",
              "      <td>35394</td>\n",
              "      <td>2016-04-06 20:15:37</td>\n",
              "    </tr>\n",
              "    <tr>\n",
              "      <th>3</th>\n",
              "      <td>2016-03-12 16:58:10</td>\n",
              "      <td>Smart_smart_fortwo_coupe_softouch/F1/Klima/Pan...</td>\n",
              "      <td>privat</td>\n",
              "      <td>Angebot</td>\n",
              "      <td>$4,350</td>\n",
              "      <td>control</td>\n",
              "      <td>kleinwagen</td>\n",
              "      <td>2007</td>\n",
              "      <td>automatik</td>\n",
              "      <td>71</td>\n",
              "      <td>fortwo</td>\n",
              "      <td>70,000km</td>\n",
              "      <td>6</td>\n",
              "      <td>benzin</td>\n",
              "      <td>smart</td>\n",
              "      <td>nein</td>\n",
              "      <td>2016-03-12 00:00:00</td>\n",
              "      <td>0</td>\n",
              "      <td>33729</td>\n",
              "      <td>2016-03-15 03:16:28</td>\n",
              "    </tr>\n",
              "    <tr>\n",
              "      <th>4</th>\n",
              "      <td>2016-04-01 14:38:50</td>\n",
              "      <td>Ford_Focus_1_6_Benzin_TÜV_neu_ist_sehr_gepfleg...</td>\n",
              "      <td>privat</td>\n",
              "      <td>Angebot</td>\n",
              "      <td>$1,350</td>\n",
              "      <td>test</td>\n",
              "      <td>kombi</td>\n",
              "      <td>2003</td>\n",
              "      <td>manuell</td>\n",
              "      <td>0</td>\n",
              "      <td>focus</td>\n",
              "      <td>150,000km</td>\n",
              "      <td>7</td>\n",
              "      <td>benzin</td>\n",
              "      <td>ford</td>\n",
              "      <td>nein</td>\n",
              "      <td>2016-04-01 00:00:00</td>\n",
              "      <td>0</td>\n",
              "      <td>39218</td>\n",
              "      <td>2016-04-01 14:38:50</td>\n",
              "    </tr>\n",
              "    <tr>\n",
              "      <th>...</th>\n",
              "      <td>...</td>\n",
              "      <td>...</td>\n",
              "      <td>...</td>\n",
              "      <td>...</td>\n",
              "      <td>...</td>\n",
              "      <td>...</td>\n",
              "      <td>...</td>\n",
              "      <td>...</td>\n",
              "      <td>...</td>\n",
              "      <td>...</td>\n",
              "      <td>...</td>\n",
              "      <td>...</td>\n",
              "      <td>...</td>\n",
              "      <td>...</td>\n",
              "      <td>...</td>\n",
              "      <td>...</td>\n",
              "      <td>...</td>\n",
              "      <td>...</td>\n",
              "      <td>...</td>\n",
              "      <td>...</td>\n",
              "    </tr>\n",
              "    <tr>\n",
              "      <th>49995</th>\n",
              "      <td>2016-03-27 14:38:19</td>\n",
              "      <td>Audi_Q5_3.0_TDI_qu._S_tr.__Navi__Panorama__Xenon</td>\n",
              "      <td>privat</td>\n",
              "      <td>Angebot</td>\n",
              "      <td>$24,900</td>\n",
              "      <td>control</td>\n",
              "      <td>limousine</td>\n",
              "      <td>2011</td>\n",
              "      <td>automatik</td>\n",
              "      <td>239</td>\n",
              "      <td>q5</td>\n",
              "      <td>100,000km</td>\n",
              "      <td>1</td>\n",
              "      <td>diesel</td>\n",
              "      <td>audi</td>\n",
              "      <td>nein</td>\n",
              "      <td>2016-03-27 00:00:00</td>\n",
              "      <td>0</td>\n",
              "      <td>82131</td>\n",
              "      <td>2016-04-01 13:47:40</td>\n",
              "    </tr>\n",
              "    <tr>\n",
              "      <th>49996</th>\n",
              "      <td>2016-03-28 10:50:25</td>\n",
              "      <td>Opel_Astra_F_Cabrio_Bertone_Edition___TÜV_neu+...</td>\n",
              "      <td>privat</td>\n",
              "      <td>Angebot</td>\n",
              "      <td>$1,980</td>\n",
              "      <td>control</td>\n",
              "      <td>cabrio</td>\n",
              "      <td>1996</td>\n",
              "      <td>manuell</td>\n",
              "      <td>75</td>\n",
              "      <td>astra</td>\n",
              "      <td>150,000km</td>\n",
              "      <td>5</td>\n",
              "      <td>benzin</td>\n",
              "      <td>opel</td>\n",
              "      <td>nein</td>\n",
              "      <td>2016-03-28 00:00:00</td>\n",
              "      <td>0</td>\n",
              "      <td>44807</td>\n",
              "      <td>2016-04-02 14:18:02</td>\n",
              "    </tr>\n",
              "    <tr>\n",
              "      <th>49997</th>\n",
              "      <td>2016-04-02 14:44:48</td>\n",
              "      <td>Fiat_500_C_1.2_Dualogic_Lounge</td>\n",
              "      <td>privat</td>\n",
              "      <td>Angebot</td>\n",
              "      <td>$13,200</td>\n",
              "      <td>test</td>\n",
              "      <td>cabrio</td>\n",
              "      <td>2014</td>\n",
              "      <td>automatik</td>\n",
              "      <td>69</td>\n",
              "      <td>500</td>\n",
              "      <td>5,000km</td>\n",
              "      <td>11</td>\n",
              "      <td>benzin</td>\n",
              "      <td>fiat</td>\n",
              "      <td>nein</td>\n",
              "      <td>2016-04-02 00:00:00</td>\n",
              "      <td>0</td>\n",
              "      <td>73430</td>\n",
              "      <td>2016-04-04 11:47:27</td>\n",
              "    </tr>\n",
              "    <tr>\n",
              "      <th>49998</th>\n",
              "      <td>2016-03-08 19:25:42</td>\n",
              "      <td>Audi_A3_2.0_TDI_Sportback_Ambition</td>\n",
              "      <td>privat</td>\n",
              "      <td>Angebot</td>\n",
              "      <td>$22,900</td>\n",
              "      <td>control</td>\n",
              "      <td>kombi</td>\n",
              "      <td>2013</td>\n",
              "      <td>manuell</td>\n",
              "      <td>150</td>\n",
              "      <td>a3</td>\n",
              "      <td>40,000km</td>\n",
              "      <td>11</td>\n",
              "      <td>diesel</td>\n",
              "      <td>audi</td>\n",
              "      <td>nein</td>\n",
              "      <td>2016-03-08 00:00:00</td>\n",
              "      <td>0</td>\n",
              "      <td>35683</td>\n",
              "      <td>2016-04-05 16:45:07</td>\n",
              "    </tr>\n",
              "    <tr>\n",
              "      <th>49999</th>\n",
              "      <td>2016-03-14 00:42:12</td>\n",
              "      <td>Opel_Vectra_1.6_16V</td>\n",
              "      <td>privat</td>\n",
              "      <td>Angebot</td>\n",
              "      <td>$1,250</td>\n",
              "      <td>control</td>\n",
              "      <td>limousine</td>\n",
              "      <td>1996</td>\n",
              "      <td>manuell</td>\n",
              "      <td>101</td>\n",
              "      <td>vectra</td>\n",
              "      <td>150,000km</td>\n",
              "      <td>1</td>\n",
              "      <td>benzin</td>\n",
              "      <td>opel</td>\n",
              "      <td>nein</td>\n",
              "      <td>2016-03-13 00:00:00</td>\n",
              "      <td>0</td>\n",
              "      <td>45897</td>\n",
              "      <td>2016-04-06 21:18:48</td>\n",
              "    </tr>\n",
              "  </tbody>\n",
              "</table>\n",
              "<p>50000 rows × 20 columns</p>\n",
              "</div>"
            ],
            "text/plain": [
              "               dateCrawled  ...             lastSeen\n",
              "0      2016-03-26 17:47:46  ...  2016-04-06 06:45:54\n",
              "1      2016-04-04 13:38:56  ...  2016-04-06 14:45:08\n",
              "2      2016-03-26 18:57:24  ...  2016-04-06 20:15:37\n",
              "3      2016-03-12 16:58:10  ...  2016-03-15 03:16:28\n",
              "4      2016-04-01 14:38:50  ...  2016-04-01 14:38:50\n",
              "...                    ...  ...                  ...\n",
              "49995  2016-03-27 14:38:19  ...  2016-04-01 13:47:40\n",
              "49996  2016-03-28 10:50:25  ...  2016-04-02 14:18:02\n",
              "49997  2016-04-02 14:44:48  ...  2016-04-04 11:47:27\n",
              "49998  2016-03-08 19:25:42  ...  2016-04-05 16:45:07\n",
              "49999  2016-03-14 00:42:12  ...  2016-04-06 21:18:48\n",
              "\n",
              "[50000 rows x 20 columns]"
            ]
          },
          "metadata": {
            "tags": []
          },
          "execution_count": 3
        }
      ]
    },
    {
      "cell_type": "markdown",
      "metadata": {
        "id": "T3LMdvfgyMHu"
      },
      "source": [
        "As mentioned in the introduction, the dataset consists of 50,000 rows and 20 columns. The data dictionary provided with data is as follows:\n",
        "\n",
        "- **dateCrawled** - When this ad was first crawled. All field-values are taken from this date.\n",
        "- **name** - Name of the car.\n",
        "- **seller** - Whether the seller is private or a dealer.\n",
        "- **offerType** - The type of listing\n",
        "- **price** - The price on the ad to sell the car.\n",
        "- **abtest** - Whether the listing is included in an A/B test.\n",
        "- **vehicleType** - The vehicle Type.\n",
        "- **yearOfRegistration** - The year in which the car was first registered.\n",
        "- **gearbox** - The transmission type.\n",
        "- **powerPS** - The power of the car in PS.\n",
        "- **model** - The car model name.\n",
        "- **kilometer** - How many kilometers the car has driven.\n",
        "- **monthOfRegistration** - The month in which the car was first registered.\n",
        "- **fuelType** - What type of fuel the car uses.\n",
        "- **brand** - The brand of the car.\n",
        "- **notRepairedDamage** - If the car has a damage which is not yet repaired.\n",
        "- **dateCreated** - The date on which the eBay listing was created.\n",
        "- **nrOfPictures** - The number of pictures in the ad.\n",
        "- **postalCode** - The postal code for the location of the vehicle.\n",
        "- **lastSeenOnline** - When the crawler saw this ad last online.\n"
      ]
    },
    {
      "cell_type": "markdown",
      "metadata": {
        "id": "uUr9UabXyyiR"
      },
      "source": [
        "Below, we print some basic summaries regardign each column in the dataset. Some initial observations:\n",
        "- Column names are camelcase and should be changed to snakecase to avoid unnecessary typos and errors;\n",
        "- 5 columns contain numeric values and 15 columns contain string values. However, taking a closer look, we can see that columns like price and odometer should have numeric values instead. Thus, we expect some data cleaning and manipulation for some columns including these two;\n",
        "- 5 columns have missing values that we should investigate as well progress through the project;\n",
        "- Some columns have German words instead of English.\n"
      ]
    },
    {
      "cell_type": "code",
      "metadata": {
        "id": "WCRSEhIUy7BL",
        "outputId": "636f2732-9a8e-43c1-b627-6b362d84f8a9",
        "colab": {
          "base_uri": "https://localhost:8080/",
          "height": 853
        }
      },
      "source": [
        "autos.info()\n",
        "autos.head()"
      ],
      "execution_count": 4,
      "outputs": [
        {
          "output_type": "stream",
          "text": [
            "<class 'pandas.core.frame.DataFrame'>\n",
            "RangeIndex: 50000 entries, 0 to 49999\n",
            "Data columns (total 20 columns):\n",
            " #   Column               Non-Null Count  Dtype \n",
            "---  ------               --------------  ----- \n",
            " 0   dateCrawled          50000 non-null  object\n",
            " 1   name                 50000 non-null  object\n",
            " 2   seller               50000 non-null  object\n",
            " 3   offerType            50000 non-null  object\n",
            " 4   price                50000 non-null  object\n",
            " 5   abtest               50000 non-null  object\n",
            " 6   vehicleType          44905 non-null  object\n",
            " 7   yearOfRegistration   50000 non-null  int64 \n",
            " 8   gearbox              47320 non-null  object\n",
            " 9   powerPS              50000 non-null  int64 \n",
            " 10  model                47242 non-null  object\n",
            " 11  odometer             50000 non-null  object\n",
            " 12  monthOfRegistration  50000 non-null  int64 \n",
            " 13  fuelType             45518 non-null  object\n",
            " 14  brand                50000 non-null  object\n",
            " 15  notRepairedDamage    40171 non-null  object\n",
            " 16  dateCreated          50000 non-null  object\n",
            " 17  nrOfPictures         50000 non-null  int64 \n",
            " 18  postalCode           50000 non-null  int64 \n",
            " 19  lastSeen             50000 non-null  object\n",
            "dtypes: int64(5), object(15)\n",
            "memory usage: 7.6+ MB\n"
          ],
          "name": "stdout"
        },
        {
          "output_type": "execute_result",
          "data": {
            "text/html": [
              "<div>\n",
              "<style scoped>\n",
              "    .dataframe tbody tr th:only-of-type {\n",
              "        vertical-align: middle;\n",
              "    }\n",
              "\n",
              "    .dataframe tbody tr th {\n",
              "        vertical-align: top;\n",
              "    }\n",
              "\n",
              "    .dataframe thead th {\n",
              "        text-align: right;\n",
              "    }\n",
              "</style>\n",
              "<table border=\"1\" class=\"dataframe\">\n",
              "  <thead>\n",
              "    <tr style=\"text-align: right;\">\n",
              "      <th></th>\n",
              "      <th>dateCrawled</th>\n",
              "      <th>name</th>\n",
              "      <th>seller</th>\n",
              "      <th>offerType</th>\n",
              "      <th>price</th>\n",
              "      <th>abtest</th>\n",
              "      <th>vehicleType</th>\n",
              "      <th>yearOfRegistration</th>\n",
              "      <th>gearbox</th>\n",
              "      <th>powerPS</th>\n",
              "      <th>model</th>\n",
              "      <th>odometer</th>\n",
              "      <th>monthOfRegistration</th>\n",
              "      <th>fuelType</th>\n",
              "      <th>brand</th>\n",
              "      <th>notRepairedDamage</th>\n",
              "      <th>dateCreated</th>\n",
              "      <th>nrOfPictures</th>\n",
              "      <th>postalCode</th>\n",
              "      <th>lastSeen</th>\n",
              "    </tr>\n",
              "  </thead>\n",
              "  <tbody>\n",
              "    <tr>\n",
              "      <th>0</th>\n",
              "      <td>2016-03-26 17:47:46</td>\n",
              "      <td>Peugeot_807_160_NAVTECH_ON_BOARD</td>\n",
              "      <td>privat</td>\n",
              "      <td>Angebot</td>\n",
              "      <td>$5,000</td>\n",
              "      <td>control</td>\n",
              "      <td>bus</td>\n",
              "      <td>2004</td>\n",
              "      <td>manuell</td>\n",
              "      <td>158</td>\n",
              "      <td>andere</td>\n",
              "      <td>150,000km</td>\n",
              "      <td>3</td>\n",
              "      <td>lpg</td>\n",
              "      <td>peugeot</td>\n",
              "      <td>nein</td>\n",
              "      <td>2016-03-26 00:00:00</td>\n",
              "      <td>0</td>\n",
              "      <td>79588</td>\n",
              "      <td>2016-04-06 06:45:54</td>\n",
              "    </tr>\n",
              "    <tr>\n",
              "      <th>1</th>\n",
              "      <td>2016-04-04 13:38:56</td>\n",
              "      <td>BMW_740i_4_4_Liter_HAMANN_UMBAU_Mega_Optik</td>\n",
              "      <td>privat</td>\n",
              "      <td>Angebot</td>\n",
              "      <td>$8,500</td>\n",
              "      <td>control</td>\n",
              "      <td>limousine</td>\n",
              "      <td>1997</td>\n",
              "      <td>automatik</td>\n",
              "      <td>286</td>\n",
              "      <td>7er</td>\n",
              "      <td>150,000km</td>\n",
              "      <td>6</td>\n",
              "      <td>benzin</td>\n",
              "      <td>bmw</td>\n",
              "      <td>nein</td>\n",
              "      <td>2016-04-04 00:00:00</td>\n",
              "      <td>0</td>\n",
              "      <td>71034</td>\n",
              "      <td>2016-04-06 14:45:08</td>\n",
              "    </tr>\n",
              "    <tr>\n",
              "      <th>2</th>\n",
              "      <td>2016-03-26 18:57:24</td>\n",
              "      <td>Volkswagen_Golf_1.6_United</td>\n",
              "      <td>privat</td>\n",
              "      <td>Angebot</td>\n",
              "      <td>$8,990</td>\n",
              "      <td>test</td>\n",
              "      <td>limousine</td>\n",
              "      <td>2009</td>\n",
              "      <td>manuell</td>\n",
              "      <td>102</td>\n",
              "      <td>golf</td>\n",
              "      <td>70,000km</td>\n",
              "      <td>7</td>\n",
              "      <td>benzin</td>\n",
              "      <td>volkswagen</td>\n",
              "      <td>nein</td>\n",
              "      <td>2016-03-26 00:00:00</td>\n",
              "      <td>0</td>\n",
              "      <td>35394</td>\n",
              "      <td>2016-04-06 20:15:37</td>\n",
              "    </tr>\n",
              "    <tr>\n",
              "      <th>3</th>\n",
              "      <td>2016-03-12 16:58:10</td>\n",
              "      <td>Smart_smart_fortwo_coupe_softouch/F1/Klima/Pan...</td>\n",
              "      <td>privat</td>\n",
              "      <td>Angebot</td>\n",
              "      <td>$4,350</td>\n",
              "      <td>control</td>\n",
              "      <td>kleinwagen</td>\n",
              "      <td>2007</td>\n",
              "      <td>automatik</td>\n",
              "      <td>71</td>\n",
              "      <td>fortwo</td>\n",
              "      <td>70,000km</td>\n",
              "      <td>6</td>\n",
              "      <td>benzin</td>\n",
              "      <td>smart</td>\n",
              "      <td>nein</td>\n",
              "      <td>2016-03-12 00:00:00</td>\n",
              "      <td>0</td>\n",
              "      <td>33729</td>\n",
              "      <td>2016-03-15 03:16:28</td>\n",
              "    </tr>\n",
              "    <tr>\n",
              "      <th>4</th>\n",
              "      <td>2016-04-01 14:38:50</td>\n",
              "      <td>Ford_Focus_1_6_Benzin_TÜV_neu_ist_sehr_gepfleg...</td>\n",
              "      <td>privat</td>\n",
              "      <td>Angebot</td>\n",
              "      <td>$1,350</td>\n",
              "      <td>test</td>\n",
              "      <td>kombi</td>\n",
              "      <td>2003</td>\n",
              "      <td>manuell</td>\n",
              "      <td>0</td>\n",
              "      <td>focus</td>\n",
              "      <td>150,000km</td>\n",
              "      <td>7</td>\n",
              "      <td>benzin</td>\n",
              "      <td>ford</td>\n",
              "      <td>nein</td>\n",
              "      <td>2016-04-01 00:00:00</td>\n",
              "      <td>0</td>\n",
              "      <td>39218</td>\n",
              "      <td>2016-04-01 14:38:50</td>\n",
              "    </tr>\n",
              "  </tbody>\n",
              "</table>\n",
              "</div>"
            ],
            "text/plain": [
              "           dateCrawled  ...             lastSeen\n",
              "0  2016-03-26 17:47:46  ...  2016-04-06 06:45:54\n",
              "1  2016-04-04 13:38:56  ...  2016-04-06 14:45:08\n",
              "2  2016-03-26 18:57:24  ...  2016-04-06 20:15:37\n",
              "3  2016-03-12 16:58:10  ...  2016-03-15 03:16:28\n",
              "4  2016-04-01 14:38:50  ...  2016-04-01 14:38:50\n",
              "\n",
              "[5 rows x 20 columns]"
            ]
          },
          "metadata": {
            "tags": []
          },
          "execution_count": 4
        }
      ]
    },
    {
      "cell_type": "markdown",
      "metadata": {
        "id": "ch16cSAV1gvv"
      },
      "source": [
        "## **Rename column names: camelcase to snakecase**\n",
        "\n",
        "We decide to change column names from camelcase to snakecase to make them easier to read and avoid unnecessary typos and mistakes due to the capitalized letters. To do so, we first print out the original column names, then assign the following fixes:\n",
        "\n",
        "- yearOfRegistration to registration_year\n",
        "- monthOfRegistration to registration_month\n",
        "- notRepairedDamage to unrepaired_damage\n",
        "- dateCreated to ad_created\n",
        "- The rest of the columnn names from camelcase to snakecase.\n"
      ]
    },
    {
      "cell_type": "code",
      "metadata": {
        "id": "knAgkHMfy7D3",
        "outputId": "d4483068-1901-4e2c-828c-56ae2d25911c",
        "colab": {
          "base_uri": "https://localhost:8080/",
          "height": 119
        }
      },
      "source": [
        "autos.columns"
      ],
      "execution_count": 5,
      "outputs": [
        {
          "output_type": "execute_result",
          "data": {
            "text/plain": [
              "Index(['dateCrawled', 'name', 'seller', 'offerType', 'price', 'abtest',\n",
              "       'vehicleType', 'yearOfRegistration', 'gearbox', 'powerPS', 'model',\n",
              "       'odometer', 'monthOfRegistration', 'fuelType', 'brand',\n",
              "       'notRepairedDamage', 'dateCreated', 'nrOfPictures', 'postalCode',\n",
              "       'lastSeen'],\n",
              "      dtype='object')"
            ]
          },
          "metadata": {
            "tags": []
          },
          "execution_count": 5
        }
      ]
    },
    {
      "cell_type": "code",
      "metadata": {
        "id": "6qHySBQm3-U_",
        "outputId": "0da6a83f-aa7f-4786-96c3-14a53563cebd",
        "colab": {
          "base_uri": "https://localhost:8080/",
          "height": 394
        }
      },
      "source": [
        "autos.columns = ['date_crawled', 'name', 'seller', 'offer_type', 'price', 'abtest',\n",
        "       'vehicle_type', 'registration_year', 'gearbox', 'power_ps', 'model',\n",
        "       'odometer', 'registration_month', 'fuel_type', 'brand',\n",
        "       'unrepaired_damage', 'ad_created', 'nr_of_pictures', 'postal_code',\n",
        "       'last_seen']\n",
        "autos.head()"
      ],
      "execution_count": 6,
      "outputs": [
        {
          "output_type": "execute_result",
          "data": {
            "text/html": [
              "<div>\n",
              "<style scoped>\n",
              "    .dataframe tbody tr th:only-of-type {\n",
              "        vertical-align: middle;\n",
              "    }\n",
              "\n",
              "    .dataframe tbody tr th {\n",
              "        vertical-align: top;\n",
              "    }\n",
              "\n",
              "    .dataframe thead th {\n",
              "        text-align: right;\n",
              "    }\n",
              "</style>\n",
              "<table border=\"1\" class=\"dataframe\">\n",
              "  <thead>\n",
              "    <tr style=\"text-align: right;\">\n",
              "      <th></th>\n",
              "      <th>date_crawled</th>\n",
              "      <th>name</th>\n",
              "      <th>seller</th>\n",
              "      <th>offer_type</th>\n",
              "      <th>price</th>\n",
              "      <th>abtest</th>\n",
              "      <th>vehicle_type</th>\n",
              "      <th>registration_year</th>\n",
              "      <th>gearbox</th>\n",
              "      <th>power_ps</th>\n",
              "      <th>model</th>\n",
              "      <th>odometer</th>\n",
              "      <th>registration_month</th>\n",
              "      <th>fuel_type</th>\n",
              "      <th>brand</th>\n",
              "      <th>unrepaired_damage</th>\n",
              "      <th>ad_created</th>\n",
              "      <th>nr_of_pictures</th>\n",
              "      <th>postal_code</th>\n",
              "      <th>last_seen</th>\n",
              "    </tr>\n",
              "  </thead>\n",
              "  <tbody>\n",
              "    <tr>\n",
              "      <th>0</th>\n",
              "      <td>2016-03-26 17:47:46</td>\n",
              "      <td>Peugeot_807_160_NAVTECH_ON_BOARD</td>\n",
              "      <td>privat</td>\n",
              "      <td>Angebot</td>\n",
              "      <td>$5,000</td>\n",
              "      <td>control</td>\n",
              "      <td>bus</td>\n",
              "      <td>2004</td>\n",
              "      <td>manuell</td>\n",
              "      <td>158</td>\n",
              "      <td>andere</td>\n",
              "      <td>150,000km</td>\n",
              "      <td>3</td>\n",
              "      <td>lpg</td>\n",
              "      <td>peugeot</td>\n",
              "      <td>nein</td>\n",
              "      <td>2016-03-26 00:00:00</td>\n",
              "      <td>0</td>\n",
              "      <td>79588</td>\n",
              "      <td>2016-04-06 06:45:54</td>\n",
              "    </tr>\n",
              "    <tr>\n",
              "      <th>1</th>\n",
              "      <td>2016-04-04 13:38:56</td>\n",
              "      <td>BMW_740i_4_4_Liter_HAMANN_UMBAU_Mega_Optik</td>\n",
              "      <td>privat</td>\n",
              "      <td>Angebot</td>\n",
              "      <td>$8,500</td>\n",
              "      <td>control</td>\n",
              "      <td>limousine</td>\n",
              "      <td>1997</td>\n",
              "      <td>automatik</td>\n",
              "      <td>286</td>\n",
              "      <td>7er</td>\n",
              "      <td>150,000km</td>\n",
              "      <td>6</td>\n",
              "      <td>benzin</td>\n",
              "      <td>bmw</td>\n",
              "      <td>nein</td>\n",
              "      <td>2016-04-04 00:00:00</td>\n",
              "      <td>0</td>\n",
              "      <td>71034</td>\n",
              "      <td>2016-04-06 14:45:08</td>\n",
              "    </tr>\n",
              "    <tr>\n",
              "      <th>2</th>\n",
              "      <td>2016-03-26 18:57:24</td>\n",
              "      <td>Volkswagen_Golf_1.6_United</td>\n",
              "      <td>privat</td>\n",
              "      <td>Angebot</td>\n",
              "      <td>$8,990</td>\n",
              "      <td>test</td>\n",
              "      <td>limousine</td>\n",
              "      <td>2009</td>\n",
              "      <td>manuell</td>\n",
              "      <td>102</td>\n",
              "      <td>golf</td>\n",
              "      <td>70,000km</td>\n",
              "      <td>7</td>\n",
              "      <td>benzin</td>\n",
              "      <td>volkswagen</td>\n",
              "      <td>nein</td>\n",
              "      <td>2016-03-26 00:00:00</td>\n",
              "      <td>0</td>\n",
              "      <td>35394</td>\n",
              "      <td>2016-04-06 20:15:37</td>\n",
              "    </tr>\n",
              "    <tr>\n",
              "      <th>3</th>\n",
              "      <td>2016-03-12 16:58:10</td>\n",
              "      <td>Smart_smart_fortwo_coupe_softouch/F1/Klima/Pan...</td>\n",
              "      <td>privat</td>\n",
              "      <td>Angebot</td>\n",
              "      <td>$4,350</td>\n",
              "      <td>control</td>\n",
              "      <td>kleinwagen</td>\n",
              "      <td>2007</td>\n",
              "      <td>automatik</td>\n",
              "      <td>71</td>\n",
              "      <td>fortwo</td>\n",
              "      <td>70,000km</td>\n",
              "      <td>6</td>\n",
              "      <td>benzin</td>\n",
              "      <td>smart</td>\n",
              "      <td>nein</td>\n",
              "      <td>2016-03-12 00:00:00</td>\n",
              "      <td>0</td>\n",
              "      <td>33729</td>\n",
              "      <td>2016-03-15 03:16:28</td>\n",
              "    </tr>\n",
              "    <tr>\n",
              "      <th>4</th>\n",
              "      <td>2016-04-01 14:38:50</td>\n",
              "      <td>Ford_Focus_1_6_Benzin_TÜV_neu_ist_sehr_gepfleg...</td>\n",
              "      <td>privat</td>\n",
              "      <td>Angebot</td>\n",
              "      <td>$1,350</td>\n",
              "      <td>test</td>\n",
              "      <td>kombi</td>\n",
              "      <td>2003</td>\n",
              "      <td>manuell</td>\n",
              "      <td>0</td>\n",
              "      <td>focus</td>\n",
              "      <td>150,000km</td>\n",
              "      <td>7</td>\n",
              "      <td>benzin</td>\n",
              "      <td>ford</td>\n",
              "      <td>nein</td>\n",
              "      <td>2016-04-01 00:00:00</td>\n",
              "      <td>0</td>\n",
              "      <td>39218</td>\n",
              "      <td>2016-04-01 14:38:50</td>\n",
              "    </tr>\n",
              "  </tbody>\n",
              "</table>\n",
              "</div>"
            ],
            "text/plain": [
              "          date_crawled  ...            last_seen\n",
              "0  2016-03-26 17:47:46  ...  2016-04-06 06:45:54\n",
              "1  2016-04-04 13:38:56  ...  2016-04-06 14:45:08\n",
              "2  2016-03-26 18:57:24  ...  2016-04-06 20:15:37\n",
              "3  2016-03-12 16:58:10  ...  2016-03-15 03:16:28\n",
              "4  2016-04-01 14:38:50  ...  2016-04-01 14:38:50\n",
              "\n",
              "[5 rows x 20 columns]"
            ]
          },
          "metadata": {
            "tags": []
          },
          "execution_count": 6
        }
      ]
    },
    {
      "cell_type": "markdown",
      "metadata": {
        "id": "Kf3B-zug3Ue7"
      },
      "source": [
        "## **Some further observations**\n",
        "\n",
        "In order to decide the next cleaning tasks, we need to take a closer look at the data (now with easier-to-read columns!). The following table present some descriptive statistics of the data set."
      ]
    },
    {
      "cell_type": "code",
      "metadata": {
        "id": "YARk3Isr6vXY",
        "outputId": "0dfbe3e5-7520-4b6e-bb5b-0279e442f5cb",
        "colab": {
          "base_uri": "https://localhost:8080/",
          "height": 444
        }
      },
      "source": [
        "autos.describe(include='all')"
      ],
      "execution_count": 7,
      "outputs": [
        {
          "output_type": "execute_result",
          "data": {
            "text/html": [
              "<div>\n",
              "<style scoped>\n",
              "    .dataframe tbody tr th:only-of-type {\n",
              "        vertical-align: middle;\n",
              "    }\n",
              "\n",
              "    .dataframe tbody tr th {\n",
              "        vertical-align: top;\n",
              "    }\n",
              "\n",
              "    .dataframe thead th {\n",
              "        text-align: right;\n",
              "    }\n",
              "</style>\n",
              "<table border=\"1\" class=\"dataframe\">\n",
              "  <thead>\n",
              "    <tr style=\"text-align: right;\">\n",
              "      <th></th>\n",
              "      <th>date_crawled</th>\n",
              "      <th>name</th>\n",
              "      <th>seller</th>\n",
              "      <th>offer_type</th>\n",
              "      <th>price</th>\n",
              "      <th>abtest</th>\n",
              "      <th>vehicle_type</th>\n",
              "      <th>registration_year</th>\n",
              "      <th>gearbox</th>\n",
              "      <th>power_ps</th>\n",
              "      <th>model</th>\n",
              "      <th>odometer</th>\n",
              "      <th>registration_month</th>\n",
              "      <th>fuel_type</th>\n",
              "      <th>brand</th>\n",
              "      <th>unrepaired_damage</th>\n",
              "      <th>ad_created</th>\n",
              "      <th>nr_of_pictures</th>\n",
              "      <th>postal_code</th>\n",
              "      <th>last_seen</th>\n",
              "    </tr>\n",
              "  </thead>\n",
              "  <tbody>\n",
              "    <tr>\n",
              "      <th>count</th>\n",
              "      <td>50000</td>\n",
              "      <td>50000</td>\n",
              "      <td>50000</td>\n",
              "      <td>50000</td>\n",
              "      <td>50000</td>\n",
              "      <td>50000</td>\n",
              "      <td>44905</td>\n",
              "      <td>50000.000000</td>\n",
              "      <td>47320</td>\n",
              "      <td>50000.000000</td>\n",
              "      <td>47242</td>\n",
              "      <td>50000</td>\n",
              "      <td>50000.000000</td>\n",
              "      <td>45518</td>\n",
              "      <td>50000</td>\n",
              "      <td>40171</td>\n",
              "      <td>50000</td>\n",
              "      <td>50000.0</td>\n",
              "      <td>50000.000000</td>\n",
              "      <td>50000</td>\n",
              "    </tr>\n",
              "    <tr>\n",
              "      <th>unique</th>\n",
              "      <td>48213</td>\n",
              "      <td>38754</td>\n",
              "      <td>2</td>\n",
              "      <td>2</td>\n",
              "      <td>2357</td>\n",
              "      <td>2</td>\n",
              "      <td>8</td>\n",
              "      <td>NaN</td>\n",
              "      <td>2</td>\n",
              "      <td>NaN</td>\n",
              "      <td>245</td>\n",
              "      <td>13</td>\n",
              "      <td>NaN</td>\n",
              "      <td>7</td>\n",
              "      <td>40</td>\n",
              "      <td>2</td>\n",
              "      <td>76</td>\n",
              "      <td>NaN</td>\n",
              "      <td>NaN</td>\n",
              "      <td>39481</td>\n",
              "    </tr>\n",
              "    <tr>\n",
              "      <th>top</th>\n",
              "      <td>2016-03-19 17:36:18</td>\n",
              "      <td>Ford_Fiesta</td>\n",
              "      <td>privat</td>\n",
              "      <td>Angebot</td>\n",
              "      <td>$0</td>\n",
              "      <td>test</td>\n",
              "      <td>limousine</td>\n",
              "      <td>NaN</td>\n",
              "      <td>manuell</td>\n",
              "      <td>NaN</td>\n",
              "      <td>golf</td>\n",
              "      <td>150,000km</td>\n",
              "      <td>NaN</td>\n",
              "      <td>benzin</td>\n",
              "      <td>volkswagen</td>\n",
              "      <td>nein</td>\n",
              "      <td>2016-04-03 00:00:00</td>\n",
              "      <td>NaN</td>\n",
              "      <td>NaN</td>\n",
              "      <td>2016-04-07 06:17:27</td>\n",
              "    </tr>\n",
              "    <tr>\n",
              "      <th>freq</th>\n",
              "      <td>3</td>\n",
              "      <td>78</td>\n",
              "      <td>49999</td>\n",
              "      <td>49999</td>\n",
              "      <td>1421</td>\n",
              "      <td>25756</td>\n",
              "      <td>12859</td>\n",
              "      <td>NaN</td>\n",
              "      <td>36993</td>\n",
              "      <td>NaN</td>\n",
              "      <td>4024</td>\n",
              "      <td>32424</td>\n",
              "      <td>NaN</td>\n",
              "      <td>30107</td>\n",
              "      <td>10687</td>\n",
              "      <td>35232</td>\n",
              "      <td>1946</td>\n",
              "      <td>NaN</td>\n",
              "      <td>NaN</td>\n",
              "      <td>8</td>\n",
              "    </tr>\n",
              "    <tr>\n",
              "      <th>mean</th>\n",
              "      <td>NaN</td>\n",
              "      <td>NaN</td>\n",
              "      <td>NaN</td>\n",
              "      <td>NaN</td>\n",
              "      <td>NaN</td>\n",
              "      <td>NaN</td>\n",
              "      <td>NaN</td>\n",
              "      <td>2005.073280</td>\n",
              "      <td>NaN</td>\n",
              "      <td>116.355920</td>\n",
              "      <td>NaN</td>\n",
              "      <td>NaN</td>\n",
              "      <td>5.723360</td>\n",
              "      <td>NaN</td>\n",
              "      <td>NaN</td>\n",
              "      <td>NaN</td>\n",
              "      <td>NaN</td>\n",
              "      <td>0.0</td>\n",
              "      <td>50813.627300</td>\n",
              "      <td>NaN</td>\n",
              "    </tr>\n",
              "    <tr>\n",
              "      <th>std</th>\n",
              "      <td>NaN</td>\n",
              "      <td>NaN</td>\n",
              "      <td>NaN</td>\n",
              "      <td>NaN</td>\n",
              "      <td>NaN</td>\n",
              "      <td>NaN</td>\n",
              "      <td>NaN</td>\n",
              "      <td>105.712813</td>\n",
              "      <td>NaN</td>\n",
              "      <td>209.216627</td>\n",
              "      <td>NaN</td>\n",
              "      <td>NaN</td>\n",
              "      <td>3.711984</td>\n",
              "      <td>NaN</td>\n",
              "      <td>NaN</td>\n",
              "      <td>NaN</td>\n",
              "      <td>NaN</td>\n",
              "      <td>0.0</td>\n",
              "      <td>25779.747957</td>\n",
              "      <td>NaN</td>\n",
              "    </tr>\n",
              "    <tr>\n",
              "      <th>min</th>\n",
              "      <td>NaN</td>\n",
              "      <td>NaN</td>\n",
              "      <td>NaN</td>\n",
              "      <td>NaN</td>\n",
              "      <td>NaN</td>\n",
              "      <td>NaN</td>\n",
              "      <td>NaN</td>\n",
              "      <td>1000.000000</td>\n",
              "      <td>NaN</td>\n",
              "      <td>0.000000</td>\n",
              "      <td>NaN</td>\n",
              "      <td>NaN</td>\n",
              "      <td>0.000000</td>\n",
              "      <td>NaN</td>\n",
              "      <td>NaN</td>\n",
              "      <td>NaN</td>\n",
              "      <td>NaN</td>\n",
              "      <td>0.0</td>\n",
              "      <td>1067.000000</td>\n",
              "      <td>NaN</td>\n",
              "    </tr>\n",
              "    <tr>\n",
              "      <th>25%</th>\n",
              "      <td>NaN</td>\n",
              "      <td>NaN</td>\n",
              "      <td>NaN</td>\n",
              "      <td>NaN</td>\n",
              "      <td>NaN</td>\n",
              "      <td>NaN</td>\n",
              "      <td>NaN</td>\n",
              "      <td>1999.000000</td>\n",
              "      <td>NaN</td>\n",
              "      <td>70.000000</td>\n",
              "      <td>NaN</td>\n",
              "      <td>NaN</td>\n",
              "      <td>3.000000</td>\n",
              "      <td>NaN</td>\n",
              "      <td>NaN</td>\n",
              "      <td>NaN</td>\n",
              "      <td>NaN</td>\n",
              "      <td>0.0</td>\n",
              "      <td>30451.000000</td>\n",
              "      <td>NaN</td>\n",
              "    </tr>\n",
              "    <tr>\n",
              "      <th>50%</th>\n",
              "      <td>NaN</td>\n",
              "      <td>NaN</td>\n",
              "      <td>NaN</td>\n",
              "      <td>NaN</td>\n",
              "      <td>NaN</td>\n",
              "      <td>NaN</td>\n",
              "      <td>NaN</td>\n",
              "      <td>2003.000000</td>\n",
              "      <td>NaN</td>\n",
              "      <td>105.000000</td>\n",
              "      <td>NaN</td>\n",
              "      <td>NaN</td>\n",
              "      <td>6.000000</td>\n",
              "      <td>NaN</td>\n",
              "      <td>NaN</td>\n",
              "      <td>NaN</td>\n",
              "      <td>NaN</td>\n",
              "      <td>0.0</td>\n",
              "      <td>49577.000000</td>\n",
              "      <td>NaN</td>\n",
              "    </tr>\n",
              "    <tr>\n",
              "      <th>75%</th>\n",
              "      <td>NaN</td>\n",
              "      <td>NaN</td>\n",
              "      <td>NaN</td>\n",
              "      <td>NaN</td>\n",
              "      <td>NaN</td>\n",
              "      <td>NaN</td>\n",
              "      <td>NaN</td>\n",
              "      <td>2008.000000</td>\n",
              "      <td>NaN</td>\n",
              "      <td>150.000000</td>\n",
              "      <td>NaN</td>\n",
              "      <td>NaN</td>\n",
              "      <td>9.000000</td>\n",
              "      <td>NaN</td>\n",
              "      <td>NaN</td>\n",
              "      <td>NaN</td>\n",
              "      <td>NaN</td>\n",
              "      <td>0.0</td>\n",
              "      <td>71540.000000</td>\n",
              "      <td>NaN</td>\n",
              "    </tr>\n",
              "    <tr>\n",
              "      <th>max</th>\n",
              "      <td>NaN</td>\n",
              "      <td>NaN</td>\n",
              "      <td>NaN</td>\n",
              "      <td>NaN</td>\n",
              "      <td>NaN</td>\n",
              "      <td>NaN</td>\n",
              "      <td>NaN</td>\n",
              "      <td>9999.000000</td>\n",
              "      <td>NaN</td>\n",
              "      <td>17700.000000</td>\n",
              "      <td>NaN</td>\n",
              "      <td>NaN</td>\n",
              "      <td>12.000000</td>\n",
              "      <td>NaN</td>\n",
              "      <td>NaN</td>\n",
              "      <td>NaN</td>\n",
              "      <td>NaN</td>\n",
              "      <td>0.0</td>\n",
              "      <td>99998.000000</td>\n",
              "      <td>NaN</td>\n",
              "    </tr>\n",
              "  </tbody>\n",
              "</table>\n",
              "</div>"
            ],
            "text/plain": [
              "               date_crawled         name  ...   postal_code            last_seen\n",
              "count                 50000        50000  ...  50000.000000                50000\n",
              "unique                48213        38754  ...           NaN                39481\n",
              "top     2016-03-19 17:36:18  Ford_Fiesta  ...           NaN  2016-04-07 06:17:27\n",
              "freq                      3           78  ...           NaN                    8\n",
              "mean                    NaN          NaN  ...  50813.627300                  NaN\n",
              "std                     NaN          NaN  ...  25779.747957                  NaN\n",
              "min                     NaN          NaN  ...   1067.000000                  NaN\n",
              "25%                     NaN          NaN  ...  30451.000000                  NaN\n",
              "50%                     NaN          NaN  ...  49577.000000                  NaN\n",
              "75%                     NaN          NaN  ...  71540.000000                  NaN\n",
              "max                     NaN          NaN  ...  99998.000000                  NaN\n",
              "\n",
              "[11 rows x 20 columns]"
            ]
          },
          "metadata": {
            "tags": []
          },
          "execution_count": 7
        }
      ]
    },
    {
      "cell_type": "markdown",
      "metadata": {
        "id": "BE510y9088HZ"
      },
      "source": [
        "From the above descriptive statistics, some observations can be made as below:\n",
        "\n",
        "**1. Candidates to be dropped:**\n",
        "- **nr_of_pictures**: has no values, provide no information;\n",
        "- **seller** and **offer_type**: only have 2 unique values, values are stored as string and do not seem to provide much information.\n",
        "\n",
        "To make sure that we won't exclude valuable data, we decide to take a look at the value counts of each columns."
      ]
    },
    {
      "cell_type": "code",
      "metadata": {
        "id": "XEdqxvn1_m_F",
        "outputId": "8b6ca743-8a78-49e9-b702-2a523c87dc61",
        "colab": {
          "base_uri": "https://localhost:8080/",
          "height": 68
        }
      },
      "source": [
        "autos[\"seller\"].value_counts()"
      ],
      "execution_count": 8,
      "outputs": [
        {
          "output_type": "execute_result",
          "data": {
            "text/plain": [
              "privat        49999\n",
              "gewerblich        1\n",
              "Name: seller, dtype: int64"
            ]
          },
          "metadata": {
            "tags": []
          },
          "execution_count": 8
        }
      ]
    },
    {
      "cell_type": "code",
      "metadata": {
        "id": "E12HFwn2_wPT",
        "outputId": "276fdd8a-f126-4edc-956d-8ae185224a4e",
        "colab": {
          "base_uri": "https://localhost:8080/",
          "height": 51
        }
      },
      "source": [
        "autos[\"nr_of_pictures\"].value_counts()"
      ],
      "execution_count": 9,
      "outputs": [
        {
          "output_type": "execute_result",
          "data": {
            "text/plain": [
              "0    50000\n",
              "Name: nr_of_pictures, dtype: int64"
            ]
          },
          "metadata": {
            "tags": []
          },
          "execution_count": 9
        }
      ]
    },
    {
      "cell_type": "code",
      "metadata": {
        "id": "7dMPJT2L_xLB",
        "outputId": "d2715a03-56ac-4c3b-c10b-bd156680f0f6",
        "colab": {
          "base_uri": "https://localhost:8080/",
          "height": 68
        }
      },
      "source": [
        "autos[\"offer_type\"].value_counts()"
      ],
      "execution_count": 10,
      "outputs": [
        {
          "output_type": "execute_result",
          "data": {
            "text/plain": [
              "Angebot    49999\n",
              "Gesuch         1\n",
              "Name: offer_type, dtype: int64"
            ]
          },
          "metadata": {
            "tags": []
          },
          "execution_count": 10
        }
      ]
    },
    {
      "cell_type": "markdown",
      "metadata": {
        "id": "l0SrSn6Y5VKx"
      },
      "source": [
        "As expected, these columns indeed do not provide much information that is useful for our analysis. Therefore, we decide to exclude these columns from the dataset and moving forward with other observations."
      ]
    },
    {
      "cell_type": "code",
      "metadata": {
        "id": "2QY556tN_ylk",
        "outputId": "baf6beb2-1f19-421c-976c-bf29eecf4e23",
        "colab": {
          "base_uri": "https://localhost:8080/",
          "height": 102
        }
      },
      "source": [
        "autos.drop([\"seller\", \"nr_of_pictures\", \"offer_type\"], axis=1, inplace=True)\n",
        "autos.columns"
      ],
      "execution_count": 11,
      "outputs": [
        {
          "output_type": "execute_result",
          "data": {
            "text/plain": [
              "Index(['date_crawled', 'name', 'price', 'abtest', 'vehicle_type',\n",
              "       'registration_year', 'gearbox', 'power_ps', 'model', 'odometer',\n",
              "       'registration_month', 'fuel_type', 'brand', 'unrepaired_damage',\n",
              "       'ad_created', 'postal_code', 'last_seen'],\n",
              "      dtype='object')"
            ]
          },
          "metadata": {
            "tags": []
          },
          "execution_count": 11
        }
      ]
    },
    {
      "cell_type": "markdown",
      "metadata": {
        "id": "ZjeP230a45QK"
      },
      "source": [
        "**2. Columns that need more investigation:**\n",
        "- **registration_year**: the min and max values are suspicous. This column provides information about *The year in which the car was first registered*. Obviously, a car cannot be registered before car was invented (1800s) or in the future.\n",
        "- **registration_month**: the min value shows 0, which is also suspicous since the month values should range from 1 to 12.\n",
        "\n",
        "We will take a further look into these columns later on when we work with Dates and Times. For now, we will keep moving on with other observations."
      ]
    },
    {
      "cell_type": "code",
      "metadata": {
        "id": "x9Lu_ynXB4k5",
        "outputId": "bca3ef7e-6092-4b47-f962-b22e239dbc00",
        "colab": {
          "base_uri": "https://localhost:8080/",
          "height": 255
        }
      },
      "source": [
        "autos[\"registration_month\"].value_counts()"
      ],
      "execution_count": 12,
      "outputs": [
        {
          "output_type": "execute_result",
          "data": {
            "text/plain": [
              "0     5075\n",
              "3     5071\n",
              "6     4368\n",
              "5     4107\n",
              "4     4102\n",
              "7     3949\n",
              "10    3651\n",
              "12    3447\n",
              "9     3389\n",
              "11    3360\n",
              "1     3282\n",
              "8     3191\n",
              "2     3008\n",
              "Name: registration_month, dtype: int64"
            ]
          },
          "metadata": {
            "tags": []
          },
          "execution_count": 12
        }
      ]
    },
    {
      "cell_type": "code",
      "metadata": {
        "id": "8jTMlcleCKJd",
        "outputId": "f9051533-4ca8-4598-9812-6758607ba31e",
        "colab": {
          "base_uri": "https://localhost:8080/",
          "height": 221
        }
      },
      "source": [
        "autos[\"registration_year\"].value_counts()"
      ],
      "execution_count": 13,
      "outputs": [
        {
          "output_type": "execute_result",
          "data": {
            "text/plain": [
              "2000    3354\n",
              "2005    3015\n",
              "1999    3000\n",
              "2004    2737\n",
              "2003    2727\n",
              "        ... \n",
              "1931       1\n",
              "1929       1\n",
              "1001       1\n",
              "9996       1\n",
              "1952       1\n",
              "Name: registration_year, Length: 97, dtype: int64"
            ]
          },
          "metadata": {
            "tags": []
          },
          "execution_count": 13
        }
      ]
    },
    {
      "cell_type": "markdown",
      "metadata": {
        "id": "mUHzmmVM5AI8"
      },
      "source": [
        "**3. Columns with numeric data stored as text**\n",
        "- price: the values contain special characters (e.g., $5,000)\n",
        "- odometer: the values contain the unit ('km') and special character (',') (e.g., 5,000km)\n",
        "\n",
        "We return the correct data types for these columns, we remove such characters and convert the data into numberic values. We also rename these columns as follow:\n",
        "- price to price_usd\n",
        "- odometer to odometer_km\n",
        "\n",
        "These changes are necessary for us to keep track of the unit of these values."
      ]
    },
    {
      "cell_type": "code",
      "metadata": {
        "id": "Md0Ap0sFCehF",
        "outputId": "02c71f42-8f13-431e-f2a6-08e97b2831ba",
        "colab": {
          "base_uri": "https://localhost:8080/",
          "height": 221
        }
      },
      "source": [
        "autos[\"price\"] = autos[\"price\"].str.replace(\"$\",\"\").str.replace(\",\",\"\").astype(int)\n",
        "autos.rename({\"price\":\"price_usd\"}, axis=1, inplace=True)\n",
        "autos[\"price_usd\"]"
      ],
      "execution_count": 14,
      "outputs": [
        {
          "output_type": "execute_result",
          "data": {
            "text/plain": [
              "0         5000\n",
              "1         8500\n",
              "2         8990\n",
              "3         4350\n",
              "4         1350\n",
              "         ...  \n",
              "49995    24900\n",
              "49996     1980\n",
              "49997    13200\n",
              "49998    22900\n",
              "49999     1250\n",
              "Name: price_usd, Length: 50000, dtype: int64"
            ]
          },
          "metadata": {
            "tags": []
          },
          "execution_count": 14
        }
      ]
    },
    {
      "cell_type": "code",
      "metadata": {
        "id": "E3IQszsNDe6H",
        "outputId": "2fcc71ab-224c-49a2-e6f2-e3b36760bed3",
        "colab": {
          "base_uri": "https://localhost:8080/",
          "height": 221
        }
      },
      "source": [
        "autos[\"odometer\"] = autos[\"odometer\"].str.replace(\"km\",\"\").str.replace(\",\",\"\").astype(int)\n",
        "autos.rename({\"odometer\":\"odometer_km\"}, axis=1, inplace=True)\n",
        "autos[\"odometer_km\"]"
      ],
      "execution_count": 15,
      "outputs": [
        {
          "output_type": "execute_result",
          "data": {
            "text/plain": [
              "0        150000\n",
              "1        150000\n",
              "2         70000\n",
              "3         70000\n",
              "4        150000\n",
              "          ...  \n",
              "49995    100000\n",
              "49996    150000\n",
              "49997      5000\n",
              "49998     40000\n",
              "49999    150000\n",
              "Name: odometer_km, Length: 50000, dtype: int64"
            ]
          },
          "metadata": {
            "tags": []
          },
          "execution_count": 15
        }
      ]
    },
    {
      "cell_type": "markdown",
      "metadata": {
        "id": "jrG0KAdt--Ka"
      },
      "source": [
        "## **Working with price_usd and odometer_usd**"
      ]
    },
    {
      "cell_type": "markdown",
      "metadata": {
        "id": "JD0jEK459Bh5"
      },
      "source": [
        "With the two columns now converted to numberic values, we can re-run the descriptive statistics for these columns."
      ]
    },
    {
      "cell_type": "markdown",
      "metadata": {
        "id": "VyN6cCHpAOyo"
      },
      "source": [
        "**1. price_usd**"
      ]
    },
    {
      "cell_type": "code",
      "metadata": {
        "id": "7r5zGNSOKCWM",
        "outputId": "0acc670e-665a-445b-9ffa-ac1c1805a1e6",
        "colab": {
          "base_uri": "https://localhost:8080/",
          "height": 170
        }
      },
      "source": [
        "autos[\"price_usd\"].describe()"
      ],
      "execution_count": 16,
      "outputs": [
        {
          "output_type": "execute_result",
          "data": {
            "text/plain": [
              "count    5.000000e+04\n",
              "mean     9.840044e+03\n",
              "std      4.811044e+05\n",
              "min      0.000000e+00\n",
              "25%      1.100000e+03\n",
              "50%      2.950000e+03\n",
              "75%      7.200000e+03\n",
              "max      1.000000e+08\n",
              "Name: price_usd, dtype: float64"
            ]
          },
          "metadata": {
            "tags": []
          },
          "execution_count": 16
        }
      ]
    },
    {
      "cell_type": "code",
      "metadata": {
        "id": "xiW-yhZgKx9C",
        "outputId": "3dd02502-73f5-4598-b423-784f00a3ba2f",
        "colab": {
          "base_uri": "https://localhost:8080/",
          "height": 204
        }
      },
      "source": [
        "autos[\"price_usd\"].value_counts().sort_index(ascending=False).head(10)"
      ],
      "execution_count": 17,
      "outputs": [
        {
          "output_type": "execute_result",
          "data": {
            "text/plain": [
              "99999999    1\n",
              "27322222    1\n",
              "12345678    3\n",
              "11111111    2\n",
              "10000000    1\n",
              "3890000     1\n",
              "1300000     1\n",
              "1234566     1\n",
              "999999      2\n",
              "999990      1\n",
              "Name: price_usd, dtype: int64"
            ]
          },
          "metadata": {
            "tags": []
          },
          "execution_count": 17
        }
      ]
    },
    {
      "cell_type": "markdown",
      "metadata": {
        "id": "Z2KKAbx19ZOC"
      },
      "source": [
        "The value counts table above of the column price_usd raises some suspicions. For example, some cars are being sold for $100 millions. We don't think these listings are realistic and reasonale, thus we decide to exclude listings with prices higher than 100,000 USD from the dataset.\n"
      ]
    },
    {
      "cell_type": "code",
      "metadata": {
        "id": "gIVT3v9jMFKD",
        "outputId": "66798494-6400-4a81-ca07-825d546bad49",
        "colab": {
          "base_uri": "https://localhost:8080/",
          "height": 359
        }
      },
      "source": [
        "autos_high = autos[autos[\"price_usd\"] > 100000]\n",
        "autos_high[[\"name\", \"price_usd\"]].sort_values(\"price_usd\", ascending=False).head(10)"
      ],
      "execution_count": 18,
      "outputs": [
        {
          "output_type": "execute_result",
          "data": {
            "text/html": [
              "<div>\n",
              "<style scoped>\n",
              "    .dataframe tbody tr th:only-of-type {\n",
              "        vertical-align: middle;\n",
              "    }\n",
              "\n",
              "    .dataframe tbody tr th {\n",
              "        vertical-align: top;\n",
              "    }\n",
              "\n",
              "    .dataframe thead th {\n",
              "        text-align: right;\n",
              "    }\n",
              "</style>\n",
              "<table border=\"1\" class=\"dataframe\">\n",
              "  <thead>\n",
              "    <tr style=\"text-align: right;\">\n",
              "      <th></th>\n",
              "      <th>name</th>\n",
              "      <th>price_usd</th>\n",
              "    </tr>\n",
              "  </thead>\n",
              "  <tbody>\n",
              "    <tr>\n",
              "      <th>39705</th>\n",
              "      <td>Tausch_gegen_gleichwertiges</td>\n",
              "      <td>99999999</td>\n",
              "    </tr>\n",
              "    <tr>\n",
              "      <th>42221</th>\n",
              "      <td>Leasinguebernahme</td>\n",
              "      <td>27322222</td>\n",
              "    </tr>\n",
              "    <tr>\n",
              "      <th>39377</th>\n",
              "      <td>Tausche_volvo_v40_gegen_van</td>\n",
              "      <td>12345678</td>\n",
              "    </tr>\n",
              "    <tr>\n",
              "      <th>27371</th>\n",
              "      <td>Fiat_Punto</td>\n",
              "      <td>12345678</td>\n",
              "    </tr>\n",
              "    <tr>\n",
              "      <th>47598</th>\n",
              "      <td>Opel_Vectra_B_1_6i_16V_Facelift_Tuning_Showcar...</td>\n",
              "      <td>12345678</td>\n",
              "    </tr>\n",
              "    <tr>\n",
              "      <th>2897</th>\n",
              "      <td>Escort_MK_1_Hundeknochen_zum_umbauen_auf_RS_2000</td>\n",
              "      <td>11111111</td>\n",
              "    </tr>\n",
              "    <tr>\n",
              "      <th>24384</th>\n",
              "      <td>Schlachte_Golf_3_gt_tdi</td>\n",
              "      <td>11111111</td>\n",
              "    </tr>\n",
              "    <tr>\n",
              "      <th>11137</th>\n",
              "      <td>suche_maserati_3200_gt_Zustand_unwichtig_laufe...</td>\n",
              "      <td>10000000</td>\n",
              "    </tr>\n",
              "    <tr>\n",
              "      <th>47634</th>\n",
              "      <td>Ferrari_FXX</td>\n",
              "      <td>3890000</td>\n",
              "    </tr>\n",
              "    <tr>\n",
              "      <th>7814</th>\n",
              "      <td>Ferrari_F40</td>\n",
              "      <td>1300000</td>\n",
              "    </tr>\n",
              "  </tbody>\n",
              "</table>\n",
              "</div>"
            ],
            "text/plain": [
              "                                                    name  price_usd\n",
              "39705                        Tausch_gegen_gleichwertiges   99999999\n",
              "42221                                  Leasinguebernahme   27322222\n",
              "39377                        Tausche_volvo_v40_gegen_van   12345678\n",
              "27371                                         Fiat_Punto   12345678\n",
              "47598  Opel_Vectra_B_1_6i_16V_Facelift_Tuning_Showcar...   12345678\n",
              "2897    Escort_MK_1_Hundeknochen_zum_umbauen_auf_RS_2000   11111111\n",
              "24384                            Schlachte_Golf_3_gt_tdi   11111111\n",
              "11137  suche_maserati_3200_gt_Zustand_unwichtig_laufe...   10000000\n",
              "47634                                        Ferrari_FXX    3890000\n",
              "7814                                         Ferrari_F40    1300000"
            ]
          },
          "metadata": {
            "tags": []
          },
          "execution_count": 18
        }
      ]
    },
    {
      "cell_type": "markdown",
      "metadata": {
        "id": "5GvOnLh_-8FC"
      },
      "source": [
        "On the lower end, there are also some odd listings with cars being sold for free."
      ]
    },
    {
      "cell_type": "code",
      "metadata": {
        "id": "zpf0pNcvLgNS",
        "outputId": "fed2c7f8-c8a2-45e7-a409-6bb9d0437a21",
        "colab": {
          "base_uri": "https://localhost:8080/",
          "height": 204
        }
      },
      "source": [
        "autos[\"price_usd\"].value_counts().sort_index(ascending=True).head(10)"
      ],
      "execution_count": 19,
      "outputs": [
        {
          "output_type": "execute_result",
          "data": {
            "text/plain": [
              "0     1421\n",
              "1      156\n",
              "2        3\n",
              "3        1\n",
              "5        2\n",
              "8        1\n",
              "9        1\n",
              "10       7\n",
              "11       2\n",
              "12       3\n",
              "Name: price_usd, dtype: int64"
            ]
          },
          "metadata": {
            "tags": []
          },
          "execution_count": 19
        }
      ]
    },
    {
      "cell_type": "code",
      "metadata": {
        "id": "eiAVZhMzN_z2",
        "outputId": "564f5462-ad2d-44c8-dc9d-4bd3f8e0f72f",
        "colab": {
          "base_uri": "https://localhost:8080/",
          "height": 359
        }
      },
      "source": [
        "autos_low = autos[autos[\"price_usd\"] < 10]\n",
        "autos_low[[\"name\", \"price_usd\"]].sort_values(\"price_usd\", ascending=True).head(10)"
      ],
      "execution_count": 20,
      "outputs": [
        {
          "output_type": "execute_result",
          "data": {
            "text/html": [
              "<div>\n",
              "<style scoped>\n",
              "    .dataframe tbody tr th:only-of-type {\n",
              "        vertical-align: middle;\n",
              "    }\n",
              "\n",
              "    .dataframe tbody tr th {\n",
              "        vertical-align: top;\n",
              "    }\n",
              "\n",
              "    .dataframe thead th {\n",
              "        text-align: right;\n",
              "    }\n",
              "</style>\n",
              "<table border=\"1\" class=\"dataframe\">\n",
              "  <thead>\n",
              "    <tr style=\"text-align: right;\">\n",
              "      <th></th>\n",
              "      <th>name</th>\n",
              "      <th>price_usd</th>\n",
              "    </tr>\n",
              "  </thead>\n",
              "  <tbody>\n",
              "    <tr>\n",
              "      <th>27</th>\n",
              "      <td>Hat_einer_Ahnung_mit_Ford_Galaxy_HILFE</td>\n",
              "      <td>0</td>\n",
              "    </tr>\n",
              "    <tr>\n",
              "      <th>32072</th>\n",
              "      <td>Suche_3_Golf_GTi</td>\n",
              "      <td>0</td>\n",
              "    </tr>\n",
              "    <tr>\n",
              "      <th>32042</th>\n",
              "      <td>VERSCHENKE_DEN_REST_DES_BMW_e39_mit_Kfz_Brief</td>\n",
              "      <td>0</td>\n",
              "    </tr>\n",
              "    <tr>\n",
              "      <th>32029</th>\n",
              "      <td>Achtung_Tausche_BMW_E36_Automatic_1_8_Nur_Taus...</td>\n",
              "      <td>0</td>\n",
              "    </tr>\n",
              "    <tr>\n",
              "      <th>32024</th>\n",
              "      <td>Opel_Corsa</td>\n",
              "      <td>0</td>\n",
              "    </tr>\n",
              "    <tr>\n",
              "      <th>31924</th>\n",
              "      <td>VW_Polo_G40</td>\n",
              "      <td>0</td>\n",
              "    </tr>\n",
              "    <tr>\n",
              "      <th>31911</th>\n",
              "      <td>Golf_3_1_8_90_pls_TÜV_bis_06/2017</td>\n",
              "      <td>0</td>\n",
              "    </tr>\n",
              "    <tr>\n",
              "      <th>31876</th>\n",
              "      <td>Passat_1.8_Turbo___ATM_chip_ca._185ps</td>\n",
              "      <td>0</td>\n",
              "    </tr>\n",
              "    <tr>\n",
              "      <th>31858</th>\n",
              "      <td>Opel_corsa_B__ECO__1.0_tauschen_gegen_handy</td>\n",
              "      <td>0</td>\n",
              "    </tr>\n",
              "    <tr>\n",
              "      <th>31819</th>\n",
              "      <td>Audi_A6_quattro_2.5tdi</td>\n",
              "      <td>0</td>\n",
              "    </tr>\n",
              "  </tbody>\n",
              "</table>\n",
              "</div>"
            ],
            "text/plain": [
              "                                                    name  price_usd\n",
              "27                Hat_einer_Ahnung_mit_Ford_Galaxy_HILFE          0\n",
              "32072                                   Suche_3_Golf_GTi          0\n",
              "32042      VERSCHENKE_DEN_REST_DES_BMW_e39_mit_Kfz_Brief          0\n",
              "32029  Achtung_Tausche_BMW_E36_Automatic_1_8_Nur_Taus...          0\n",
              "32024                                         Opel_Corsa          0\n",
              "31924                                        VW_Polo_G40          0\n",
              "31911                  Golf_3_1_8_90_pls_TÜV_bis_06/2017          0\n",
              "31876              Passat_1.8_Turbo___ATM_chip_ca._185ps          0\n",
              "31858        Opel_corsa_B__ECO__1.0_tauschen_gegen_handy          0\n",
              "31819                             Audi_A6_quattro_2.5tdi          0"
            ]
          },
          "metadata": {
            "tags": []
          },
          "execution_count": 20
        }
      ]
    },
    {
      "cell_type": "markdown",
      "metadata": {
        "id": "m2ajhGXTQB20"
      },
      "source": [
        "Since this is an auction site, we should expect to see a lot of listings with a starting price at zero. These listings might be probably crawled right after they were listed and had no bidding yet, hence the zero price.\n",
        "\n",
        "Since we cannot know the settled prices of these listings, we think it's appropriate to remove them and limit our analysis to a price range of 500 - 100,000 USD. With this, the dataset now consists of 45,058 data points."
      ]
    },
    {
      "cell_type": "code",
      "metadata": {
        "id": "QKEZ_6QDPis4",
        "outputId": "e6727634-6f04-4ee0-b87f-1b94fee49725",
        "colab": {
          "base_uri": "https://localhost:8080/",
          "height": 425
        }
      },
      "source": [
        "autos = autos[autos[\"price_usd\"].between(500,100000)]\n",
        "autos.info()"
      ],
      "execution_count": 21,
      "outputs": [
        {
          "output_type": "stream",
          "text": [
            "<class 'pandas.core.frame.DataFrame'>\n",
            "Int64Index: 45058 entries, 0 to 49999\n",
            "Data columns (total 17 columns):\n",
            " #   Column              Non-Null Count  Dtype \n",
            "---  ------              --------------  ----- \n",
            " 0   date_crawled        45058 non-null  object\n",
            " 1   name                45058 non-null  object\n",
            " 2   price_usd           45058 non-null  int64 \n",
            " 3   abtest              45058 non-null  object\n",
            " 4   vehicle_type        41384 non-null  object\n",
            " 5   registration_year   45058 non-null  int64 \n",
            " 6   gearbox             43247 non-null  object\n",
            " 7   power_ps            45058 non-null  int64 \n",
            " 8   model               42998 non-null  object\n",
            " 9   odometer_km         45058 non-null  int64 \n",
            " 10  registration_month  45058 non-null  int64 \n",
            " 11  fuel_type           41862 non-null  object\n",
            " 12  brand               45058 non-null  object\n",
            " 13  unrepaired_damage   37543 non-null  object\n",
            " 14  ad_created          45058 non-null  object\n",
            " 15  postal_code         45058 non-null  int64 \n",
            " 16  last_seen           45058 non-null  object\n",
            "dtypes: int64(6), object(11)\n",
            "memory usage: 6.2+ MB\n"
          ],
          "name": "stdout"
        }
      ]
    },
    {
      "cell_type": "markdown",
      "metadata": {
        "id": "UNwFiE7RAUjD"
      },
      "source": [
        "**2. odometer_km**"
      ]
    },
    {
      "cell_type": "code",
      "metadata": {
        "id": "H6-Pmo_fSeZ8",
        "outputId": "00445ec0-271c-4f11-9d23-088892c4ac1e",
        "colab": {
          "base_uri": "https://localhost:8080/",
          "height": 170
        }
      },
      "source": [
        "autos[\"odometer_km\"].describe()"
      ],
      "execution_count": 22,
      "outputs": [
        {
          "output_type": "execute_result",
          "data": {
            "text/plain": [
              "count     45058.000000\n",
              "mean     125364.752097\n",
              "std       39542.959058\n",
              "min        5000.000000\n",
              "25%      100000.000000\n",
              "50%      150000.000000\n",
              "75%      150000.000000\n",
              "max      150000.000000\n",
              "Name: odometer_km, dtype: float64"
            ]
          },
          "metadata": {
            "tags": []
          },
          "execution_count": 22
        }
      ]
    },
    {
      "cell_type": "code",
      "metadata": {
        "id": "1MZf9hagS1L8",
        "outputId": "e4c99b7d-1374-4568-cbcd-d68257fb4f6b",
        "colab": {
          "base_uri": "https://localhost:8080/",
          "height": 255
        }
      },
      "source": [
        "autos[\"odometer_km\"].value_counts().sort_index(ascending=False)"
      ],
      "execution_count": 23,
      "outputs": [
        {
          "output_type": "execute_result",
          "data": {
            "text/plain": [
              "150000    28695\n",
              "125000     4836\n",
              "100000     2029\n",
              "90000      1676\n",
              "80000      1384\n",
              "70000      1189\n",
              "60000      1129\n",
              "50000       994\n",
              "40000       807\n",
              "30000       759\n",
              "20000       719\n",
              "10000       234\n",
              "5000        607\n",
              "Name: odometer_km, dtype: int64"
            ]
          },
          "metadata": {
            "tags": []
          },
          "execution_count": 23
        }
      ]
    },
    {
      "cell_type": "markdown",
      "metadata": {
        "id": "9AtIZ7gYTT_M"
      },
      "source": [
        "From the descriptive statistics table, we can see that there aren't much of unique values in this column. We believe these options are likely set by eBay and users can only choose the closest value for their cars. The majority of listings are used cars with high mileage."
      ]
    },
    {
      "cell_type": "markdown",
      "metadata": {
        "id": "Imeu4B27A4ht"
      },
      "source": [
        "## **Working with dates**\n",
        "\n",
        "**1. date_crawled & last_seen**\n",
        "\n",
        "We decide to clean and analyze these two columns together since they contains the dates and times associating with the crawler's task.\n",
        "\n",
        "At the first glance, we can see that the three columns have the same format with the first 10 characters denoting date and the rest denoting time.\n"
      ]
    },
    {
      "cell_type": "code",
      "metadata": {
        "id": "wBksTvbYCRAe",
        "outputId": "b972ae7d-5e02-45ee-fc8e-8cc1557d64a9",
        "colab": {
          "base_uri": "https://localhost:8080/",
          "height": 204
        }
      },
      "source": [
        "autos[['date_crawled','ad_created','last_seen']][0:5]"
      ],
      "execution_count": 24,
      "outputs": [
        {
          "output_type": "execute_result",
          "data": {
            "text/html": [
              "<div>\n",
              "<style scoped>\n",
              "    .dataframe tbody tr th:only-of-type {\n",
              "        vertical-align: middle;\n",
              "    }\n",
              "\n",
              "    .dataframe tbody tr th {\n",
              "        vertical-align: top;\n",
              "    }\n",
              "\n",
              "    .dataframe thead th {\n",
              "        text-align: right;\n",
              "    }\n",
              "</style>\n",
              "<table border=\"1\" class=\"dataframe\">\n",
              "  <thead>\n",
              "    <tr style=\"text-align: right;\">\n",
              "      <th></th>\n",
              "      <th>date_crawled</th>\n",
              "      <th>ad_created</th>\n",
              "      <th>last_seen</th>\n",
              "    </tr>\n",
              "  </thead>\n",
              "  <tbody>\n",
              "    <tr>\n",
              "      <th>0</th>\n",
              "      <td>2016-03-26 17:47:46</td>\n",
              "      <td>2016-03-26 00:00:00</td>\n",
              "      <td>2016-04-06 06:45:54</td>\n",
              "    </tr>\n",
              "    <tr>\n",
              "      <th>1</th>\n",
              "      <td>2016-04-04 13:38:56</td>\n",
              "      <td>2016-04-04 00:00:00</td>\n",
              "      <td>2016-04-06 14:45:08</td>\n",
              "    </tr>\n",
              "    <tr>\n",
              "      <th>2</th>\n",
              "      <td>2016-03-26 18:57:24</td>\n",
              "      <td>2016-03-26 00:00:00</td>\n",
              "      <td>2016-04-06 20:15:37</td>\n",
              "    </tr>\n",
              "    <tr>\n",
              "      <th>3</th>\n",
              "      <td>2016-03-12 16:58:10</td>\n",
              "      <td>2016-03-12 00:00:00</td>\n",
              "      <td>2016-03-15 03:16:28</td>\n",
              "    </tr>\n",
              "    <tr>\n",
              "      <th>4</th>\n",
              "      <td>2016-04-01 14:38:50</td>\n",
              "      <td>2016-04-01 00:00:00</td>\n",
              "      <td>2016-04-01 14:38:50</td>\n",
              "    </tr>\n",
              "  </tbody>\n",
              "</table>\n",
              "</div>"
            ],
            "text/plain": [
              "          date_crawled           ad_created            last_seen\n",
              "0  2016-03-26 17:47:46  2016-03-26 00:00:00  2016-04-06 06:45:54\n",
              "1  2016-04-04 13:38:56  2016-04-04 00:00:00  2016-04-06 14:45:08\n",
              "2  2016-03-26 18:57:24  2016-03-26 00:00:00  2016-04-06 20:15:37\n",
              "3  2016-03-12 16:58:10  2016-03-12 00:00:00  2016-03-15 03:16:28\n",
              "4  2016-04-01 14:38:50  2016-04-01 00:00:00  2016-04-01 14:38:50"
            ]
          },
          "metadata": {
            "tags": []
          },
          "execution_count": 24
        }
      ]
    },
    {
      "cell_type": "markdown",
      "metadata": {
        "id": "ilYERWCMCkCf"
      },
      "source": [
        "We think the provided time is too granular and decide to work with only the date instead. Below is the distribution (in percentage) of the listings by date_crawled."
      ]
    },
    {
      "cell_type": "code",
      "metadata": {
        "id": "x6_ao4JXTjtY",
        "outputId": "a5d74d3f-834f-46d5-8e8a-cabce92840c4",
        "colab": {
          "base_uri": "https://localhost:8080/",
          "height": 612
        }
      },
      "source": [
        "autos[\"date_crawled\"].str[:10].value_counts(normalize=True, dropna=False).sort_index(ascending=True)"
      ],
      "execution_count": 25,
      "outputs": [
        {
          "output_type": "execute_result",
          "data": {
            "text/plain": [
              "2016-03-05    0.025545\n",
              "2016-03-06    0.014137\n",
              "2016-03-07    0.036220\n",
              "2016-03-08    0.033157\n",
              "2016-03-09    0.032913\n",
              "2016-03-10    0.032736\n",
              "2016-03-11    0.033046\n",
              "2016-03-12    0.037330\n",
              "2016-03-13    0.015536\n",
              "2016-03-14    0.036331\n",
              "2016-03-15    0.034001\n",
              "2016-03-16    0.029362\n",
              "2016-03-17    0.031160\n",
              "2016-03-18    0.012850\n",
              "2016-03-19    0.034777\n",
              "2016-03-20    0.038084\n",
              "2016-03-21    0.037729\n",
              "2016-03-22    0.032935\n",
              "2016-03-23    0.032403\n",
              "2016-03-24    0.028985\n",
              "2016-03-25    0.031093\n",
              "2016-03-26    0.032625\n",
              "2016-03-27    0.031160\n",
              "2016-03-28    0.034822\n",
              "2016-03-29    0.033290\n",
              "2016-03-30    0.033290\n",
              "2016-03-31    0.031670\n",
              "2016-04-01    0.033867\n",
              "2016-04-02    0.035798\n",
              "2016-04-03    0.038817\n",
              "2016-04-04    0.036642\n",
              "2016-04-05    0.013161\n",
              "2016-04-06    0.003174\n",
              "2016-04-07    0.001354\n",
              "Name: date_crawled, dtype: float64"
            ]
          },
          "metadata": {
            "tags": []
          },
          "execution_count": 25
        }
      ]
    },
    {
      "cell_type": "markdown",
      "metadata": {
        "id": "4D59dLUxKBgG"
      },
      "source": [
        "Given the continous date and the relatively consistent distribution, we can conclude that the data was crawled on a daily basis from March 03, 2016 to April 07, 2016. There are some days that the distributions were noticeably lower than others' (e.g., 2016-03-06, 2016-03-13). We think the crawler took a break during these days.\n",
        "\n",
        "We also take a look at the distribution table of the last_seen column."
      ]
    },
    {
      "cell_type": "code",
      "metadata": {
        "id": "sLTeFb_fmmlQ",
        "outputId": "a9831ea5-8ebe-4915-e532-eca270861ee1",
        "colab": {
          "base_uri": "https://localhost:8080/",
          "height": 612
        }
      },
      "source": [
        "autos[\"last_seen\"].str[:10].value_counts(normalize=True, dropna=False).sort_index(ascending=True)"
      ],
      "execution_count": 26,
      "outputs": [
        {
          "output_type": "execute_result",
          "data": {
            "text/plain": [
              "2016-03-05    0.001087\n",
              "2016-03-06    0.004172\n",
              "2016-03-07    0.005216\n",
              "2016-03-08    0.007013\n",
              "2016-03-09    0.009454\n",
              "2016-03-10    0.010298\n",
              "2016-03-11    0.012051\n",
              "2016-03-12    0.023925\n",
              "2016-03-13    0.008877\n",
              "2016-03-14    0.012295\n",
              "2016-03-15    0.015691\n",
              "2016-03-16    0.016157\n",
              "2016-03-17    0.027698\n",
              "2016-03-18    0.007390\n",
              "2016-03-19    0.015425\n",
              "2016-03-20    0.020418\n",
              "2016-03-21    0.020662\n",
              "2016-03-22    0.021261\n",
              "2016-03-23    0.018399\n",
              "2016-03-24    0.019508\n",
              "2016-03-25    0.018598\n",
              "2016-03-26    0.016423\n",
              "2016-03-27    0.015447\n",
              "2016-03-28    0.020529\n",
              "2016-03-29    0.021372\n",
              "2016-03-30    0.024169\n",
              "2016-03-31    0.023459\n",
              "2016-04-01    0.022882\n",
              "2016-04-02    0.024879\n",
              "2016-04-03    0.024946\n",
              "2016-04-04    0.024324\n",
              "2016-04-05    0.126481\n",
              "2016-04-06    0.225354\n",
              "2016-04-07    0.134138\n",
              "Name: last_seen, dtype: float64"
            ]
          },
          "metadata": {
            "tags": []
          },
          "execution_count": 26
        }
      ]
    },
    {
      "cell_type": "markdown",
      "metadata": {
        "id": "Kd52pWFym6op"
      },
      "source": [
        "This column has the same date range as date_crawled but there was an increasing trend of distribution toward the end of the period. However, this does not essentially mean that more cars were sold since this column only tells us the time when the ad was last seen by the crawler. As of now, this column does not provide much insights."
      ]
    },
    {
      "cell_type": "markdown",
      "metadata": {
        "id": "cJztc4XND78v"
      },
      "source": [
        "**2. ad_created**"
      ]
    },
    {
      "cell_type": "code",
      "metadata": {
        "id": "LEdvZAKmYqd_",
        "outputId": "19addf15-6f5d-4ee3-9516-6ca9f03b86e0",
        "colab": {
          "base_uri": "https://localhost:8080/",
          "height": 221
        }
      },
      "source": [
        "autos[\"ad_created\"].str[:10].value_counts(normalize=True, dropna=False).sort_index(ascending=True)"
      ],
      "execution_count": 27,
      "outputs": [
        {
          "output_type": "execute_result",
          "data": {
            "text/plain": [
              "2015-06-11    0.000022\n",
              "2015-08-10    0.000022\n",
              "2015-09-09    0.000022\n",
              "2015-11-10    0.000022\n",
              "2015-12-05    0.000022\n",
              "                ...   \n",
              "2016-04-03    0.039039\n",
              "2016-04-04    0.037019\n",
              "2016-04-05    0.011896\n",
              "2016-04-06    0.003262\n",
              "2016-04-07    0.001198\n",
              "Name: ad_created, Length: 76, dtype: float64"
            ]
          },
          "metadata": {
            "tags": []
          },
          "execution_count": 27
        }
      ]
    },
    {
      "cell_type": "markdown",
      "metadata": {
        "id": "b9sZV8PcEUQQ"
      },
      "source": [
        "Applying the same analysis method to this column, we can see that the dates were discontinous in 2015 and early 2016, and the distribution is minimal as compared to late 2016. A possible explanation is that more people are selling cars and using eBay to advertise their sales."
      ]
    },
    {
      "cell_type": "markdown",
      "metadata": {
        "id": "sPkLcYn5E_Jt"
      },
      "source": [
        "**3. registration_year & registration_month**\n",
        "\n",
        "As mentioned in the previous section, this column has some suspicous data that requires our attention. We first look into its decriptive statistics."
      ]
    },
    {
      "cell_type": "code",
      "metadata": {
        "id": "R4giyRMxof9X",
        "outputId": "8f2a5ce5-d249-4cb1-cc16-695811ff3236",
        "colab": {
          "base_uri": "https://localhost:8080/",
          "height": 170
        }
      },
      "source": [
        "autos[\"registration_year\"].describe()"
      ],
      "execution_count": 28,
      "outputs": [
        {
          "output_type": "execute_result",
          "data": {
            "text/plain": [
              "count    45058.000000\n",
              "mean      2005.063918\n",
              "std         89.689852\n",
              "min       1000.000000\n",
              "25%       2000.000000\n",
              "50%       2004.000000\n",
              "75%       2008.000000\n",
              "max       9999.000000\n",
              "Name: registration_year, dtype: float64"
            ]
          },
          "metadata": {
            "tags": []
          },
          "execution_count": 28
        }
      ]
    },
    {
      "cell_type": "markdown",
      "metadata": {
        "id": "VHGOCYUlolDE"
      },
      "source": [
        "The min and max values do not make sense since car was not invented in 1000 and cannot be registered in the future. We decide to take a closer look into this column data and display the top and bottom results."
      ]
    },
    {
      "cell_type": "code",
      "metadata": {
        "id": "LSoVR3cRqezZ",
        "outputId": "f231cd23-ddbf-4d48-ee1f-ddc73eddec90",
        "colab": {
          "base_uri": "https://localhost:8080/",
          "height": 238
        }
      },
      "source": [
        "print(autos[\"registration_year\"].value_counts().sort_index(ascending=True).head(5))\n",
        "print(autos[\"registration_year\"].value_counts().sort_index(ascending=True).tail(5))\n",
        "autos[~(autos[\"registration_year\"].between(1910,2016))][\"registration_year\"].value_counts().sum()"
      ],
      "execution_count": 29,
      "outputs": [
        {
          "output_type": "stream",
          "text": [
            "1000    1\n",
            "1001    1\n",
            "1910    2\n",
            "1927    1\n",
            "1929    1\n",
            "Name: registration_year, dtype: int64\n",
            "5911    1\n",
            "6200    1\n",
            "8888    1\n",
            "9000    1\n",
            "9999    3\n",
            "Name: registration_year, dtype: int64\n"
          ],
          "name": "stdout"
        },
        {
          "output_type": "execute_result",
          "data": {
            "text/plain": [
              "1774"
            ]
          },
          "metadata": {
            "tags": []
          },
          "execution_count": 29
        }
      ]
    },
    {
      "cell_type": "markdown",
      "metadata": {
        "id": "24v1WlI7qjan"
      },
      "source": [
        "There are 1,774 suspicous inputs in this column. Since car was invented in the 1880s, we think an acceptable range for registration year should be from 1910 to 2016. The dataset now contains 43,284 data points."
      ]
    },
    {
      "cell_type": "code",
      "metadata": {
        "id": "gOPF2lDerV9t",
        "outputId": "bdcfeefe-d166-457f-bdca-b9ba03fc01cb",
        "colab": {
          "base_uri": "https://localhost:8080/",
          "height": 884
        }
      },
      "source": [
        "autos = autos[autos[\"registration_year\"].between(1910,2016)]\n",
        "print(autos[\"registration_year\"].value_counts(normalize=True).sort_values(ascending=False).head(20))\n",
        "print('\\n')\n",
        "print(\"Total from 1998 - 2009: \", round(autos[\"registration_year\"].value_counts(normalize=True).sort_values(ascending=False).head(11).sum() * 100, 1),\"%\")\n",
        "print('\\n')\n",
        "print(autos.info())"
      ],
      "execution_count": 30,
      "outputs": [
        {
          "output_type": "stream",
          "text": [
            "2005    0.066168\n",
            "2000    0.062702\n",
            "2004    0.061986\n",
            "2006    0.061593\n",
            "2003    0.061385\n",
            "1999    0.059421\n",
            "2001    0.058197\n",
            "2002    0.055887\n",
            "2007    0.052421\n",
            "2008    0.050920\n",
            "2009    0.048009\n",
            "1998    0.046738\n",
            "2011    0.037335\n",
            "2010    0.036549\n",
            "1997    0.034909\n",
            "2012    0.030127\n",
            "1996    0.024767\n",
            "2016    0.021809\n",
            "1995    0.019846\n",
            "2013    0.018321\n",
            "Name: registration_year, dtype: float64\n",
            "\n",
            "\n",
            "Total from 1998 - 2009:  63.9 %\n",
            "\n",
            "\n",
            "<class 'pandas.core.frame.DataFrame'>\n",
            "Int64Index: 43284 entries, 0 to 49999\n",
            "Data columns (total 17 columns):\n",
            " #   Column              Non-Null Count  Dtype \n",
            "---  ------              --------------  ----- \n",
            " 0   date_crawled        43284 non-null  object\n",
            " 1   name                43284 non-null  object\n",
            " 2   price_usd           43284 non-null  int64 \n",
            " 3   abtest              43284 non-null  object\n",
            " 4   vehicle_type        41382 non-null  object\n",
            " 5   registration_year   43284 non-null  int64 \n",
            " 6   gearbox             41683 non-null  object\n",
            " 7   power_ps            43284 non-null  int64 \n",
            " 8   model               41471 non-null  object\n",
            " 9   odometer_km         43284 non-null  int64 \n",
            " 10  registration_month  43284 non-null  int64 \n",
            " 11  fuel_type           40757 non-null  object\n",
            " 12  brand               43284 non-null  object\n",
            " 13  unrepaired_damage   36519 non-null  object\n",
            " 14  ad_created          43284 non-null  object\n",
            " 15  postal_code         43284 non-null  int64 \n",
            " 16  last_seen           43284 non-null  object\n",
            "dtypes: int64(6), object(11)\n",
            "memory usage: 5.9+ MB\n",
            "None\n"
          ],
          "name": "stdout"
        }
      ]
    },
    {
      "cell_type": "markdown",
      "metadata": {
        "id": "gImqsAcuv5Z-"
      },
      "source": [
        "Most cars being sold on eBay have the regristration years between 1998 and 2009, accounting for nearly 64% of the listings."
      ]
    },
    {
      "cell_type": "markdown",
      "metadata": {
        "id": "_WZFHkhAGtde"
      },
      "source": [
        "The column registration_month also show some issues since there are 2,972 month values coded as 0. While this seems ood since month values can only range from 1 to 12, upon reading a few listings with a registration month of zero, we think the 0 value simply means that the users forgot the registration month. Therefore, we decide NOT to remove these listings."
      ]
    },
    {
      "cell_type": "code",
      "metadata": {
        "id": "2Qdsn9gWGr_R",
        "outputId": "fe7f9a91-c107-4cbb-d3c3-7ddf3f244168",
        "colab": {
          "base_uri": "https://localhost:8080/",
          "height": 255
        }
      },
      "source": [
        "autos[\"registration_month\"].value_counts().sort_index(ascending=True)"
      ],
      "execution_count": 31,
      "outputs": [
        {
          "output_type": "execute_result",
          "data": {
            "text/plain": [
              "0     2972\n",
              "1     2892\n",
              "2     2686\n",
              "3     4534\n",
              "4     3668\n",
              "5     3667\n",
              "6     3895\n",
              "7     3525\n",
              "8     2850\n",
              "9     3101\n",
              "10    3321\n",
              "11    3093\n",
              "12    3080\n",
              "Name: registration_month, dtype: int64"
            ]
          },
          "metadata": {
            "tags": []
          },
          "execution_count": 31
        }
      ]
    },
    {
      "cell_type": "code",
      "metadata": {
        "id": "ll7XCg2EH2NP",
        "outputId": "8c8e1056-f45a-469c-f027-0f3751c8da32",
        "colab": {
          "base_uri": "https://localhost:8080/",
          "height": 394
        }
      },
      "source": [
        "autos[autos[\"registration_month\"] == 0].head(5)"
      ],
      "execution_count": 32,
      "outputs": [
        {
          "output_type": "execute_result",
          "data": {
            "text/html": [
              "<div>\n",
              "<style scoped>\n",
              "    .dataframe tbody tr th:only-of-type {\n",
              "        vertical-align: middle;\n",
              "    }\n",
              "\n",
              "    .dataframe tbody tr th {\n",
              "        vertical-align: top;\n",
              "    }\n",
              "\n",
              "    .dataframe thead th {\n",
              "        text-align: right;\n",
              "    }\n",
              "</style>\n",
              "<table border=\"1\" class=\"dataframe\">\n",
              "  <thead>\n",
              "    <tr style=\"text-align: right;\">\n",
              "      <th></th>\n",
              "      <th>date_crawled</th>\n",
              "      <th>name</th>\n",
              "      <th>price_usd</th>\n",
              "      <th>abtest</th>\n",
              "      <th>vehicle_type</th>\n",
              "      <th>registration_year</th>\n",
              "      <th>gearbox</th>\n",
              "      <th>power_ps</th>\n",
              "      <th>model</th>\n",
              "      <th>odometer_km</th>\n",
              "      <th>registration_month</th>\n",
              "      <th>fuel_type</th>\n",
              "      <th>brand</th>\n",
              "      <th>unrepaired_damage</th>\n",
              "      <th>ad_created</th>\n",
              "      <th>postal_code</th>\n",
              "      <th>last_seen</th>\n",
              "    </tr>\n",
              "  </thead>\n",
              "  <tbody>\n",
              "    <tr>\n",
              "      <th>46</th>\n",
              "      <td>2016-03-31 10:53:28</td>\n",
              "      <td>BMW_mit__Lpg</td>\n",
              "      <td>9000</td>\n",
              "      <td>control</td>\n",
              "      <td>NaN</td>\n",
              "      <td>2005</td>\n",
              "      <td>automatik</td>\n",
              "      <td>0</td>\n",
              "      <td>NaN</td>\n",
              "      <td>150000</td>\n",
              "      <td>0</td>\n",
              "      <td>NaN</td>\n",
              "      <td>bmw</td>\n",
              "      <td>NaN</td>\n",
              "      <td>2016-03-31 00:00:00</td>\n",
              "      <td>12351</td>\n",
              "      <td>2016-04-06 03:44:41</td>\n",
              "    </tr>\n",
              "    <tr>\n",
              "      <th>52</th>\n",
              "      <td>2016-03-25 18:50:03</td>\n",
              "      <td>Senator_A_3.0E_Karosserie_restauriert_m._viele...</td>\n",
              "      <td>3500</td>\n",
              "      <td>test</td>\n",
              "      <td>limousine</td>\n",
              "      <td>1985</td>\n",
              "      <td>NaN</td>\n",
              "      <td>0</td>\n",
              "      <td>andere</td>\n",
              "      <td>5000</td>\n",
              "      <td>0</td>\n",
              "      <td>benzin</td>\n",
              "      <td>opel</td>\n",
              "      <td>nein</td>\n",
              "      <td>2016-03-25 00:00:00</td>\n",
              "      <td>63500</td>\n",
              "      <td>2016-04-07 00:46:00</td>\n",
              "    </tr>\n",
              "    <tr>\n",
              "      <th>59</th>\n",
              "      <td>2016-03-17 17:50:54</td>\n",
              "      <td>Mercedes_A_Klasse_W_168__A_140_gruen</td>\n",
              "      <td>700</td>\n",
              "      <td>control</td>\n",
              "      <td>NaN</td>\n",
              "      <td>2016</td>\n",
              "      <td>manuell</td>\n",
              "      <td>0</td>\n",
              "      <td>a_klasse</td>\n",
              "      <td>150000</td>\n",
              "      <td>0</td>\n",
              "      <td>benzin</td>\n",
              "      <td>mercedes_benz</td>\n",
              "      <td>NaN</td>\n",
              "      <td>2016-03-17 00:00:00</td>\n",
              "      <td>95356</td>\n",
              "      <td>2016-03-19 17:46:47</td>\n",
              "    </tr>\n",
              "    <tr>\n",
              "      <th>60</th>\n",
              "      <td>2016-03-23 21:55:29</td>\n",
              "      <td>VW_Vento_1_8_Tuev_NEU</td>\n",
              "      <td>1199</td>\n",
              "      <td>test</td>\n",
              "      <td>limousine</td>\n",
              "      <td>1996</td>\n",
              "      <td>NaN</td>\n",
              "      <td>90</td>\n",
              "      <td>NaN</td>\n",
              "      <td>150000</td>\n",
              "      <td>0</td>\n",
              "      <td>benzin</td>\n",
              "      <td>volkswagen</td>\n",
              "      <td>nein</td>\n",
              "      <td>2016-03-23 00:00:00</td>\n",
              "      <td>1665</td>\n",
              "      <td>2016-04-06 05:45:36</td>\n",
              "    </tr>\n",
              "    <tr>\n",
              "      <th>79</th>\n",
              "      <td>2016-03-28 19:58:42</td>\n",
              "      <td>Seat_Ibiza_1.9_TDI__Fr</td>\n",
              "      <td>6300</td>\n",
              "      <td>control</td>\n",
              "      <td>kleinwagen</td>\n",
              "      <td>2007</td>\n",
              "      <td>manuell</td>\n",
              "      <td>131</td>\n",
              "      <td>ibiza</td>\n",
              "      <td>150000</td>\n",
              "      <td>0</td>\n",
              "      <td>diesel</td>\n",
              "      <td>seat</td>\n",
              "      <td>NaN</td>\n",
              "      <td>2016-03-28 00:00:00</td>\n",
              "      <td>4157</td>\n",
              "      <td>2016-04-07 02:17:59</td>\n",
              "    </tr>\n",
              "  </tbody>\n",
              "</table>\n",
              "</div>"
            ],
            "text/plain": [
              "           date_crawled  ...            last_seen\n",
              "46  2016-03-31 10:53:28  ...  2016-04-06 03:44:41\n",
              "52  2016-03-25 18:50:03  ...  2016-04-07 00:46:00\n",
              "59  2016-03-17 17:50:54  ...  2016-03-19 17:46:47\n",
              "60  2016-03-23 21:55:29  ...  2016-04-06 05:45:36\n",
              "79  2016-03-28 19:58:42  ...  2016-04-07 02:17:59\n",
              "\n",
              "[5 rows x 17 columns]"
            ]
          },
          "metadata": {
            "tags": []
          },
          "execution_count": 32
        }
      ]
    },
    {
      "cell_type": "markdown",
      "metadata": {
        "id": "qV50OtLPGYyx"
      },
      "source": [
        "## **Working with brands**\n",
        "\n",
        "Based on the value counts table below, we can see that most of the listings are German brand cars. This makes sense since we are looking at the dataset from eBay German website."
      ]
    },
    {
      "cell_type": "code",
      "metadata": {
        "id": "OJMb72WkvRMT",
        "outputId": "ecbf8184-d1e1-4abb-cbdb-9f3244e313de",
        "colab": {
          "base_uri": "https://localhost:8080/",
          "height": 714
        }
      },
      "source": [
        "autos[\"brand\"].value_counts(normalize=True)"
      ],
      "execution_count": 33,
      "outputs": [
        {
          "output_type": "execute_result",
          "data": {
            "text/plain": [
              "volkswagen        0.212088\n",
              "bmw               0.115054\n",
              "mercedes_benz     0.102278\n",
              "opel              0.100430\n",
              "audi              0.090565\n",
              "ford              0.065197\n",
              "renault           0.043942\n",
              "peugeot           0.029387\n",
              "fiat              0.023542\n",
              "seat              0.017905\n",
              "skoda             0.017166\n",
              "smart             0.015133\n",
              "mazda             0.015017\n",
              "nissan            0.015017\n",
              "citroen           0.014162\n",
              "toyota            0.013423\n",
              "hyundai           0.010165\n",
              "sonstige_autos    0.009588\n",
              "volvo             0.009380\n",
              "mini              0.009380\n",
              "honda             0.007809\n",
              "mitsubishi        0.007740\n",
              "kia               0.007347\n",
              "alfa_romeo        0.006631\n",
              "chevrolet         0.006030\n",
              "suzuki            0.005914\n",
              "porsche           0.005822\n",
              "chrysler          0.003604\n",
              "dacia             0.002842\n",
              "jeep              0.002449\n",
              "land_rover        0.002264\n",
              "daihatsu          0.002172\n",
              "subaru            0.001987\n",
              "saab              0.001663\n",
              "jaguar            0.001617\n",
              "daewoo            0.001340\n",
              "rover             0.001248\n",
              "trabant           0.001109\n",
              "lancia            0.000993\n",
              "lada              0.000601\n",
              "Name: brand, dtype: float64"
            ]
          },
          "metadata": {
            "tags": []
          },
          "execution_count": 33
        }
      ]
    },
    {
      "cell_type": "markdown",
      "metadata": {
        "id": "X43jehm8LWkr"
      },
      "source": [
        "Given that the dataset has 40 brands, it is time consuming to conduct an analysis for each brand, we decide to only go for the top common brands that have a distribution more than 5%. This essentially narrows down the brand list from 40 to 6 brands:\n",
        "- Volkswagen\n",
        "- BMW\n",
        "- Mercedes Benz\n",
        "- Opel\n",
        "- Audi\n",
        "- Ford"
      ]
    },
    {
      "cell_type": "code",
      "metadata": {
        "id": "cXpdCCLly9C9",
        "outputId": "63ffdc6c-b82b-4276-fc3d-6d6791cb900b",
        "colab": {
          "base_uri": "https://localhost:8080/",
          "height": 51
        }
      },
      "source": [
        "print(\"Shares of top six brands: \", round(autos[\"brand\"].value_counts(normalize=True).head(6).sum() * 100,1), \"%\")\n",
        "brand_counts = autos[\"brand\"].value_counts(normalize=True)\n",
        "top_six_brands = brand_counts[brand_counts > 0.05].index\n",
        "print(top_six_brands)"
      ],
      "execution_count": 34,
      "outputs": [
        {
          "output_type": "stream",
          "text": [
            "Shares of top six brands:  68.6 %\n",
            "Index(['volkswagen', 'bmw', 'mercedes_benz', 'opel', 'audi', 'ford'], dtype='object')\n"
          ],
          "name": "stdout"
        }
      ]
    },
    {
      "cell_type": "markdown",
      "metadata": {
        "id": "cP6E21iyLZkj"
      },
      "source": [
        "We aggregate the brand column with price_usd and odometer_km to have a better look into these brands regarding price and mileage."
      ]
    },
    {
      "cell_type": "code",
      "metadata": {
        "id": "I43sDCEL0s8b",
        "outputId": "c0314d76-771b-4181-e861-2aa0d89dab5a",
        "colab": {
          "base_uri": "https://localhost:8080/",
          "height": 136
        }
      },
      "source": [
        "autos_mean_price = {}\n",
        "\n",
        "for brand in top_six_brands:\n",
        "    brand_unique = autos[autos[\"brand\"] == brand]\n",
        "    mean_price = brand_unique[\"price_usd\"].mean()\n",
        "    autos_mean_price[brand] = int(mean_price)\n",
        "\n",
        "autos_mean_price_pd = pd.Series(autos_mean_price).sort_values(ascending=False)\n",
        "\n",
        "autos_mean_price_pd\n"
      ],
      "execution_count": 35,
      "outputs": [
        {
          "output_type": "execute_result",
          "data": {
            "text/plain": [
              "audi             9571\n",
              "mercedes_benz    8666\n",
              "bmw              8447\n",
              "volkswagen       5783\n",
              "ford             4247\n",
              "opel             3394\n",
              "dtype: int64"
            ]
          },
          "metadata": {
            "tags": []
          },
          "execution_count": 35
        }
      ]
    },
    {
      "cell_type": "code",
      "metadata": {
        "id": "XAHDh5xl2Brn",
        "outputId": "546eed50-1ddf-41d0-8a36-12b3f9b6ea30",
        "colab": {
          "base_uri": "https://localhost:8080/",
          "height": 136
        }
      },
      "source": [
        "autos_mean_mileage = {}\n",
        "\n",
        "for brand in top_six_brands:\n",
        "    brand_unique = autos[autos[\"brand\"] == brand]\n",
        "    mean_mileage = brand_unique[\"odometer_km\"].mean()\n",
        "    autos_mean_mileage[brand] = int(mean_mileage)\n",
        "\n",
        "autos_mean_mileage_pd = pd.Series(autos_mean_mileage).sort_values(ascending=False)\n",
        "\n",
        "autos_mean_price_pd\n"
      ],
      "execution_count": 36,
      "outputs": [
        {
          "output_type": "execute_result",
          "data": {
            "text/plain": [
              "audi             9571\n",
              "mercedes_benz    8666\n",
              "bmw              8447\n",
              "volkswagen       5783\n",
              "ford             4247\n",
              "opel             3394\n",
              "dtype: int64"
            ]
          },
          "metadata": {
            "tags": []
          },
          "execution_count": 36
        }
      ]
    },
    {
      "cell_type": "code",
      "metadata": {
        "id": "n29XJeM93VNf",
        "outputId": "5f94a0c4-139f-44d1-88de-4b84f85ddc76",
        "colab": {
          "base_uri": "https://localhost:8080/",
          "height": 235
        }
      },
      "source": [
        "top_six_agg = pd.DataFrame(autos_mean_price_pd, columns=[\"mean_price\"])\n",
        "top_six_agg[\"mean_mileage\"] = autos_mean_mileage_pd\n",
        "\n",
        "top_six_agg"
      ],
      "execution_count": 37,
      "outputs": [
        {
          "output_type": "execute_result",
          "data": {
            "text/html": [
              "<div>\n",
              "<style scoped>\n",
              "    .dataframe tbody tr th:only-of-type {\n",
              "        vertical-align: middle;\n",
              "    }\n",
              "\n",
              "    .dataframe tbody tr th {\n",
              "        vertical-align: top;\n",
              "    }\n",
              "\n",
              "    .dataframe thead th {\n",
              "        text-align: right;\n",
              "    }\n",
              "</style>\n",
              "<table border=\"1\" class=\"dataframe\">\n",
              "  <thead>\n",
              "    <tr style=\"text-align: right;\">\n",
              "      <th></th>\n",
              "      <th>mean_price</th>\n",
              "      <th>mean_mileage</th>\n",
              "    </tr>\n",
              "  </thead>\n",
              "  <tbody>\n",
              "    <tr>\n",
              "      <th>audi</th>\n",
              "      <td>9571</td>\n",
              "      <td>128941</td>\n",
              "    </tr>\n",
              "    <tr>\n",
              "      <th>mercedes_benz</th>\n",
              "      <td>8666</td>\n",
              "      <td>131083</td>\n",
              "    </tr>\n",
              "    <tr>\n",
              "      <th>bmw</th>\n",
              "      <td>8447</td>\n",
              "      <td>132928</td>\n",
              "    </tr>\n",
              "    <tr>\n",
              "      <th>volkswagen</th>\n",
              "      <td>5783</td>\n",
              "      <td>128234</td>\n",
              "    </tr>\n",
              "    <tr>\n",
              "      <th>ford</th>\n",
              "      <td>4247</td>\n",
              "      <td>123520</td>\n",
              "    </tr>\n",
              "    <tr>\n",
              "      <th>opel</th>\n",
              "      <td>3394</td>\n",
              "      <td>128012</td>\n",
              "    </tr>\n",
              "  </tbody>\n",
              "</table>\n",
              "</div>"
            ],
            "text/plain": [
              "               mean_price  mean_mileage\n",
              "audi                 9571        128941\n",
              "mercedes_benz        8666        131083\n",
              "bmw                  8447        132928\n",
              "volkswagen           5783        128234\n",
              "ford                 4247        123520\n",
              "opel                 3394        128012"
            ]
          },
          "metadata": {
            "tags": []
          },
          "execution_count": 37
        }
      ]
    },
    {
      "cell_type": "markdown",
      "metadata": {
        "id": "bUcVVwWmrgFn"
      },
      "source": [
        "The six brands above can be classified into two groups based on their prices:\n",
        "- Affordable brands: Opel, Ford, and Volkswagen\n",
        "- Luxury brandsL Audi, Mercedes Benz, BMW\n",
        "\n",
        "Among each group, we can see that, in general, with the exception of Volswagen, cars with high mileage tend to have low prices.\n",
        "\n",
        "Between each group, we can also conclude that brand position is a significant factor that determins price: depsite of mileage, Luxury brands often demand high prices."
      ]
    },
    {
      "cell_type": "markdown",
      "metadata": {
        "id": "UpG3MtRGvlfI"
      },
      "source": [
        "## **Some futher cleaning**\n",
        "**1. German to English**\n",
        "\n",
        "As mentioned in our initial obervations, some columns have texts in German instead of English. We decide to translate and map the values to their English counterparts.\n",
        "\n",
        "First, we take a look at the dataset again to identify such columns."
      ]
    },
    {
      "cell_type": "code",
      "metadata": {
        "id": "v0geAaAqM-SF",
        "outputId": "4f7c1d15-d6ec-4eb5-cf5d-a0febd1c77af",
        "colab": {
          "base_uri": "https://localhost:8080/",
          "height": 394
        }
      },
      "source": [
        "autos.head()"
      ],
      "execution_count": 38,
      "outputs": [
        {
          "output_type": "execute_result",
          "data": {
            "text/html": [
              "<div>\n",
              "<style scoped>\n",
              "    .dataframe tbody tr th:only-of-type {\n",
              "        vertical-align: middle;\n",
              "    }\n",
              "\n",
              "    .dataframe tbody tr th {\n",
              "        vertical-align: top;\n",
              "    }\n",
              "\n",
              "    .dataframe thead th {\n",
              "        text-align: right;\n",
              "    }\n",
              "</style>\n",
              "<table border=\"1\" class=\"dataframe\">\n",
              "  <thead>\n",
              "    <tr style=\"text-align: right;\">\n",
              "      <th></th>\n",
              "      <th>date_crawled</th>\n",
              "      <th>name</th>\n",
              "      <th>price_usd</th>\n",
              "      <th>abtest</th>\n",
              "      <th>vehicle_type</th>\n",
              "      <th>registration_year</th>\n",
              "      <th>gearbox</th>\n",
              "      <th>power_ps</th>\n",
              "      <th>model</th>\n",
              "      <th>odometer_km</th>\n",
              "      <th>registration_month</th>\n",
              "      <th>fuel_type</th>\n",
              "      <th>brand</th>\n",
              "      <th>unrepaired_damage</th>\n",
              "      <th>ad_created</th>\n",
              "      <th>postal_code</th>\n",
              "      <th>last_seen</th>\n",
              "    </tr>\n",
              "  </thead>\n",
              "  <tbody>\n",
              "    <tr>\n",
              "      <th>0</th>\n",
              "      <td>2016-03-26 17:47:46</td>\n",
              "      <td>Peugeot_807_160_NAVTECH_ON_BOARD</td>\n",
              "      <td>5000</td>\n",
              "      <td>control</td>\n",
              "      <td>bus</td>\n",
              "      <td>2004</td>\n",
              "      <td>manuell</td>\n",
              "      <td>158</td>\n",
              "      <td>andere</td>\n",
              "      <td>150000</td>\n",
              "      <td>3</td>\n",
              "      <td>lpg</td>\n",
              "      <td>peugeot</td>\n",
              "      <td>nein</td>\n",
              "      <td>2016-03-26 00:00:00</td>\n",
              "      <td>79588</td>\n",
              "      <td>2016-04-06 06:45:54</td>\n",
              "    </tr>\n",
              "    <tr>\n",
              "      <th>1</th>\n",
              "      <td>2016-04-04 13:38:56</td>\n",
              "      <td>BMW_740i_4_4_Liter_HAMANN_UMBAU_Mega_Optik</td>\n",
              "      <td>8500</td>\n",
              "      <td>control</td>\n",
              "      <td>limousine</td>\n",
              "      <td>1997</td>\n",
              "      <td>automatik</td>\n",
              "      <td>286</td>\n",
              "      <td>7er</td>\n",
              "      <td>150000</td>\n",
              "      <td>6</td>\n",
              "      <td>benzin</td>\n",
              "      <td>bmw</td>\n",
              "      <td>nein</td>\n",
              "      <td>2016-04-04 00:00:00</td>\n",
              "      <td>71034</td>\n",
              "      <td>2016-04-06 14:45:08</td>\n",
              "    </tr>\n",
              "    <tr>\n",
              "      <th>2</th>\n",
              "      <td>2016-03-26 18:57:24</td>\n",
              "      <td>Volkswagen_Golf_1.6_United</td>\n",
              "      <td>8990</td>\n",
              "      <td>test</td>\n",
              "      <td>limousine</td>\n",
              "      <td>2009</td>\n",
              "      <td>manuell</td>\n",
              "      <td>102</td>\n",
              "      <td>golf</td>\n",
              "      <td>70000</td>\n",
              "      <td>7</td>\n",
              "      <td>benzin</td>\n",
              "      <td>volkswagen</td>\n",
              "      <td>nein</td>\n",
              "      <td>2016-03-26 00:00:00</td>\n",
              "      <td>35394</td>\n",
              "      <td>2016-04-06 20:15:37</td>\n",
              "    </tr>\n",
              "    <tr>\n",
              "      <th>3</th>\n",
              "      <td>2016-03-12 16:58:10</td>\n",
              "      <td>Smart_smart_fortwo_coupe_softouch/F1/Klima/Pan...</td>\n",
              "      <td>4350</td>\n",
              "      <td>control</td>\n",
              "      <td>kleinwagen</td>\n",
              "      <td>2007</td>\n",
              "      <td>automatik</td>\n",
              "      <td>71</td>\n",
              "      <td>fortwo</td>\n",
              "      <td>70000</td>\n",
              "      <td>6</td>\n",
              "      <td>benzin</td>\n",
              "      <td>smart</td>\n",
              "      <td>nein</td>\n",
              "      <td>2016-03-12 00:00:00</td>\n",
              "      <td>33729</td>\n",
              "      <td>2016-03-15 03:16:28</td>\n",
              "    </tr>\n",
              "    <tr>\n",
              "      <th>4</th>\n",
              "      <td>2016-04-01 14:38:50</td>\n",
              "      <td>Ford_Focus_1_6_Benzin_TÜV_neu_ist_sehr_gepfleg...</td>\n",
              "      <td>1350</td>\n",
              "      <td>test</td>\n",
              "      <td>kombi</td>\n",
              "      <td>2003</td>\n",
              "      <td>manuell</td>\n",
              "      <td>0</td>\n",
              "      <td>focus</td>\n",
              "      <td>150000</td>\n",
              "      <td>7</td>\n",
              "      <td>benzin</td>\n",
              "      <td>ford</td>\n",
              "      <td>nein</td>\n",
              "      <td>2016-04-01 00:00:00</td>\n",
              "      <td>39218</td>\n",
              "      <td>2016-04-01 14:38:50</td>\n",
              "    </tr>\n",
              "  </tbody>\n",
              "</table>\n",
              "</div>"
            ],
            "text/plain": [
              "          date_crawled  ...            last_seen\n",
              "0  2016-03-26 17:47:46  ...  2016-04-06 06:45:54\n",
              "1  2016-04-04 13:38:56  ...  2016-04-06 14:45:08\n",
              "2  2016-03-26 18:57:24  ...  2016-04-06 20:15:37\n",
              "3  2016-03-12 16:58:10  ...  2016-03-15 03:16:28\n",
              "4  2016-04-01 14:38:50  ...  2016-04-01 14:38:50\n",
              "\n",
              "[5 rows x 17 columns]"
            ]
          },
          "metadata": {
            "tags": []
          },
          "execution_count": 38
        }
      ]
    },
    {
      "cell_type": "markdown",
      "metadata": {
        "id": "F11CFzOkNltO"
      },
      "source": [
        "It seems columns that contain German words are:\n",
        "- vehicle_type\n",
        "- gearbox\n",
        "- fuel_type\n",
        "- unrepaired_damage\n",
        "\n",
        "We display the unique values of each column to identify the German words needed to be translated."
      ]
    },
    {
      "cell_type": "code",
      "metadata": {
        "id": "HAK9nXZNOJ_K",
        "outputId": "715a82cd-62cd-43f3-a572-8c341e90926b",
        "colab": {
          "base_uri": "https://localhost:8080/",
          "height": 102
        }
      },
      "source": [
        "# Before translation\n",
        "print(autos[\"vehicle_type\"].unique())\n",
        "print(autos[\"gearbox\"].unique())\n",
        "print(autos[\"fuel_type\"].unique())\n",
        "print(autos[\"unrepaired_damage\"].unique())"
      ],
      "execution_count": 39,
      "outputs": [
        {
          "output_type": "stream",
          "text": [
            "['bus' 'limousine' 'kleinwagen' 'kombi' 'coupe' 'suv' 'cabrio' nan\n",
            " 'andere']\n",
            "['manuell' 'automatik' nan]\n",
            "['lpg' 'benzin' 'diesel' nan 'cng' 'hybrid' 'elektro' 'andere']\n",
            "['nein' nan 'ja']\n"
          ],
          "name": "stdout"
        }
      ]
    },
    {
      "cell_type": "code",
      "metadata": {
        "id": "IMbM3W0sQCmi"
      },
      "source": [
        "german_to_english = {'bus':'bus',\n",
        "                     'limousine':'limousine',\n",
        "                     'kleinwagen':'supermini',\n",
        "                     'kombi':'van',\n",
        "                     'coupe':'coupe',\n",
        "                     'suv':'suv',\n",
        "                     'cabrio':'convertible',\n",
        "                     'andere':'other',\n",
        "                     'manuell':'manual',\n",
        "                     'automatik':'automatic',\n",
        "                     'lpg':'lpg',\n",
        "                     'benzin':'petrol',\n",
        "                     'diesel':'diesel',\n",
        "                     'cng':'cng',\n",
        "                     'hybrid':'hybrid',\n",
        "                     'elektro':'electric',\n",
        "                     'nein':'no',\n",
        "                     'ja':'yes'}\n",
        "for column in [\"vehicle_type\", \"gearbox\", \"fuel_type\", \"unrepaired_damage\"]:\n",
        "  autos[column] = autos[column].map(german_to_english)"
      ],
      "execution_count": 40,
      "outputs": []
    },
    {
      "cell_type": "code",
      "metadata": {
        "id": "CySkXqBaSEGE",
        "outputId": "492abbc7-a6b5-43c4-cf0a-341bced560c4",
        "colab": {
          "base_uri": "https://localhost:8080/",
          "height": 102
        }
      },
      "source": [
        "# After translation\n",
        "print(autos[\"vehicle_type\"].unique())\n",
        "print(autos[\"gearbox\"].unique())\n",
        "print(autos[\"fuel_type\"].unique())\n",
        "print(autos[\"unrepaired_damage\"].unique())"
      ],
      "execution_count": 41,
      "outputs": [
        {
          "output_type": "stream",
          "text": [
            "['bus' 'limousine' 'supermini' 'van' 'coupe' 'suv' 'convertible' nan\n",
            " 'other']\n",
            "['manual' 'automatic' nan]\n",
            "['lpg' 'petrol' 'diesel' nan 'cng' 'hybrid' 'electric' 'other']\n",
            "['no' nan 'yes']\n"
          ],
          "name": "stdout"
        }
      ]
    },
    {
      "cell_type": "markdown",
      "metadata": {
        "id": "LQkOAN_gSenv"
      },
      "source": [
        "**2. Unify the dates**\n",
        "\n",
        "So far, the columns we have worked with that contain timestamps are: date_crawled, last_seen, and ad_created. In this task, we will extract the dates and convert them to be uniform numeric data (e.g., \"2016-03-21\" becomes the integer 20160321).\n",
        "\n",
        "When we worked with these columns, we noticed that they have the same format with the first 10 characters denoting dates. Using this observation, we execute the task as following."
      ]
    },
    {
      "cell_type": "code",
      "metadata": {
        "id": "OhYXQI7nSyXV",
        "outputId": "a4a11456-f0fc-444d-e37b-752c3a97b5f9",
        "colab": {
          "base_uri": "https://localhost:8080/",
          "height": 224
        }
      },
      "source": [
        "for column in [\"date_crawled\", \"last_seen\", \"ad_created\"]:\n",
        "  autos[column] = autos[column].str[:10].str.replace(\"-\", \"\").astype(int)\n",
        "\n",
        "autos.head()"
      ],
      "execution_count": 42,
      "outputs": [
        {
          "output_type": "execute_result",
          "data": {
            "text/html": [
              "<div>\n",
              "<style scoped>\n",
              "    .dataframe tbody tr th:only-of-type {\n",
              "        vertical-align: middle;\n",
              "    }\n",
              "\n",
              "    .dataframe tbody tr th {\n",
              "        vertical-align: top;\n",
              "    }\n",
              "\n",
              "    .dataframe thead th {\n",
              "        text-align: right;\n",
              "    }\n",
              "</style>\n",
              "<table border=\"1\" class=\"dataframe\">\n",
              "  <thead>\n",
              "    <tr style=\"text-align: right;\">\n",
              "      <th></th>\n",
              "      <th>date_crawled</th>\n",
              "      <th>name</th>\n",
              "      <th>price_usd</th>\n",
              "      <th>abtest</th>\n",
              "      <th>vehicle_type</th>\n",
              "      <th>registration_year</th>\n",
              "      <th>gearbox</th>\n",
              "      <th>power_ps</th>\n",
              "      <th>model</th>\n",
              "      <th>odometer_km</th>\n",
              "      <th>registration_month</th>\n",
              "      <th>fuel_type</th>\n",
              "      <th>brand</th>\n",
              "      <th>unrepaired_damage</th>\n",
              "      <th>ad_created</th>\n",
              "      <th>postal_code</th>\n",
              "      <th>last_seen</th>\n",
              "    </tr>\n",
              "  </thead>\n",
              "  <tbody>\n",
              "    <tr>\n",
              "      <th>0</th>\n",
              "      <td>20160326</td>\n",
              "      <td>Peugeot_807_160_NAVTECH_ON_BOARD</td>\n",
              "      <td>5000</td>\n",
              "      <td>control</td>\n",
              "      <td>bus</td>\n",
              "      <td>2004</td>\n",
              "      <td>manual</td>\n",
              "      <td>158</td>\n",
              "      <td>andere</td>\n",
              "      <td>150000</td>\n",
              "      <td>3</td>\n",
              "      <td>lpg</td>\n",
              "      <td>peugeot</td>\n",
              "      <td>no</td>\n",
              "      <td>20160326</td>\n",
              "      <td>79588</td>\n",
              "      <td>20160406</td>\n",
              "    </tr>\n",
              "    <tr>\n",
              "      <th>1</th>\n",
              "      <td>20160404</td>\n",
              "      <td>BMW_740i_4_4_Liter_HAMANN_UMBAU_Mega_Optik</td>\n",
              "      <td>8500</td>\n",
              "      <td>control</td>\n",
              "      <td>limousine</td>\n",
              "      <td>1997</td>\n",
              "      <td>automatic</td>\n",
              "      <td>286</td>\n",
              "      <td>7er</td>\n",
              "      <td>150000</td>\n",
              "      <td>6</td>\n",
              "      <td>petrol</td>\n",
              "      <td>bmw</td>\n",
              "      <td>no</td>\n",
              "      <td>20160404</td>\n",
              "      <td>71034</td>\n",
              "      <td>20160406</td>\n",
              "    </tr>\n",
              "    <tr>\n",
              "      <th>2</th>\n",
              "      <td>20160326</td>\n",
              "      <td>Volkswagen_Golf_1.6_United</td>\n",
              "      <td>8990</td>\n",
              "      <td>test</td>\n",
              "      <td>limousine</td>\n",
              "      <td>2009</td>\n",
              "      <td>manual</td>\n",
              "      <td>102</td>\n",
              "      <td>golf</td>\n",
              "      <td>70000</td>\n",
              "      <td>7</td>\n",
              "      <td>petrol</td>\n",
              "      <td>volkswagen</td>\n",
              "      <td>no</td>\n",
              "      <td>20160326</td>\n",
              "      <td>35394</td>\n",
              "      <td>20160406</td>\n",
              "    </tr>\n",
              "    <tr>\n",
              "      <th>3</th>\n",
              "      <td>20160312</td>\n",
              "      <td>Smart_smart_fortwo_coupe_softouch/F1/Klima/Pan...</td>\n",
              "      <td>4350</td>\n",
              "      <td>control</td>\n",
              "      <td>supermini</td>\n",
              "      <td>2007</td>\n",
              "      <td>automatic</td>\n",
              "      <td>71</td>\n",
              "      <td>fortwo</td>\n",
              "      <td>70000</td>\n",
              "      <td>6</td>\n",
              "      <td>petrol</td>\n",
              "      <td>smart</td>\n",
              "      <td>no</td>\n",
              "      <td>20160312</td>\n",
              "      <td>33729</td>\n",
              "      <td>20160315</td>\n",
              "    </tr>\n",
              "    <tr>\n",
              "      <th>4</th>\n",
              "      <td>20160401</td>\n",
              "      <td>Ford_Focus_1_6_Benzin_TÜV_neu_ist_sehr_gepfleg...</td>\n",
              "      <td>1350</td>\n",
              "      <td>test</td>\n",
              "      <td>van</td>\n",
              "      <td>2003</td>\n",
              "      <td>manual</td>\n",
              "      <td>0</td>\n",
              "      <td>focus</td>\n",
              "      <td>150000</td>\n",
              "      <td>7</td>\n",
              "      <td>petrol</td>\n",
              "      <td>ford</td>\n",
              "      <td>no</td>\n",
              "      <td>20160401</td>\n",
              "      <td>39218</td>\n",
              "      <td>20160401</td>\n",
              "    </tr>\n",
              "  </tbody>\n",
              "</table>\n",
              "</div>"
            ],
            "text/plain": [
              "   date_crawled  ... last_seen\n",
              "0      20160326  ...  20160406\n",
              "1      20160404  ...  20160406\n",
              "2      20160326  ...  20160406\n",
              "3      20160312  ...  20160315\n",
              "4      20160401  ...  20160401\n",
              "\n",
              "[5 rows x 17 columns]"
            ]
          },
          "metadata": {
            "tags": []
          },
          "execution_count": 42
        }
      ]
    },
    {
      "cell_type": "markdown",
      "metadata": {
        "id": "OtNaP_B9WUNq"
      },
      "source": [
        "## **Most common brand & model combinations**\n",
        "\n",
        "When working with brands, we have identifed the top six common brands listed on eBay German, they are:\n",
        "- Volkswagen\n",
        "- BMW\n",
        "- Mercedes Benz\n",
        "- Opel\n",
        "- Audi\n",
        "- Ford\n",
        "\n",
        "In this section, we want to dig deeper into these brands and identify the most common model of each brand.\n",
        "\n"
      ]
    },
    {
      "cell_type": "code",
      "metadata": {
        "id": "bM2e8BKNWBNG",
        "outputId": "d3b26189-dea8-4726-b10a-0c6ca20cfa77",
        "colab": {
          "base_uri": "https://localhost:8080/",
          "height": 527
        }
      },
      "source": [
        "brands = [\"audi\", \"mercedes_benz\", \"bmw\", \"volkswagen\", \"ford\", \"opel\"]\n",
        "\n",
        "for brand in brands:\n",
        "  print(brand)\n",
        "  print(autos[autos[\"brand\"] == brand][\"model\"].value_counts().sort_values(ascending=False).head(1))\n",
        "  print('\\n')"
      ],
      "execution_count": 43,
      "outputs": [
        {
          "output_type": "stream",
          "text": [
            "audi\n",
            "a4    1199\n",
            "Name: model, dtype: int64\n",
            "\n",
            "\n",
            "mercedes_benz\n",
            "c_klasse    1122\n",
            "Name: model, dtype: int64\n",
            "\n",
            "\n",
            "bmw\n",
            "3er    2519\n",
            "Name: model, dtype: int64\n",
            "\n",
            "\n",
            "volkswagen\n",
            "golf    3437\n",
            "Name: model, dtype: int64\n",
            "\n",
            "\n",
            "ford\n",
            "focus    715\n",
            "Name: model, dtype: int64\n",
            "\n",
            "\n",
            "opel\n",
            "corsa    1266\n",
            "Name: model, dtype: int64\n",
            "\n",
            "\n"
          ],
          "name": "stdout"
        }
      ]
    },
    {
      "cell_type": "markdown",
      "metadata": {
        "id": "MAj5QNfWawqP"
      },
      "source": [
        "From the above results, we can see that the most common Brand & Model combinations are:\n",
        "\n",
        "- Audi A4\n",
        "- Mercedes Benz C-Class\n",
        "- BMW 3er\n",
        "- Volkswagen Golf\n",
        "- Ford Focus\n",
        "- Opel Corsa"
      ]
    },
    {
      "cell_type": "markdown",
      "metadata": {
        "id": "WEutop_9bN-z"
      },
      "source": [
        "## **How Damages affect Price**\n",
        "\n",
        "Wtih this analysis, we want to see how much cars with damages are cheaper than undamaged cars. It seems that undamaged cars are **~4,300 USD** more expensive than damaged cars."
      ]
    },
    {
      "cell_type": "code",
      "metadata": {
        "id": "1dwmCgGabkg7",
        "outputId": "61a92577-a2ca-488d-8cd1-346f04c00920",
        "colab": {
          "base_uri": "https://localhost:8080/",
          "height": 85
        }
      },
      "source": [
        "damage = [\"yes\", \"no\"]\n",
        "\n",
        "for answer in damage:\n",
        "  print(answer)\n",
        "  print(round(autos[autos[\"unrepaired_damage\"] == answer][\"price_usd\"].mean(),0))"
      ],
      "execution_count": 53,
      "outputs": [
        {
          "output_type": "stream",
          "text": [
            "yes\n",
            "2779.0\n",
            "no\n",
            "7156.0\n"
          ],
          "name": "stdout"
        }
      ]
    },
    {
      "cell_type": "markdown",
      "metadata": {
        "id": "f8oDxCs-dNv8"
      },
      "source": [
        "## **Conclusion**\n",
        "\n",
        "In this project, we have conducted several cleaning processes and high-level analyses. Some findings and insights that we think worth noticing:\n",
        "- More cars (both luxury and affordable) are getting listed on eBay;\n",
        "- Most cars being sold are 7 - 17 years old;\n",
        "- Cars with high mileage are cheaper;\n",
        "- The most common brand / model combinations on eBay are: Audi A4, Mercedes Benz C-Class, BMW 3er, Volkswagen Golf, Ford Focus, and Opel Corsa;\n",
        "- Damaged cars are about 4,300 USD cheaper than undamaged cars.\n"
      ]
    }
  ]
}
{
  "nbformat": 4,
  "nbformat_minor": 0,
  "metadata": {
    "colab": {
      "name": "GROUP 1 - Clean And Analyze Employee Exit Surveys",
      "provenance": [],
      "collapsed_sections": [],
      "toc_visible": true,
      "authorship_tag": "ABX9TyMdv0vCmdaDeO3XpD9PiaeB",
      "include_colab_link": true
    },
    "kernelspec": {
      "name": "python3",
      "display_name": "Python 3"
    }
  },
  "cells": [
    {
      "cell_type": "markdown",
      "metadata": {
        "id": "view-in-github",
        "colab_type": "text"
      },
      "source": [
        "<a href=\"https://colab.research.google.com/github/vietphtran/Data/blob/master/GROUP_1_Clean_And_Analyze_Employee_Exit_Surveys.ipynb\" target=\"_parent\"><img src=\"https://colab.research.google.com/assets/colab-badge.svg\" alt=\"Open In Colab\"/></a>"
      ]
    },
    {
      "cell_type": "markdown",
      "metadata": {
        "id": "i_C9o5YQbDu-"
      },
      "source": [
        "# **Clean And Analyze Employee Exit Surveys**\n",
        "\n",
        "In this project, we will analyze the exit surveys from employees of the Department of Education, Training and Employment (DETE) and the Technical and Further Education (TAFE) institute in Queensland, Australia. The two datasets can be downloaded via the following links:\n",
        "- [DETE](https://data.gov.au/dataset/ds-qld-fe96ff30-d157-4a81-851d-215f2a0fe26d/details?q=exit%20survey)\n",
        "- [TAFE](https://data.gov.au/dataset/ds-qld-89970a3b-182b-41ea-aea2-6f9f17b5907e/details?q=exit%20survey)\n",
        "\n",
        "The goal of this project is to help our stakeholders answer the following questions:\n",
        "\n",
        "1. At which Career Stages are employees likely to resign due to dissatisfaction?\n",
        "2. Which Age groups are more likely to resgin due to dissatisfaction?\n",
        "3. Which Gender is more likely to resign due to dissatisfaction?\n",
        "4. Which Institute has more resigned employees due to dissatisfaction?"
      ]
    },
    {
      "cell_type": "markdown",
      "metadata": {
        "id": "qmQFNnM0jF1w"
      },
      "source": [
        "## **Introduction**\n",
        "\n",
        "Our first step is to read the datasets and do some initial explorations. \n",
        "Below is some basic information and a preview of some columns we'll work with from the two datasets:\n",
        "\n",
        "1. data_survey: 56 columns with 822 entries.\n",
        "    - ID: An id used to identify the participant of the survey\n",
        "    - SeparationType: The reason why the person's employment ended\n",
        "    - Cease Date: The year or month the person's employment ended\n",
        "    - DETE Start Date: The year the person began employment with the DETE\n",
        "\n",
        "2. tafe_survey: 72 columns with 702 entries.\n",
        "    - Record ID: An id used to identify the participant of the survey\n",
        "    - Reason for ceasing employment: The reason why the person's employment ended\n",
        "    - LengthofServiceOverall. Overall Length of Service at Institute (in years): The length of the person's employment (in years)\n"
      ]
    },
    {
      "cell_type": "code",
      "metadata": {
        "id": "8YGmAzOCWx1E"
      },
      "source": [
        "# Import Pandas and NumPy libraries\n",
        "import pandas as pd\n",
        "import numpy as np"
      ],
      "execution_count": 1,
      "outputs": []
    },
    {
      "cell_type": "code",
      "metadata": {
        "id": "aS6QKTdldNO4",
        "outputId": "b7161bb0-e4a6-434c-8f0d-58eb78e48486",
        "colab": {
          "base_uri": "https://localhost:8080/",
          "height": 1000
        }
      },
      "source": [
        "# Read the dataset into pandas dataframe and Explore the dataset\n",
        "dete_survey = pd.read_csv(\"https://raw.githubusercontent.com/vietphtran/Data/master/dete_survey.csv\")\n",
        "dete_survey.info()"
      ],
      "execution_count": 2,
      "outputs": [
        {
          "output_type": "stream",
          "text": [
            "<class 'pandas.core.frame.DataFrame'>\n",
            "RangeIndex: 822 entries, 0 to 821\n",
            "Data columns (total 56 columns):\n",
            " #   Column                               Non-Null Count  Dtype \n",
            "---  ------                               --------------  ----- \n",
            " 0   ID                                   822 non-null    int64 \n",
            " 1   SeparationType                       822 non-null    object\n",
            " 2   Cease Date                           822 non-null    object\n",
            " 3   DETE Start Date                      822 non-null    object\n",
            " 4   Role Start Date                      822 non-null    object\n",
            " 5   Position                             817 non-null    object\n",
            " 6   Classification                       455 non-null    object\n",
            " 7   Region                               822 non-null    object\n",
            " 8   Business Unit                        126 non-null    object\n",
            " 9   Employment Status                    817 non-null    object\n",
            " 10  Career move to public sector         822 non-null    bool  \n",
            " 11  Career move to private sector        822 non-null    bool  \n",
            " 12  Interpersonal conflicts              822 non-null    bool  \n",
            " 13  Job dissatisfaction                  822 non-null    bool  \n",
            " 14  Dissatisfaction with the department  822 non-null    bool  \n",
            " 15  Physical work environment            822 non-null    bool  \n",
            " 16  Lack of recognition                  822 non-null    bool  \n",
            " 17  Lack of job security                 822 non-null    bool  \n",
            " 18  Work location                        822 non-null    bool  \n",
            " 19  Employment conditions                822 non-null    bool  \n",
            " 20  Maternity/family                     822 non-null    bool  \n",
            " 21  Relocation                           822 non-null    bool  \n",
            " 22  Study/Travel                         822 non-null    bool  \n",
            " 23  Ill Health                           822 non-null    bool  \n",
            " 24  Traumatic incident                   822 non-null    bool  \n",
            " 25  Work life balance                    822 non-null    bool  \n",
            " 26  Workload                             822 non-null    bool  \n",
            " 27  None of the above                    822 non-null    bool  \n",
            " 28  Professional Development             808 non-null    object\n",
            " 29  Opportunities for promotion          735 non-null    object\n",
            " 30  Staff morale                         816 non-null    object\n",
            " 31  Workplace issue                      788 non-null    object\n",
            " 32  Physical environment                 817 non-null    object\n",
            " 33  Worklife balance                     815 non-null    object\n",
            " 34  Stress and pressure support          810 non-null    object\n",
            " 35  Performance of supervisor            813 non-null    object\n",
            " 36  Peer support                         812 non-null    object\n",
            " 37  Initiative                           813 non-null    object\n",
            " 38  Skills                               811 non-null    object\n",
            " 39  Coach                                767 non-null    object\n",
            " 40  Career Aspirations                   746 non-null    object\n",
            " 41  Feedback                             792 non-null    object\n",
            " 42  Further PD                           768 non-null    object\n",
            " 43  Communication                        814 non-null    object\n",
            " 44  My say                               812 non-null    object\n",
            " 45  Information                          816 non-null    object\n",
            " 46  Kept informed                        813 non-null    object\n",
            " 47  Wellness programs                    766 non-null    object\n",
            " 48  Health & Safety                      793 non-null    object\n",
            " 49  Gender                               798 non-null    object\n",
            " 50  Age                                  811 non-null    object\n",
            " 51  Aboriginal                           16 non-null     object\n",
            " 52  Torres Strait                        3 non-null      object\n",
            " 53  South Sea                            7 non-null      object\n",
            " 54  Disability                           23 non-null     object\n",
            " 55  NESB                                 32 non-null     object\n",
            "dtypes: bool(18), int64(1), object(37)\n",
            "memory usage: 258.6+ KB\n"
          ],
          "name": "stdout"
        }
      ]
    },
    {
      "cell_type": "code",
      "metadata": {
        "id": "Cuml4UoaddNq",
        "outputId": "6a49ecce-c8ac-4317-d35d-d34ecf8dfbf4",
        "colab": {
          "base_uri": "https://localhost:8080/",
          "height": 484
        }
      },
      "source": [
        "dete_survey.head()"
      ],
      "execution_count": 3,
      "outputs": [
        {
          "output_type": "execute_result",
          "data": {
            "text/html": [
              "<div>\n",
              "<style scoped>\n",
              "    .dataframe tbody tr th:only-of-type {\n",
              "        vertical-align: middle;\n",
              "    }\n",
              "\n",
              "    .dataframe tbody tr th {\n",
              "        vertical-align: top;\n",
              "    }\n",
              "\n",
              "    .dataframe thead th {\n",
              "        text-align: right;\n",
              "    }\n",
              "</style>\n",
              "<table border=\"1\" class=\"dataframe\">\n",
              "  <thead>\n",
              "    <tr style=\"text-align: right;\">\n",
              "      <th></th>\n",
              "      <th>ID</th>\n",
              "      <th>SeparationType</th>\n",
              "      <th>Cease Date</th>\n",
              "      <th>DETE Start Date</th>\n",
              "      <th>Role Start Date</th>\n",
              "      <th>Position</th>\n",
              "      <th>Classification</th>\n",
              "      <th>Region</th>\n",
              "      <th>Business Unit</th>\n",
              "      <th>Employment Status</th>\n",
              "      <th>Career move to public sector</th>\n",
              "      <th>Career move to private sector</th>\n",
              "      <th>Interpersonal conflicts</th>\n",
              "      <th>Job dissatisfaction</th>\n",
              "      <th>Dissatisfaction with the department</th>\n",
              "      <th>Physical work environment</th>\n",
              "      <th>Lack of recognition</th>\n",
              "      <th>Lack of job security</th>\n",
              "      <th>Work location</th>\n",
              "      <th>Employment conditions</th>\n",
              "      <th>Maternity/family</th>\n",
              "      <th>Relocation</th>\n",
              "      <th>Study/Travel</th>\n",
              "      <th>Ill Health</th>\n",
              "      <th>Traumatic incident</th>\n",
              "      <th>Work life balance</th>\n",
              "      <th>Workload</th>\n",
              "      <th>None of the above</th>\n",
              "      <th>Professional Development</th>\n",
              "      <th>Opportunities for promotion</th>\n",
              "      <th>Staff morale</th>\n",
              "      <th>Workplace issue</th>\n",
              "      <th>Physical environment</th>\n",
              "      <th>Worklife balance</th>\n",
              "      <th>Stress and pressure support</th>\n",
              "      <th>Performance of supervisor</th>\n",
              "      <th>Peer support</th>\n",
              "      <th>Initiative</th>\n",
              "      <th>Skills</th>\n",
              "      <th>Coach</th>\n",
              "      <th>Career Aspirations</th>\n",
              "      <th>Feedback</th>\n",
              "      <th>Further PD</th>\n",
              "      <th>Communication</th>\n",
              "      <th>My say</th>\n",
              "      <th>Information</th>\n",
              "      <th>Kept informed</th>\n",
              "      <th>Wellness programs</th>\n",
              "      <th>Health &amp; Safety</th>\n",
              "      <th>Gender</th>\n",
              "      <th>Age</th>\n",
              "      <th>Aboriginal</th>\n",
              "      <th>Torres Strait</th>\n",
              "      <th>South Sea</th>\n",
              "      <th>Disability</th>\n",
              "      <th>NESB</th>\n",
              "    </tr>\n",
              "  </thead>\n",
              "  <tbody>\n",
              "    <tr>\n",
              "      <th>0</th>\n",
              "      <td>1</td>\n",
              "      <td>Ill Health Retirement</td>\n",
              "      <td>08/2012</td>\n",
              "      <td>1984</td>\n",
              "      <td>2004</td>\n",
              "      <td>Public Servant</td>\n",
              "      <td>A01-A04</td>\n",
              "      <td>Central Office</td>\n",
              "      <td>Corporate Strategy and Peformance</td>\n",
              "      <td>Permanent Full-time</td>\n",
              "      <td>True</td>\n",
              "      <td>False</td>\n",
              "      <td>False</td>\n",
              "      <td>True</td>\n",
              "      <td>False</td>\n",
              "      <td>False</td>\n",
              "      <td>True</td>\n",
              "      <td>False</td>\n",
              "      <td>False</td>\n",
              "      <td>False</td>\n",
              "      <td>False</td>\n",
              "      <td>False</td>\n",
              "      <td>False</td>\n",
              "      <td>False</td>\n",
              "      <td>False</td>\n",
              "      <td>False</td>\n",
              "      <td>False</td>\n",
              "      <td>True</td>\n",
              "      <td>A</td>\n",
              "      <td>A</td>\n",
              "      <td>N</td>\n",
              "      <td>N</td>\n",
              "      <td>N</td>\n",
              "      <td>A</td>\n",
              "      <td>A</td>\n",
              "      <td>A</td>\n",
              "      <td>A</td>\n",
              "      <td>N</td>\n",
              "      <td>N</td>\n",
              "      <td>N</td>\n",
              "      <td>A</td>\n",
              "      <td>A</td>\n",
              "      <td>A</td>\n",
              "      <td>N</td>\n",
              "      <td>A</td>\n",
              "      <td>A</td>\n",
              "      <td>N</td>\n",
              "      <td>N</td>\n",
              "      <td>N</td>\n",
              "      <td>Male</td>\n",
              "      <td>56-60</td>\n",
              "      <td>NaN</td>\n",
              "      <td>NaN</td>\n",
              "      <td>NaN</td>\n",
              "      <td>NaN</td>\n",
              "      <td>Yes</td>\n",
              "    </tr>\n",
              "    <tr>\n",
              "      <th>1</th>\n",
              "      <td>2</td>\n",
              "      <td>Voluntary Early Retirement (VER)</td>\n",
              "      <td>08/2012</td>\n",
              "      <td>Not Stated</td>\n",
              "      <td>Not Stated</td>\n",
              "      <td>Public Servant</td>\n",
              "      <td>AO5-AO7</td>\n",
              "      <td>Central Office</td>\n",
              "      <td>Corporate Strategy and Peformance</td>\n",
              "      <td>Permanent Full-time</td>\n",
              "      <td>False</td>\n",
              "      <td>False</td>\n",
              "      <td>False</td>\n",
              "      <td>False</td>\n",
              "      <td>False</td>\n",
              "      <td>False</td>\n",
              "      <td>False</td>\n",
              "      <td>False</td>\n",
              "      <td>False</td>\n",
              "      <td>False</td>\n",
              "      <td>False</td>\n",
              "      <td>False</td>\n",
              "      <td>False</td>\n",
              "      <td>False</td>\n",
              "      <td>False</td>\n",
              "      <td>False</td>\n",
              "      <td>False</td>\n",
              "      <td>False</td>\n",
              "      <td>A</td>\n",
              "      <td>A</td>\n",
              "      <td>N</td>\n",
              "      <td>N</td>\n",
              "      <td>N</td>\n",
              "      <td>N</td>\n",
              "      <td>A</td>\n",
              "      <td>A</td>\n",
              "      <td>A</td>\n",
              "      <td>N</td>\n",
              "      <td>N</td>\n",
              "      <td>N</td>\n",
              "      <td>A</td>\n",
              "      <td>A</td>\n",
              "      <td>A</td>\n",
              "      <td>N</td>\n",
              "      <td>A</td>\n",
              "      <td>A</td>\n",
              "      <td>N</td>\n",
              "      <td>N</td>\n",
              "      <td>N</td>\n",
              "      <td>Male</td>\n",
              "      <td>56-60</td>\n",
              "      <td>NaN</td>\n",
              "      <td>NaN</td>\n",
              "      <td>NaN</td>\n",
              "      <td>NaN</td>\n",
              "      <td>NaN</td>\n",
              "    </tr>\n",
              "    <tr>\n",
              "      <th>2</th>\n",
              "      <td>3</td>\n",
              "      <td>Voluntary Early Retirement (VER)</td>\n",
              "      <td>05/2012</td>\n",
              "      <td>2011</td>\n",
              "      <td>2011</td>\n",
              "      <td>Schools Officer</td>\n",
              "      <td>NaN</td>\n",
              "      <td>Central Office</td>\n",
              "      <td>Education Queensland</td>\n",
              "      <td>Permanent Full-time</td>\n",
              "      <td>False</td>\n",
              "      <td>False</td>\n",
              "      <td>False</td>\n",
              "      <td>False</td>\n",
              "      <td>False</td>\n",
              "      <td>False</td>\n",
              "      <td>False</td>\n",
              "      <td>False</td>\n",
              "      <td>False</td>\n",
              "      <td>False</td>\n",
              "      <td>False</td>\n",
              "      <td>False</td>\n",
              "      <td>False</td>\n",
              "      <td>False</td>\n",
              "      <td>False</td>\n",
              "      <td>False</td>\n",
              "      <td>False</td>\n",
              "      <td>True</td>\n",
              "      <td>N</td>\n",
              "      <td>N</td>\n",
              "      <td>N</td>\n",
              "      <td>N</td>\n",
              "      <td>N</td>\n",
              "      <td>N</td>\n",
              "      <td>N</td>\n",
              "      <td>N</td>\n",
              "      <td>N</td>\n",
              "      <td>N</td>\n",
              "      <td>N</td>\n",
              "      <td>N</td>\n",
              "      <td>N</td>\n",
              "      <td>N</td>\n",
              "      <td>N</td>\n",
              "      <td>A</td>\n",
              "      <td>A</td>\n",
              "      <td>N</td>\n",
              "      <td>N</td>\n",
              "      <td>N</td>\n",
              "      <td>N</td>\n",
              "      <td>Male</td>\n",
              "      <td>61 or older</td>\n",
              "      <td>NaN</td>\n",
              "      <td>NaN</td>\n",
              "      <td>NaN</td>\n",
              "      <td>NaN</td>\n",
              "      <td>NaN</td>\n",
              "    </tr>\n",
              "    <tr>\n",
              "      <th>3</th>\n",
              "      <td>4</td>\n",
              "      <td>Resignation-Other reasons</td>\n",
              "      <td>05/2012</td>\n",
              "      <td>2005</td>\n",
              "      <td>2006</td>\n",
              "      <td>Teacher</td>\n",
              "      <td>Primary</td>\n",
              "      <td>Central Queensland</td>\n",
              "      <td>NaN</td>\n",
              "      <td>Permanent Full-time</td>\n",
              "      <td>False</td>\n",
              "      <td>True</td>\n",
              "      <td>False</td>\n",
              "      <td>False</td>\n",
              "      <td>False</td>\n",
              "      <td>False</td>\n",
              "      <td>False</td>\n",
              "      <td>False</td>\n",
              "      <td>False</td>\n",
              "      <td>False</td>\n",
              "      <td>False</td>\n",
              "      <td>False</td>\n",
              "      <td>False</td>\n",
              "      <td>False</td>\n",
              "      <td>False</td>\n",
              "      <td>False</td>\n",
              "      <td>False</td>\n",
              "      <td>False</td>\n",
              "      <td>A</td>\n",
              "      <td>N</td>\n",
              "      <td>N</td>\n",
              "      <td>N</td>\n",
              "      <td>A</td>\n",
              "      <td>A</td>\n",
              "      <td>N</td>\n",
              "      <td>N</td>\n",
              "      <td>A</td>\n",
              "      <td>A</td>\n",
              "      <td>A</td>\n",
              "      <td>A</td>\n",
              "      <td>A</td>\n",
              "      <td>A</td>\n",
              "      <td>A</td>\n",
              "      <td>A</td>\n",
              "      <td>A</td>\n",
              "      <td>A</td>\n",
              "      <td>A</td>\n",
              "      <td>N</td>\n",
              "      <td>A</td>\n",
              "      <td>Female</td>\n",
              "      <td>36-40</td>\n",
              "      <td>NaN</td>\n",
              "      <td>NaN</td>\n",
              "      <td>NaN</td>\n",
              "      <td>NaN</td>\n",
              "      <td>NaN</td>\n",
              "    </tr>\n",
              "    <tr>\n",
              "      <th>4</th>\n",
              "      <td>5</td>\n",
              "      <td>Age Retirement</td>\n",
              "      <td>05/2012</td>\n",
              "      <td>1970</td>\n",
              "      <td>1989</td>\n",
              "      <td>Head of Curriculum/Head of Special Education</td>\n",
              "      <td>NaN</td>\n",
              "      <td>South East</td>\n",
              "      <td>NaN</td>\n",
              "      <td>Permanent Full-time</td>\n",
              "      <td>False</td>\n",
              "      <td>False</td>\n",
              "      <td>False</td>\n",
              "      <td>False</td>\n",
              "      <td>False</td>\n",
              "      <td>False</td>\n",
              "      <td>False</td>\n",
              "      <td>False</td>\n",
              "      <td>False</td>\n",
              "      <td>False</td>\n",
              "      <td>False</td>\n",
              "      <td>False</td>\n",
              "      <td>False</td>\n",
              "      <td>False</td>\n",
              "      <td>False</td>\n",
              "      <td>True</td>\n",
              "      <td>False</td>\n",
              "      <td>False</td>\n",
              "      <td>A</td>\n",
              "      <td>A</td>\n",
              "      <td>N</td>\n",
              "      <td>N</td>\n",
              "      <td>D</td>\n",
              "      <td>D</td>\n",
              "      <td>N</td>\n",
              "      <td>A</td>\n",
              "      <td>A</td>\n",
              "      <td>A</td>\n",
              "      <td>A</td>\n",
              "      <td>A</td>\n",
              "      <td>A</td>\n",
              "      <td>SA</td>\n",
              "      <td>SA</td>\n",
              "      <td>D</td>\n",
              "      <td>D</td>\n",
              "      <td>A</td>\n",
              "      <td>N</td>\n",
              "      <td>A</td>\n",
              "      <td>M</td>\n",
              "      <td>Female</td>\n",
              "      <td>61 or older</td>\n",
              "      <td>NaN</td>\n",
              "      <td>NaN</td>\n",
              "      <td>NaN</td>\n",
              "      <td>NaN</td>\n",
              "      <td>NaN</td>\n",
              "    </tr>\n",
              "  </tbody>\n",
              "</table>\n",
              "</div>"
            ],
            "text/plain": [
              "   ID                    SeparationType Cease Date  ... South Sea Disability NESB\n",
              "0   1             Ill Health Retirement    08/2012  ...       NaN        NaN  Yes\n",
              "1   2  Voluntary Early Retirement (VER)    08/2012  ...       NaN        NaN  NaN\n",
              "2   3  Voluntary Early Retirement (VER)    05/2012  ...       NaN        NaN  NaN\n",
              "3   4         Resignation-Other reasons    05/2012  ...       NaN        NaN  NaN\n",
              "4   5                    Age Retirement    05/2012  ...       NaN        NaN  NaN\n",
              "\n",
              "[5 rows x 56 columns]"
            ]
          },
          "metadata": {
            "tags": []
          },
          "execution_count": 3
        }
      ]
    },
    {
      "cell_type": "code",
      "metadata": {
        "id": "_4HIKBxvdOQo",
        "outputId": "a9571f9b-8097-4775-f9da-d6ef52e295df",
        "colab": {
          "base_uri": "https://localhost:8080/",
          "height": 1000
        }
      },
      "source": [
        "# Read the dataset into pandas dataframe and Explore the dataset\n",
        "tafe_survey = pd.read_csv(\"https://raw.githubusercontent.com/vietphtran/Data/master/tafe_survey.csv\")\n",
        "tafe_survey.info()"
      ],
      "execution_count": 4,
      "outputs": [
        {
          "output_type": "stream",
          "text": [
            "<class 'pandas.core.frame.DataFrame'>\n",
            "RangeIndex: 702 entries, 0 to 701\n",
            "Data columns (total 72 columns):\n",
            " #   Column                                                                                                                                                         Non-Null Count  Dtype  \n",
            "---  ------                                                                                                                                                         --------------  -----  \n",
            " 0   Record ID                                                                                                                                                      702 non-null    float64\n",
            " 1   Institute                                                                                                                                                      702 non-null    object \n",
            " 2   WorkArea                                                                                                                                                       702 non-null    object \n",
            " 3   CESSATION YEAR                                                                                                                                                 695 non-null    float64\n",
            " 4   Reason for ceasing employment                                                                                                                                  701 non-null    object \n",
            " 5   Contributing Factors. Career Move - Public Sector                                                                                                              437 non-null    object \n",
            " 6   Contributing Factors. Career Move - Private Sector                                                                                                             437 non-null    object \n",
            " 7   Contributing Factors. Career Move - Self-employment                                                                                                            437 non-null    object \n",
            " 8   Contributing Factors. Ill Health                                                                                                                               437 non-null    object \n",
            " 9   Contributing Factors. Maternity/Family                                                                                                                         437 non-null    object \n",
            " 10  Contributing Factors. Dissatisfaction                                                                                                                          437 non-null    object \n",
            " 11  Contributing Factors. Job Dissatisfaction                                                                                                                      437 non-null    object \n",
            " 12  Contributing Factors. Interpersonal Conflict                                                                                                                   437 non-null    object \n",
            " 13  Contributing Factors. Study                                                                                                                                    437 non-null    object \n",
            " 14  Contributing Factors. Travel                                                                                                                                   437 non-null    object \n",
            " 15  Contributing Factors. Other                                                                                                                                    437 non-null    object \n",
            " 16  Contributing Factors. NONE                                                                                                                                     437 non-null    object \n",
            " 17  Main Factor. Which of these was the main factor for leaving?                                                                                                   113 non-null    object \n",
            " 18  InstituteViews. Topic:1. I feel the senior leadership had a clear vision and direction                                                                         608 non-null    object \n",
            " 19  InstituteViews. Topic:2. I was given access to skills training to help me do my job better                                                                     613 non-null    object \n",
            " 20  InstituteViews. Topic:3. I was given adequate opportunities for personal development                                                                           610 non-null    object \n",
            " 21  InstituteViews. Topic:4. I was given adequate opportunities for promotion within %Institute]Q25LBL%                                                            608 non-null    object \n",
            " 22  InstituteViews. Topic:5. I felt the salary for the job was right for the responsibilities I had                                                                615 non-null    object \n",
            " 23  InstituteViews. Topic:6. The organisation recognised when staff did good work                                                                                  607 non-null    object \n",
            " 24  InstituteViews. Topic:7. Management was generally supportive of me                                                                                             614 non-null    object \n",
            " 25  InstituteViews. Topic:8. Management was generally supportive of my team                                                                                        608 non-null    object \n",
            " 26  InstituteViews. Topic:9. I was kept informed of the changes in the organisation which would affect me                                                          610 non-null    object \n",
            " 27  InstituteViews. Topic:10. Staff morale was positive within the Institute                                                                                       602 non-null    object \n",
            " 28  InstituteViews. Topic:11. If I had a workplace issue it was dealt with quickly                                                                                 601 non-null    object \n",
            " 29  InstituteViews. Topic:12. If I had a workplace issue it was dealt with efficiently                                                                             597 non-null    object \n",
            " 30  InstituteViews. Topic:13. If I had a workplace issue it was dealt with discreetly                                                                              601 non-null    object \n",
            " 31  WorkUnitViews. Topic:14. I was satisfied with the quality of the management and supervision within my work unit                                                609 non-null    object \n",
            " 32  WorkUnitViews. Topic:15. I worked well with my colleagues                                                                                                      605 non-null    object \n",
            " 33  WorkUnitViews. Topic:16. My job was challenging and interesting                                                                                                607 non-null    object \n",
            " 34  WorkUnitViews. Topic:17. I was encouraged to use my initiative in the course of my work                                                                        610 non-null    object \n",
            " 35  WorkUnitViews. Topic:18. I had sufficient contact with other people in my job                                                                                  613 non-null    object \n",
            " 36  WorkUnitViews. Topic:19. I was given adequate support and co-operation by my peers to enable me to do my job                                                   609 non-null    object \n",
            " 37  WorkUnitViews. Topic:20. I was able to use the full range of my skills in my job                                                                               609 non-null    object \n",
            " 38  WorkUnitViews. Topic:21. I was able to use the full range of my abilities in my job. ; Category:Level of Agreement; Question:YOUR VIEWS ABOUT YOUR WORK UNIT]  608 non-null    object \n",
            " 39  WorkUnitViews. Topic:22. I was able to use the full range of my knowledge in my job                                                                            608 non-null    object \n",
            " 40  WorkUnitViews. Topic:23. My job provided sufficient variety                                                                                                    611 non-null    object \n",
            " 41  WorkUnitViews. Topic:24. I was able to cope with the level of stress and pressure in my job                                                                    610 non-null    object \n",
            " 42  WorkUnitViews. Topic:25. My job allowed me to balance the demands of work and family to my satisfaction                                                        611 non-null    object \n",
            " 43  WorkUnitViews. Topic:26. My supervisor gave me adequate personal recognition and feedback on my performance                                                    606 non-null    object \n",
            " 44  WorkUnitViews. Topic:27. My working environment was satisfactory e.g. sufficient space, good lighting, suitable seating and working area                       610 non-null    object \n",
            " 45  WorkUnitViews. Topic:28. I was given the opportunity to mentor and coach others in order for me to pass on my skills and knowledge prior to my cessation date  609 non-null    object \n",
            " 46  WorkUnitViews. Topic:29. There was adequate communication between staff in my unit                                                                             603 non-null    object \n",
            " 47  WorkUnitViews. Topic:30. Staff morale was positive within my work unit                                                                                         606 non-null    object \n",
            " 48  Induction. Did you undertake Workplace Induction?                                                                                                              619 non-null    object \n",
            " 49  InductionInfo. Topic:Did you undertake a Corporate Induction?                                                                                                  432 non-null    object \n",
            " 50  InductionInfo. Topic:Did you undertake a Institute Induction?                                                                                                  483 non-null    object \n",
            " 51  InductionInfo. Topic: Did you undertake Team Induction?                                                                                                        440 non-null    object \n",
            " 52  InductionInfo. Face to Face Topic:Did you undertake a Corporate Induction; Category:How it was conducted?                                                      555 non-null    object \n",
            " 53  InductionInfo. On-line Topic:Did you undertake a Corporate Induction; Category:How it was conducted?                                                           555 non-null    object \n",
            " 54  InductionInfo. Induction Manual Topic:Did you undertake a Corporate Induction?                                                                                 555 non-null    object \n",
            " 55  InductionInfo. Face to Face Topic:Did you undertake a Institute Induction?                                                                                     530 non-null    object \n",
            " 56  InductionInfo. On-line Topic:Did you undertake a Institute Induction?                                                                                          555 non-null    object \n",
            " 57  InductionInfo. Induction Manual Topic:Did you undertake a Institute Induction?                                                                                 553 non-null    object \n",
            " 58  InductionInfo. Face to Face Topic: Did you undertake Team Induction; Category?                                                                                 555 non-null    object \n",
            " 59  InductionInfo. On-line Topic: Did you undertake Team Induction?process you undertook and how it was conducted.]                                                555 non-null    object \n",
            " 60  InductionInfo. Induction Manual Topic: Did you undertake Team Induction?                                                                                       555 non-null    object \n",
            " 61  Workplace. Topic:Did you and your Manager develop a Performance and Professional Development Plan (PPDP)?                                                      608 non-null    object \n",
            " 62  Workplace. Topic:Does your workplace promote a work culture free from all forms of unlawful discrimination?                                                    594 non-null    object \n",
            " 63  Workplace. Topic:Does your workplace promote and practice the principles of employment equity?                                                                 587 non-null    object \n",
            " 64  Workplace. Topic:Does your workplace value the diversity of its employees?                                                                                     586 non-null    object \n",
            " 65  Workplace. Topic:Would you recommend the Institute as an employer to others?                                                                                   581 non-null    object \n",
            " 66  Gender. What is your Gender?                                                                                                                                   596 non-null    object \n",
            " 67  CurrentAge. Current Age                                                                                                                                        596 non-null    object \n",
            " 68  Employment Type. Employment Type                                                                                                                               596 non-null    object \n",
            " 69  Classification. Classification                                                                                                                                 596 non-null    object \n",
            " 70  LengthofServiceOverall. Overall Length of Service at Institute (in years)                                                                                      596 non-null    object \n",
            " 71  LengthofServiceCurrent. Length of Service at current workplace (in years)                                                                                      596 non-null    object \n",
            "dtypes: float64(2), object(70)\n",
            "memory usage: 395.0+ KB\n"
          ],
          "name": "stdout"
        }
      ]
    },
    {
      "cell_type": "code",
      "metadata": {
        "id": "2gWbqzgJdfyW",
        "outputId": "2e2a0c2d-e308-4904-998c-6fcc6a52d120",
        "colab": {
          "base_uri": "https://localhost:8080/",
          "height": 617
        }
      },
      "source": [
        "tafe_survey.head()"
      ],
      "execution_count": 5,
      "outputs": [
        {
          "output_type": "execute_result",
          "data": {
            "text/html": [
              "<div>\n",
              "<style scoped>\n",
              "    .dataframe tbody tr th:only-of-type {\n",
              "        vertical-align: middle;\n",
              "    }\n",
              "\n",
              "    .dataframe tbody tr th {\n",
              "        vertical-align: top;\n",
              "    }\n",
              "\n",
              "    .dataframe thead th {\n",
              "        text-align: right;\n",
              "    }\n",
              "</style>\n",
              "<table border=\"1\" class=\"dataframe\">\n",
              "  <thead>\n",
              "    <tr style=\"text-align: right;\">\n",
              "      <th></th>\n",
              "      <th>Record ID</th>\n",
              "      <th>Institute</th>\n",
              "      <th>WorkArea</th>\n",
              "      <th>CESSATION YEAR</th>\n",
              "      <th>Reason for ceasing employment</th>\n",
              "      <th>Contributing Factors. Career Move - Public Sector</th>\n",
              "      <th>Contributing Factors. Career Move - Private Sector</th>\n",
              "      <th>Contributing Factors. Career Move - Self-employment</th>\n",
              "      <th>Contributing Factors. Ill Health</th>\n",
              "      <th>Contributing Factors. Maternity/Family</th>\n",
              "      <th>Contributing Factors. Dissatisfaction</th>\n",
              "      <th>Contributing Factors. Job Dissatisfaction</th>\n",
              "      <th>Contributing Factors. Interpersonal Conflict</th>\n",
              "      <th>Contributing Factors. Study</th>\n",
              "      <th>Contributing Factors. Travel</th>\n",
              "      <th>Contributing Factors. Other</th>\n",
              "      <th>Contributing Factors. NONE</th>\n",
              "      <th>Main Factor. Which of these was the main factor for leaving?</th>\n",
              "      <th>InstituteViews. Topic:1. I feel the senior leadership had a clear vision and direction</th>\n",
              "      <th>InstituteViews. Topic:2. I was given access to skills training to help me do my job better</th>\n",
              "      <th>InstituteViews. Topic:3. I was given adequate opportunities for personal development</th>\n",
              "      <th>InstituteViews. Topic:4. I was given adequate opportunities for promotion within %Institute]Q25LBL%</th>\n",
              "      <th>InstituteViews. Topic:5. I felt the salary for the job was right for the responsibilities I had</th>\n",
              "      <th>InstituteViews. Topic:6. The organisation recognised when staff did good work</th>\n",
              "      <th>InstituteViews. Topic:7. Management was generally supportive of me</th>\n",
              "      <th>InstituteViews. Topic:8. Management was generally supportive of my team</th>\n",
              "      <th>InstituteViews. Topic:9. I was kept informed of the changes in the organisation which would affect me</th>\n",
              "      <th>InstituteViews. Topic:10. Staff morale was positive within the Institute</th>\n",
              "      <th>InstituteViews. Topic:11. If I had a workplace issue it was dealt with quickly</th>\n",
              "      <th>InstituteViews. Topic:12. If I had a workplace issue it was dealt with efficiently</th>\n",
              "      <th>InstituteViews. Topic:13. If I had a workplace issue it was dealt with discreetly</th>\n",
              "      <th>WorkUnitViews. Topic:14. I was satisfied with the quality of the management and supervision within my work unit</th>\n",
              "      <th>WorkUnitViews. Topic:15. I worked well with my colleagues</th>\n",
              "      <th>WorkUnitViews. Topic:16. My job was challenging and interesting</th>\n",
              "      <th>WorkUnitViews. Topic:17. I was encouraged to use my initiative in the course of my work</th>\n",
              "      <th>WorkUnitViews. Topic:18. I had sufficient contact with other people in my job</th>\n",
              "      <th>WorkUnitViews. Topic:19. I was given adequate support and co-operation by my peers to enable me to do my job</th>\n",
              "      <th>WorkUnitViews. Topic:20. I was able to use the full range of my skills in my job</th>\n",
              "      <th>WorkUnitViews. Topic:21. I was able to use the full range of my abilities in my job. ; Category:Level of Agreement; Question:YOUR VIEWS ABOUT YOUR WORK UNIT]</th>\n",
              "      <th>WorkUnitViews. Topic:22. I was able to use the full range of my knowledge in my job</th>\n",
              "      <th>WorkUnitViews. Topic:23. My job provided sufficient variety</th>\n",
              "      <th>WorkUnitViews. Topic:24. I was able to cope with the level of stress and pressure in my job</th>\n",
              "      <th>WorkUnitViews. Topic:25. My job allowed me to balance the demands of work and family to my satisfaction</th>\n",
              "      <th>WorkUnitViews. Topic:26. My supervisor gave me adequate personal recognition and feedback on my performance</th>\n",
              "      <th>WorkUnitViews. Topic:27. My working environment was satisfactory e.g. sufficient space, good lighting, suitable seating and working area</th>\n",
              "      <th>WorkUnitViews. Topic:28. I was given the opportunity to mentor and coach others in order for me to pass on my skills and knowledge prior to my cessation date</th>\n",
              "      <th>WorkUnitViews. Topic:29. There was adequate communication between staff in my unit</th>\n",
              "      <th>WorkUnitViews. Topic:30. Staff morale was positive within my work unit</th>\n",
              "      <th>Induction. Did you undertake Workplace Induction?</th>\n",
              "      <th>InductionInfo. Topic:Did you undertake a Corporate Induction?</th>\n",
              "      <th>InductionInfo. Topic:Did you undertake a Institute Induction?</th>\n",
              "      <th>InductionInfo. Topic: Did you undertake Team Induction?</th>\n",
              "      <th>InductionInfo. Face to Face Topic:Did you undertake a Corporate Induction; Category:How it was conducted?</th>\n",
              "      <th>InductionInfo. On-line Topic:Did you undertake a Corporate Induction; Category:How it was conducted?</th>\n",
              "      <th>InductionInfo. Induction Manual Topic:Did you undertake a Corporate Induction?</th>\n",
              "      <th>InductionInfo. Face to Face Topic:Did you undertake a Institute Induction?</th>\n",
              "      <th>InductionInfo. On-line Topic:Did you undertake a Institute Induction?</th>\n",
              "      <th>InductionInfo. Induction Manual Topic:Did you undertake a Institute Induction?</th>\n",
              "      <th>InductionInfo. Face to Face Topic: Did you undertake Team Induction; Category?</th>\n",
              "      <th>InductionInfo. On-line Topic: Did you undertake Team Induction?process you undertook and how it was conducted.]</th>\n",
              "      <th>InductionInfo. Induction Manual Topic: Did you undertake Team Induction?</th>\n",
              "      <th>Workplace. Topic:Did you and your Manager develop a Performance and Professional Development Plan (PPDP)?</th>\n",
              "      <th>Workplace. Topic:Does your workplace promote a work culture free from all forms of unlawful discrimination?</th>\n",
              "      <th>Workplace. Topic:Does your workplace promote and practice the principles of employment equity?</th>\n",
              "      <th>Workplace. Topic:Does your workplace value the diversity of its employees?</th>\n",
              "      <th>Workplace. Topic:Would you recommend the Institute as an employer to others?</th>\n",
              "      <th>Gender. What is your Gender?</th>\n",
              "      <th>CurrentAge. Current Age</th>\n",
              "      <th>Employment Type. Employment Type</th>\n",
              "      <th>Classification. Classification</th>\n",
              "      <th>LengthofServiceOverall. Overall Length of Service at Institute (in years)</th>\n",
              "      <th>LengthofServiceCurrent. Length of Service at current workplace (in years)</th>\n",
              "    </tr>\n",
              "  </thead>\n",
              "  <tbody>\n",
              "    <tr>\n",
              "      <th>0</th>\n",
              "      <td>6.341330e+17</td>\n",
              "      <td>Southern Queensland Institute of TAFE</td>\n",
              "      <td>Non-Delivery (corporate)</td>\n",
              "      <td>2010.0</td>\n",
              "      <td>Contract Expired</td>\n",
              "      <td>NaN</td>\n",
              "      <td>NaN</td>\n",
              "      <td>NaN</td>\n",
              "      <td>NaN</td>\n",
              "      <td>NaN</td>\n",
              "      <td>NaN</td>\n",
              "      <td>NaN</td>\n",
              "      <td>NaN</td>\n",
              "      <td>NaN</td>\n",
              "      <td>NaN</td>\n",
              "      <td>NaN</td>\n",
              "      <td>NaN</td>\n",
              "      <td>NaN</td>\n",
              "      <td>Agree</td>\n",
              "      <td>Agree</td>\n",
              "      <td>Agree</td>\n",
              "      <td>Neutral</td>\n",
              "      <td>Agree</td>\n",
              "      <td>Agree</td>\n",
              "      <td>Agree</td>\n",
              "      <td>Agree</td>\n",
              "      <td>Agree</td>\n",
              "      <td>Agree</td>\n",
              "      <td>Agree</td>\n",
              "      <td>Agree</td>\n",
              "      <td>Agree</td>\n",
              "      <td>Agree</td>\n",
              "      <td>Agree</td>\n",
              "      <td>Agree</td>\n",
              "      <td>Strongly Agree</td>\n",
              "      <td>Agree</td>\n",
              "      <td>Agree</td>\n",
              "      <td>Agree</td>\n",
              "      <td>Agree</td>\n",
              "      <td>Agree</td>\n",
              "      <td>Agree</td>\n",
              "      <td>Agree</td>\n",
              "      <td>Agree</td>\n",
              "      <td>Agree</td>\n",
              "      <td>Agree</td>\n",
              "      <td>Neutral</td>\n",
              "      <td>Agree</td>\n",
              "      <td>Agree</td>\n",
              "      <td>Yes</td>\n",
              "      <td>Yes</td>\n",
              "      <td>Yes</td>\n",
              "      <td>Yes</td>\n",
              "      <td>Face to Face</td>\n",
              "      <td>-</td>\n",
              "      <td>-</td>\n",
              "      <td>Face to Face</td>\n",
              "      <td>-</td>\n",
              "      <td>-</td>\n",
              "      <td>Face to Face</td>\n",
              "      <td>-</td>\n",
              "      <td>-</td>\n",
              "      <td>Yes</td>\n",
              "      <td>Yes</td>\n",
              "      <td>Yes</td>\n",
              "      <td>Yes</td>\n",
              "      <td>Yes</td>\n",
              "      <td>Female</td>\n",
              "      <td>26  30</td>\n",
              "      <td>Temporary Full-time</td>\n",
              "      <td>Administration (AO)</td>\n",
              "      <td>1-2</td>\n",
              "      <td>1-2</td>\n",
              "    </tr>\n",
              "    <tr>\n",
              "      <th>1</th>\n",
              "      <td>6.341337e+17</td>\n",
              "      <td>Mount Isa Institute of TAFE</td>\n",
              "      <td>Non-Delivery (corporate)</td>\n",
              "      <td>2010.0</td>\n",
              "      <td>Retirement</td>\n",
              "      <td>-</td>\n",
              "      <td>-</td>\n",
              "      <td>-</td>\n",
              "      <td>-</td>\n",
              "      <td>-</td>\n",
              "      <td>-</td>\n",
              "      <td>-</td>\n",
              "      <td>-</td>\n",
              "      <td>-</td>\n",
              "      <td>Travel</td>\n",
              "      <td>-</td>\n",
              "      <td>-</td>\n",
              "      <td>NaN</td>\n",
              "      <td>Agree</td>\n",
              "      <td>Agree</td>\n",
              "      <td>Agree</td>\n",
              "      <td>Agree</td>\n",
              "      <td>Agree</td>\n",
              "      <td>Strongly Agree</td>\n",
              "      <td>Strongly Agree</td>\n",
              "      <td>Agree</td>\n",
              "      <td>Strongly Agree</td>\n",
              "      <td>Agree</td>\n",
              "      <td>Agree</td>\n",
              "      <td>Agree</td>\n",
              "      <td>Disagree</td>\n",
              "      <td>Strongly Agree</td>\n",
              "      <td>Strongly Agree</td>\n",
              "      <td>Strongly Agree</td>\n",
              "      <td>Agree</td>\n",
              "      <td>Agree</td>\n",
              "      <td>Agree</td>\n",
              "      <td>Strongly Agree</td>\n",
              "      <td>Agree</td>\n",
              "      <td>Agree</td>\n",
              "      <td>Agree</td>\n",
              "      <td>Strongly Agree</td>\n",
              "      <td>Agree</td>\n",
              "      <td>Strongly Agree</td>\n",
              "      <td>Strongly Agree</td>\n",
              "      <td>Agree</td>\n",
              "      <td>Agree</td>\n",
              "      <td>Strongly Agree</td>\n",
              "      <td>No</td>\n",
              "      <td>NaN</td>\n",
              "      <td>NaN</td>\n",
              "      <td>NaN</td>\n",
              "      <td>NaN</td>\n",
              "      <td>NaN</td>\n",
              "      <td>NaN</td>\n",
              "      <td>NaN</td>\n",
              "      <td>NaN</td>\n",
              "      <td>NaN</td>\n",
              "      <td>NaN</td>\n",
              "      <td>NaN</td>\n",
              "      <td>NaN</td>\n",
              "      <td>Yes</td>\n",
              "      <td>Yes</td>\n",
              "      <td>Yes</td>\n",
              "      <td>Yes</td>\n",
              "      <td>Yes</td>\n",
              "      <td>NaN</td>\n",
              "      <td>NaN</td>\n",
              "      <td>NaN</td>\n",
              "      <td>NaN</td>\n",
              "      <td>NaN</td>\n",
              "      <td>NaN</td>\n",
              "    </tr>\n",
              "    <tr>\n",
              "      <th>2</th>\n",
              "      <td>6.341388e+17</td>\n",
              "      <td>Mount Isa Institute of TAFE</td>\n",
              "      <td>Delivery (teaching)</td>\n",
              "      <td>2010.0</td>\n",
              "      <td>Retirement</td>\n",
              "      <td>-</td>\n",
              "      <td>-</td>\n",
              "      <td>-</td>\n",
              "      <td>-</td>\n",
              "      <td>-</td>\n",
              "      <td>-</td>\n",
              "      <td>-</td>\n",
              "      <td>-</td>\n",
              "      <td>-</td>\n",
              "      <td>-</td>\n",
              "      <td>-</td>\n",
              "      <td>NONE</td>\n",
              "      <td>NaN</td>\n",
              "      <td>Agree</td>\n",
              "      <td>Agree</td>\n",
              "      <td>Agree</td>\n",
              "      <td>Agree</td>\n",
              "      <td>Agree</td>\n",
              "      <td>Agree</td>\n",
              "      <td>Strongly Agree</td>\n",
              "      <td>Agree</td>\n",
              "      <td>Agree</td>\n",
              "      <td>Agree</td>\n",
              "      <td>Agree</td>\n",
              "      <td>Neutral</td>\n",
              "      <td>Neutral</td>\n",
              "      <td>Strongly Agree</td>\n",
              "      <td>Strongly Agree</td>\n",
              "      <td>Agree</td>\n",
              "      <td>Agree</td>\n",
              "      <td>Agree</td>\n",
              "      <td>Agree</td>\n",
              "      <td>Agree</td>\n",
              "      <td>Agree</td>\n",
              "      <td>Agree</td>\n",
              "      <td>Agree</td>\n",
              "      <td>Agree</td>\n",
              "      <td>Agree</td>\n",
              "      <td>Agree</td>\n",
              "      <td>Agree</td>\n",
              "      <td>Agree</td>\n",
              "      <td>Agree</td>\n",
              "      <td>Agree</td>\n",
              "      <td>No</td>\n",
              "      <td>NaN</td>\n",
              "      <td>NaN</td>\n",
              "      <td>NaN</td>\n",
              "      <td>NaN</td>\n",
              "      <td>NaN</td>\n",
              "      <td>NaN</td>\n",
              "      <td>NaN</td>\n",
              "      <td>NaN</td>\n",
              "      <td>NaN</td>\n",
              "      <td>NaN</td>\n",
              "      <td>NaN</td>\n",
              "      <td>NaN</td>\n",
              "      <td>Yes</td>\n",
              "      <td>Yes</td>\n",
              "      <td>Yes</td>\n",
              "      <td>Yes</td>\n",
              "      <td>Yes</td>\n",
              "      <td>NaN</td>\n",
              "      <td>NaN</td>\n",
              "      <td>NaN</td>\n",
              "      <td>NaN</td>\n",
              "      <td>NaN</td>\n",
              "      <td>NaN</td>\n",
              "    </tr>\n",
              "    <tr>\n",
              "      <th>3</th>\n",
              "      <td>6.341399e+17</td>\n",
              "      <td>Mount Isa Institute of TAFE</td>\n",
              "      <td>Non-Delivery (corporate)</td>\n",
              "      <td>2010.0</td>\n",
              "      <td>Resignation</td>\n",
              "      <td>-</td>\n",
              "      <td>-</td>\n",
              "      <td>-</td>\n",
              "      <td>-</td>\n",
              "      <td>-</td>\n",
              "      <td>-</td>\n",
              "      <td>-</td>\n",
              "      <td>-</td>\n",
              "      <td>-</td>\n",
              "      <td>Travel</td>\n",
              "      <td>-</td>\n",
              "      <td>-</td>\n",
              "      <td>NaN</td>\n",
              "      <td>Agree</td>\n",
              "      <td>Agree</td>\n",
              "      <td>Agree</td>\n",
              "      <td>Agree</td>\n",
              "      <td>Agree</td>\n",
              "      <td>Agree</td>\n",
              "      <td>Agree</td>\n",
              "      <td>Agree</td>\n",
              "      <td>Agree</td>\n",
              "      <td>Agree</td>\n",
              "      <td>Agree</td>\n",
              "      <td>Agree</td>\n",
              "      <td>Agree</td>\n",
              "      <td>Strongly Agree</td>\n",
              "      <td>Strongly Agree</td>\n",
              "      <td>Strongly Agree</td>\n",
              "      <td>Strongly Agree</td>\n",
              "      <td>Strongly Agree</td>\n",
              "      <td>Strongly Agree</td>\n",
              "      <td>Strongly Agree</td>\n",
              "      <td>Strongly Agree</td>\n",
              "      <td>Strongly Agree</td>\n",
              "      <td>Strongly Agree</td>\n",
              "      <td>Strongly Agree</td>\n",
              "      <td>Strongly Agree</td>\n",
              "      <td>Strongly Agree</td>\n",
              "      <td>Strongly Agree</td>\n",
              "      <td>Strongly Agree</td>\n",
              "      <td>Strongly Agree</td>\n",
              "      <td>Strongly Agree</td>\n",
              "      <td>Yes</td>\n",
              "      <td>No</td>\n",
              "      <td>Yes</td>\n",
              "      <td>Yes</td>\n",
              "      <td>-</td>\n",
              "      <td>-</td>\n",
              "      <td>-</td>\n",
              "      <td>NaN</td>\n",
              "      <td>-</td>\n",
              "      <td>-</td>\n",
              "      <td>-</td>\n",
              "      <td>-</td>\n",
              "      <td>-</td>\n",
              "      <td>Yes</td>\n",
              "      <td>Yes</td>\n",
              "      <td>Yes</td>\n",
              "      <td>Yes</td>\n",
              "      <td>Yes</td>\n",
              "      <td>NaN</td>\n",
              "      <td>NaN</td>\n",
              "      <td>NaN</td>\n",
              "      <td>NaN</td>\n",
              "      <td>NaN</td>\n",
              "      <td>NaN</td>\n",
              "    </tr>\n",
              "    <tr>\n",
              "      <th>4</th>\n",
              "      <td>6.341466e+17</td>\n",
              "      <td>Southern Queensland Institute of TAFE</td>\n",
              "      <td>Delivery (teaching)</td>\n",
              "      <td>2010.0</td>\n",
              "      <td>Resignation</td>\n",
              "      <td>-</td>\n",
              "      <td>Career Move - Private Sector</td>\n",
              "      <td>-</td>\n",
              "      <td>-</td>\n",
              "      <td>-</td>\n",
              "      <td>-</td>\n",
              "      <td>-</td>\n",
              "      <td>-</td>\n",
              "      <td>-</td>\n",
              "      <td>-</td>\n",
              "      <td>-</td>\n",
              "      <td>-</td>\n",
              "      <td>NaN</td>\n",
              "      <td>Agree</td>\n",
              "      <td>Agree</td>\n",
              "      <td>Strongly Agree</td>\n",
              "      <td>Agree</td>\n",
              "      <td>Strongly Agree</td>\n",
              "      <td>Strongly Agree</td>\n",
              "      <td>Strongly Agree</td>\n",
              "      <td>Strongly Agree</td>\n",
              "      <td>Agree</td>\n",
              "      <td>Strongly Agree</td>\n",
              "      <td>Strongly Agree</td>\n",
              "      <td>Agree</td>\n",
              "      <td>Strongly Agree</td>\n",
              "      <td>Strongly Agree</td>\n",
              "      <td>Strongly Agree</td>\n",
              "      <td>Strongly Agree</td>\n",
              "      <td>Strongly Agree</td>\n",
              "      <td>Strongly Agree</td>\n",
              "      <td>Strongly Agree</td>\n",
              "      <td>Strongly Agree</td>\n",
              "      <td>Strongly Agree</td>\n",
              "      <td>Strongly Agree</td>\n",
              "      <td>Strongly Agree</td>\n",
              "      <td>Strongly Agree</td>\n",
              "      <td>Strongly Agree</td>\n",
              "      <td>Strongly Agree</td>\n",
              "      <td>Strongly Agree</td>\n",
              "      <td>Strongly Agree</td>\n",
              "      <td>Strongly Agree</td>\n",
              "      <td>Strongly Agree</td>\n",
              "      <td>Yes</td>\n",
              "      <td>Yes</td>\n",
              "      <td>Yes</td>\n",
              "      <td>Yes</td>\n",
              "      <td>-</td>\n",
              "      <td>-</td>\n",
              "      <td>Induction Manual</td>\n",
              "      <td>Face to Face</td>\n",
              "      <td>-</td>\n",
              "      <td>-</td>\n",
              "      <td>Face to Face</td>\n",
              "      <td>-</td>\n",
              "      <td>-</td>\n",
              "      <td>Yes</td>\n",
              "      <td>Yes</td>\n",
              "      <td>Yes</td>\n",
              "      <td>Yes</td>\n",
              "      <td>Yes</td>\n",
              "      <td>Male</td>\n",
              "      <td>41  45</td>\n",
              "      <td>Permanent Full-time</td>\n",
              "      <td>Teacher (including LVT)</td>\n",
              "      <td>3-4</td>\n",
              "      <td>3-4</td>\n",
              "    </tr>\n",
              "  </tbody>\n",
              "</table>\n",
              "</div>"
            ],
            "text/plain": [
              "      Record ID  ... LengthofServiceCurrent. Length of Service at current workplace (in years)\n",
              "0  6.341330e+17  ...                                                1-2                       \n",
              "1  6.341337e+17  ...                                                NaN                       \n",
              "2  6.341388e+17  ...                                                NaN                       \n",
              "3  6.341399e+17  ...                                                NaN                       \n",
              "4  6.341466e+17  ...                                                3-4                       \n",
              "\n",
              "[5 rows x 72 columns]"
            ]
          },
          "metadata": {
            "tags": []
          },
          "execution_count": 5
        }
      ]
    },
    {
      "cell_type": "markdown",
      "metadata": {
        "id": "ldVQxLBPeQ8O"
      },
      "source": [
        "**Some initial observations:**\n",
        "\n",
        "- The dete_survey dataframe contains 'Not Stated' values that indicate values are missing, but they aren't represented as NaN.\n",
        "- dete_survey has boolean entries, tafe_survey has entries entered as strings\n",
        "- Both the dete_survey and tafe_survey dataframes contain many columns that we might be irrelevant to our analysis.\n",
        "- Each dataframe contains many of the same columns, but the column names are different.\n",
        "- There are multiple columns/answers that indicate an employee resigned because they were dissatisfied.\n"
      ]
    },
    {
      "cell_type": "markdown",
      "metadata": {
        "id": "vsGqMQg0jsAw"
      },
      "source": [
        "## **Correct missing values and drop irrelevant columns**\n",
        "\n",
        "We begin our data cleaning process with the first two tasks:\n",
        "- Change the 'Not Stated' value to NaN value\n",
        "- Drop columns that we don't need to complete our analysis: after reading through the column names of each dataset, we decide to drop the following columns:\n",
        "    - dete_survey: column indexing from 28 to 48\n",
        "    - tafe_survey: column indexing from 17 to 65\n",
        "\n"
      ]
    },
    {
      "cell_type": "code",
      "metadata": {
        "id": "KOcQb_PvdXJg",
        "outputId": "45dce3ab-f76f-4f3d-e9f3-74727945416e",
        "colab": {
          "base_uri": "https://localhost:8080/",
          "height": 484
        }
      },
      "source": [
        "# Read the dataset into dataframe with \"Not Stated\" values read as NaN\n",
        "dete_survey = pd.read_csv(\"https://raw.githubusercontent.com/vietphtran/Data/master/dete_survey.csv\", na_values=\"Not Stated\")\n",
        "\n",
        "#Check the updated dataframe\n",
        "dete_survey.head()"
      ],
      "execution_count": 6,
      "outputs": [
        {
          "output_type": "execute_result",
          "data": {
            "text/html": [
              "<div>\n",
              "<style scoped>\n",
              "    .dataframe tbody tr th:only-of-type {\n",
              "        vertical-align: middle;\n",
              "    }\n",
              "\n",
              "    .dataframe tbody tr th {\n",
              "        vertical-align: top;\n",
              "    }\n",
              "\n",
              "    .dataframe thead th {\n",
              "        text-align: right;\n",
              "    }\n",
              "</style>\n",
              "<table border=\"1\" class=\"dataframe\">\n",
              "  <thead>\n",
              "    <tr style=\"text-align: right;\">\n",
              "      <th></th>\n",
              "      <th>ID</th>\n",
              "      <th>SeparationType</th>\n",
              "      <th>Cease Date</th>\n",
              "      <th>DETE Start Date</th>\n",
              "      <th>Role Start Date</th>\n",
              "      <th>Position</th>\n",
              "      <th>Classification</th>\n",
              "      <th>Region</th>\n",
              "      <th>Business Unit</th>\n",
              "      <th>Employment Status</th>\n",
              "      <th>Career move to public sector</th>\n",
              "      <th>Career move to private sector</th>\n",
              "      <th>Interpersonal conflicts</th>\n",
              "      <th>Job dissatisfaction</th>\n",
              "      <th>Dissatisfaction with the department</th>\n",
              "      <th>Physical work environment</th>\n",
              "      <th>Lack of recognition</th>\n",
              "      <th>Lack of job security</th>\n",
              "      <th>Work location</th>\n",
              "      <th>Employment conditions</th>\n",
              "      <th>Maternity/family</th>\n",
              "      <th>Relocation</th>\n",
              "      <th>Study/Travel</th>\n",
              "      <th>Ill Health</th>\n",
              "      <th>Traumatic incident</th>\n",
              "      <th>Work life balance</th>\n",
              "      <th>Workload</th>\n",
              "      <th>None of the above</th>\n",
              "      <th>Professional Development</th>\n",
              "      <th>Opportunities for promotion</th>\n",
              "      <th>Staff morale</th>\n",
              "      <th>Workplace issue</th>\n",
              "      <th>Physical environment</th>\n",
              "      <th>Worklife balance</th>\n",
              "      <th>Stress and pressure support</th>\n",
              "      <th>Performance of supervisor</th>\n",
              "      <th>Peer support</th>\n",
              "      <th>Initiative</th>\n",
              "      <th>Skills</th>\n",
              "      <th>Coach</th>\n",
              "      <th>Career Aspirations</th>\n",
              "      <th>Feedback</th>\n",
              "      <th>Further PD</th>\n",
              "      <th>Communication</th>\n",
              "      <th>My say</th>\n",
              "      <th>Information</th>\n",
              "      <th>Kept informed</th>\n",
              "      <th>Wellness programs</th>\n",
              "      <th>Health &amp; Safety</th>\n",
              "      <th>Gender</th>\n",
              "      <th>Age</th>\n",
              "      <th>Aboriginal</th>\n",
              "      <th>Torres Strait</th>\n",
              "      <th>South Sea</th>\n",
              "      <th>Disability</th>\n",
              "      <th>NESB</th>\n",
              "    </tr>\n",
              "  </thead>\n",
              "  <tbody>\n",
              "    <tr>\n",
              "      <th>0</th>\n",
              "      <td>1</td>\n",
              "      <td>Ill Health Retirement</td>\n",
              "      <td>08/2012</td>\n",
              "      <td>1984.0</td>\n",
              "      <td>2004.0</td>\n",
              "      <td>Public Servant</td>\n",
              "      <td>A01-A04</td>\n",
              "      <td>Central Office</td>\n",
              "      <td>Corporate Strategy and Peformance</td>\n",
              "      <td>Permanent Full-time</td>\n",
              "      <td>True</td>\n",
              "      <td>False</td>\n",
              "      <td>False</td>\n",
              "      <td>True</td>\n",
              "      <td>False</td>\n",
              "      <td>False</td>\n",
              "      <td>True</td>\n",
              "      <td>False</td>\n",
              "      <td>False</td>\n",
              "      <td>False</td>\n",
              "      <td>False</td>\n",
              "      <td>False</td>\n",
              "      <td>False</td>\n",
              "      <td>False</td>\n",
              "      <td>False</td>\n",
              "      <td>False</td>\n",
              "      <td>False</td>\n",
              "      <td>True</td>\n",
              "      <td>A</td>\n",
              "      <td>A</td>\n",
              "      <td>N</td>\n",
              "      <td>N</td>\n",
              "      <td>N</td>\n",
              "      <td>A</td>\n",
              "      <td>A</td>\n",
              "      <td>A</td>\n",
              "      <td>A</td>\n",
              "      <td>N</td>\n",
              "      <td>N</td>\n",
              "      <td>N</td>\n",
              "      <td>A</td>\n",
              "      <td>A</td>\n",
              "      <td>A</td>\n",
              "      <td>N</td>\n",
              "      <td>A</td>\n",
              "      <td>A</td>\n",
              "      <td>N</td>\n",
              "      <td>N</td>\n",
              "      <td>N</td>\n",
              "      <td>Male</td>\n",
              "      <td>56-60</td>\n",
              "      <td>NaN</td>\n",
              "      <td>NaN</td>\n",
              "      <td>NaN</td>\n",
              "      <td>NaN</td>\n",
              "      <td>Yes</td>\n",
              "    </tr>\n",
              "    <tr>\n",
              "      <th>1</th>\n",
              "      <td>2</td>\n",
              "      <td>Voluntary Early Retirement (VER)</td>\n",
              "      <td>08/2012</td>\n",
              "      <td>NaN</td>\n",
              "      <td>NaN</td>\n",
              "      <td>Public Servant</td>\n",
              "      <td>AO5-AO7</td>\n",
              "      <td>Central Office</td>\n",
              "      <td>Corporate Strategy and Peformance</td>\n",
              "      <td>Permanent Full-time</td>\n",
              "      <td>False</td>\n",
              "      <td>False</td>\n",
              "      <td>False</td>\n",
              "      <td>False</td>\n",
              "      <td>False</td>\n",
              "      <td>False</td>\n",
              "      <td>False</td>\n",
              "      <td>False</td>\n",
              "      <td>False</td>\n",
              "      <td>False</td>\n",
              "      <td>False</td>\n",
              "      <td>False</td>\n",
              "      <td>False</td>\n",
              "      <td>False</td>\n",
              "      <td>False</td>\n",
              "      <td>False</td>\n",
              "      <td>False</td>\n",
              "      <td>False</td>\n",
              "      <td>A</td>\n",
              "      <td>A</td>\n",
              "      <td>N</td>\n",
              "      <td>N</td>\n",
              "      <td>N</td>\n",
              "      <td>N</td>\n",
              "      <td>A</td>\n",
              "      <td>A</td>\n",
              "      <td>A</td>\n",
              "      <td>N</td>\n",
              "      <td>N</td>\n",
              "      <td>N</td>\n",
              "      <td>A</td>\n",
              "      <td>A</td>\n",
              "      <td>A</td>\n",
              "      <td>N</td>\n",
              "      <td>A</td>\n",
              "      <td>A</td>\n",
              "      <td>N</td>\n",
              "      <td>N</td>\n",
              "      <td>N</td>\n",
              "      <td>Male</td>\n",
              "      <td>56-60</td>\n",
              "      <td>NaN</td>\n",
              "      <td>NaN</td>\n",
              "      <td>NaN</td>\n",
              "      <td>NaN</td>\n",
              "      <td>NaN</td>\n",
              "    </tr>\n",
              "    <tr>\n",
              "      <th>2</th>\n",
              "      <td>3</td>\n",
              "      <td>Voluntary Early Retirement (VER)</td>\n",
              "      <td>05/2012</td>\n",
              "      <td>2011.0</td>\n",
              "      <td>2011.0</td>\n",
              "      <td>Schools Officer</td>\n",
              "      <td>NaN</td>\n",
              "      <td>Central Office</td>\n",
              "      <td>Education Queensland</td>\n",
              "      <td>Permanent Full-time</td>\n",
              "      <td>False</td>\n",
              "      <td>False</td>\n",
              "      <td>False</td>\n",
              "      <td>False</td>\n",
              "      <td>False</td>\n",
              "      <td>False</td>\n",
              "      <td>False</td>\n",
              "      <td>False</td>\n",
              "      <td>False</td>\n",
              "      <td>False</td>\n",
              "      <td>False</td>\n",
              "      <td>False</td>\n",
              "      <td>False</td>\n",
              "      <td>False</td>\n",
              "      <td>False</td>\n",
              "      <td>False</td>\n",
              "      <td>False</td>\n",
              "      <td>True</td>\n",
              "      <td>N</td>\n",
              "      <td>N</td>\n",
              "      <td>N</td>\n",
              "      <td>N</td>\n",
              "      <td>N</td>\n",
              "      <td>N</td>\n",
              "      <td>N</td>\n",
              "      <td>N</td>\n",
              "      <td>N</td>\n",
              "      <td>N</td>\n",
              "      <td>N</td>\n",
              "      <td>N</td>\n",
              "      <td>N</td>\n",
              "      <td>N</td>\n",
              "      <td>N</td>\n",
              "      <td>A</td>\n",
              "      <td>A</td>\n",
              "      <td>N</td>\n",
              "      <td>N</td>\n",
              "      <td>N</td>\n",
              "      <td>N</td>\n",
              "      <td>Male</td>\n",
              "      <td>61 or older</td>\n",
              "      <td>NaN</td>\n",
              "      <td>NaN</td>\n",
              "      <td>NaN</td>\n",
              "      <td>NaN</td>\n",
              "      <td>NaN</td>\n",
              "    </tr>\n",
              "    <tr>\n",
              "      <th>3</th>\n",
              "      <td>4</td>\n",
              "      <td>Resignation-Other reasons</td>\n",
              "      <td>05/2012</td>\n",
              "      <td>2005.0</td>\n",
              "      <td>2006.0</td>\n",
              "      <td>Teacher</td>\n",
              "      <td>Primary</td>\n",
              "      <td>Central Queensland</td>\n",
              "      <td>NaN</td>\n",
              "      <td>Permanent Full-time</td>\n",
              "      <td>False</td>\n",
              "      <td>True</td>\n",
              "      <td>False</td>\n",
              "      <td>False</td>\n",
              "      <td>False</td>\n",
              "      <td>False</td>\n",
              "      <td>False</td>\n",
              "      <td>False</td>\n",
              "      <td>False</td>\n",
              "      <td>False</td>\n",
              "      <td>False</td>\n",
              "      <td>False</td>\n",
              "      <td>False</td>\n",
              "      <td>False</td>\n",
              "      <td>False</td>\n",
              "      <td>False</td>\n",
              "      <td>False</td>\n",
              "      <td>False</td>\n",
              "      <td>A</td>\n",
              "      <td>N</td>\n",
              "      <td>N</td>\n",
              "      <td>N</td>\n",
              "      <td>A</td>\n",
              "      <td>A</td>\n",
              "      <td>N</td>\n",
              "      <td>N</td>\n",
              "      <td>A</td>\n",
              "      <td>A</td>\n",
              "      <td>A</td>\n",
              "      <td>A</td>\n",
              "      <td>A</td>\n",
              "      <td>A</td>\n",
              "      <td>A</td>\n",
              "      <td>A</td>\n",
              "      <td>A</td>\n",
              "      <td>A</td>\n",
              "      <td>A</td>\n",
              "      <td>N</td>\n",
              "      <td>A</td>\n",
              "      <td>Female</td>\n",
              "      <td>36-40</td>\n",
              "      <td>NaN</td>\n",
              "      <td>NaN</td>\n",
              "      <td>NaN</td>\n",
              "      <td>NaN</td>\n",
              "      <td>NaN</td>\n",
              "    </tr>\n",
              "    <tr>\n",
              "      <th>4</th>\n",
              "      <td>5</td>\n",
              "      <td>Age Retirement</td>\n",
              "      <td>05/2012</td>\n",
              "      <td>1970.0</td>\n",
              "      <td>1989.0</td>\n",
              "      <td>Head of Curriculum/Head of Special Education</td>\n",
              "      <td>NaN</td>\n",
              "      <td>South East</td>\n",
              "      <td>NaN</td>\n",
              "      <td>Permanent Full-time</td>\n",
              "      <td>False</td>\n",
              "      <td>False</td>\n",
              "      <td>False</td>\n",
              "      <td>False</td>\n",
              "      <td>False</td>\n",
              "      <td>False</td>\n",
              "      <td>False</td>\n",
              "      <td>False</td>\n",
              "      <td>False</td>\n",
              "      <td>False</td>\n",
              "      <td>False</td>\n",
              "      <td>False</td>\n",
              "      <td>False</td>\n",
              "      <td>False</td>\n",
              "      <td>False</td>\n",
              "      <td>True</td>\n",
              "      <td>False</td>\n",
              "      <td>False</td>\n",
              "      <td>A</td>\n",
              "      <td>A</td>\n",
              "      <td>N</td>\n",
              "      <td>N</td>\n",
              "      <td>D</td>\n",
              "      <td>D</td>\n",
              "      <td>N</td>\n",
              "      <td>A</td>\n",
              "      <td>A</td>\n",
              "      <td>A</td>\n",
              "      <td>A</td>\n",
              "      <td>A</td>\n",
              "      <td>A</td>\n",
              "      <td>SA</td>\n",
              "      <td>SA</td>\n",
              "      <td>D</td>\n",
              "      <td>D</td>\n",
              "      <td>A</td>\n",
              "      <td>N</td>\n",
              "      <td>A</td>\n",
              "      <td>M</td>\n",
              "      <td>Female</td>\n",
              "      <td>61 or older</td>\n",
              "      <td>NaN</td>\n",
              "      <td>NaN</td>\n",
              "      <td>NaN</td>\n",
              "      <td>NaN</td>\n",
              "      <td>NaN</td>\n",
              "    </tr>\n",
              "  </tbody>\n",
              "</table>\n",
              "</div>"
            ],
            "text/plain": [
              "   ID                    SeparationType Cease Date  ...  South Sea  Disability NESB\n",
              "0   1             Ill Health Retirement    08/2012  ...        NaN         NaN  Yes\n",
              "1   2  Voluntary Early Retirement (VER)    08/2012  ...        NaN         NaN  NaN\n",
              "2   3  Voluntary Early Retirement (VER)    05/2012  ...        NaN         NaN  NaN\n",
              "3   4         Resignation-Other reasons    05/2012  ...        NaN         NaN  NaN\n",
              "4   5                    Age Retirement    05/2012  ...        NaN         NaN  NaN\n",
              "\n",
              "[5 rows x 56 columns]"
            ]
          },
          "metadata": {
            "tags": []
          },
          "execution_count": 6
        }
      ]
    },
    {
      "cell_type": "code",
      "metadata": {
        "id": "iyW6lwiIh7Bo",
        "outputId": "1e55d298-0efe-4a8a-e6d4-3abc3e6c6bc0",
        "colab": {
          "base_uri": "https://localhost:8080/",
          "height": 1000
        }
      },
      "source": [
        "# Check columns to be dropped\n",
        "print(dete_survey.columns[28:49])\n",
        "print(tafe_survey.columns[17:66])\n",
        "\n",
        "# Drop columns\n",
        "dete_survey_updated = dete_survey.drop(dete_survey.columns[28:49], axis=1)\n",
        "tafe_survey_updated = tafe_survey.drop(tafe_survey.columns[17:66], axis=1)\n",
        "\n",
        "# Check the remained columns\n",
        "print(dete_survey_updated.columns)\n",
        "print(tafe_survey_updated.columns)"
      ],
      "execution_count": 7,
      "outputs": [
        {
          "output_type": "stream",
          "text": [
            "Index(['Professional Development', 'Opportunities for promotion',\n",
            "       'Staff morale', 'Workplace issue', 'Physical environment',\n",
            "       'Worklife balance', 'Stress and pressure support',\n",
            "       'Performance of supervisor', 'Peer support', 'Initiative', 'Skills',\n",
            "       'Coach', 'Career Aspirations', 'Feedback', 'Further PD',\n",
            "       'Communication', 'My say', 'Information', 'Kept informed',\n",
            "       'Wellness programs', 'Health & Safety'],\n",
            "      dtype='object')\n",
            "Index(['Main Factor. Which of these was the main factor for leaving?',\n",
            "       'InstituteViews. Topic:1. I feel the senior leadership had a clear vision and direction',\n",
            "       'InstituteViews. Topic:2. I was given access to skills training to help me do my job better',\n",
            "       'InstituteViews. Topic:3. I was given adequate opportunities for personal development',\n",
            "       'InstituteViews. Topic:4. I was given adequate opportunities for promotion within %Institute]Q25LBL%',\n",
            "       'InstituteViews. Topic:5. I felt the salary for the job was right for the responsibilities I had',\n",
            "       'InstituteViews. Topic:6. The organisation recognised when staff did good work',\n",
            "       'InstituteViews. Topic:7. Management was generally supportive of me',\n",
            "       'InstituteViews. Topic:8. Management was generally supportive of my team',\n",
            "       'InstituteViews. Topic:9. I was kept informed of the changes in the organisation which would affect me',\n",
            "       'InstituteViews. Topic:10. Staff morale was positive within the Institute',\n",
            "       'InstituteViews. Topic:11. If I had a workplace issue it was dealt with quickly',\n",
            "       'InstituteViews. Topic:12. If I had a workplace issue it was dealt with efficiently',\n",
            "       'InstituteViews. Topic:13. If I had a workplace issue it was dealt with discreetly',\n",
            "       'WorkUnitViews. Topic:14. I was satisfied with the quality of the management and supervision within my work unit',\n",
            "       'WorkUnitViews. Topic:15. I worked well with my colleagues',\n",
            "       'WorkUnitViews. Topic:16. My job was challenging and interesting',\n",
            "       'WorkUnitViews. Topic:17. I was encouraged to use my initiative in the course of my work',\n",
            "       'WorkUnitViews. Topic:18. I had sufficient contact with other people in my job',\n",
            "       'WorkUnitViews. Topic:19. I was given adequate support and co-operation by my peers to enable me to do my job',\n",
            "       'WorkUnitViews. Topic:20. I was able to use the full range of my skills in my job',\n",
            "       'WorkUnitViews. Topic:21. I was able to use the full range of my abilities in my job. ; Category:Level of Agreement; Question:YOUR VIEWS ABOUT YOUR WORK UNIT]',\n",
            "       'WorkUnitViews. Topic:22. I was able to use the full range of my knowledge in my job',\n",
            "       'WorkUnitViews. Topic:23. My job provided sufficient variety',\n",
            "       'WorkUnitViews. Topic:24. I was able to cope with the level of stress and pressure in my job',\n",
            "       'WorkUnitViews. Topic:25. My job allowed me to balance the demands of work and family to my satisfaction',\n",
            "       'WorkUnitViews. Topic:26. My supervisor gave me adequate personal recognition and feedback on my performance',\n",
            "       'WorkUnitViews. Topic:27. My working environment was satisfactory e.g. sufficient space, good lighting, suitable seating and working area',\n",
            "       'WorkUnitViews. Topic:28. I was given the opportunity to mentor and coach others in order for me to pass on my skills and knowledge prior to my cessation date',\n",
            "       'WorkUnitViews. Topic:29. There was adequate communication between staff in my unit',\n",
            "       'WorkUnitViews. Topic:30. Staff morale was positive within my work unit',\n",
            "       'Induction. Did you undertake Workplace Induction?',\n",
            "       'InductionInfo. Topic:Did you undertake a Corporate Induction?',\n",
            "       'InductionInfo. Topic:Did you undertake a Institute Induction?',\n",
            "       'InductionInfo. Topic: Did you undertake Team Induction?',\n",
            "       'InductionInfo. Face to Face Topic:Did you undertake a Corporate Induction; Category:How it was conducted?',\n",
            "       'InductionInfo. On-line Topic:Did you undertake a Corporate Induction; Category:How it was conducted?',\n",
            "       'InductionInfo. Induction Manual Topic:Did you undertake a Corporate Induction?',\n",
            "       'InductionInfo. Face to Face Topic:Did you undertake a Institute Induction?',\n",
            "       'InductionInfo. On-line Topic:Did you undertake a Institute Induction?',\n",
            "       'InductionInfo. Induction Manual Topic:Did you undertake a Institute Induction?',\n",
            "       'InductionInfo. Face to Face Topic: Did you undertake Team Induction; Category?',\n",
            "       'InductionInfo. On-line Topic: Did you undertake Team Induction?process you undertook and how it was conducted.]',\n",
            "       'InductionInfo. Induction Manual Topic: Did you undertake Team Induction?',\n",
            "       'Workplace. Topic:Did you and your Manager develop a Performance and Professional Development Plan (PPDP)?',\n",
            "       'Workplace. Topic:Does your workplace promote a work culture free from all forms of unlawful discrimination?',\n",
            "       'Workplace. Topic:Does your workplace promote and practice the principles of employment equity?',\n",
            "       'Workplace. Topic:Does your workplace value the diversity of its employees?',\n",
            "       'Workplace. Topic:Would you recommend the Institute as an employer to others?'],\n",
            "      dtype='object')\n",
            "Index(['ID', 'SeparationType', 'Cease Date', 'DETE Start Date',\n",
            "       'Role Start Date', 'Position', 'Classification', 'Region',\n",
            "       'Business Unit', 'Employment Status', 'Career move to public sector',\n",
            "       'Career move to private sector', 'Interpersonal conflicts',\n",
            "       'Job dissatisfaction', 'Dissatisfaction with the department',\n",
            "       'Physical work environment', 'Lack of recognition',\n",
            "       'Lack of job security', 'Work location', 'Employment conditions',\n",
            "       'Maternity/family', 'Relocation', 'Study/Travel', 'Ill Health',\n",
            "       'Traumatic incident', 'Work life balance', 'Workload',\n",
            "       'None of the above', 'Gender', 'Age', 'Aboriginal', 'Torres Strait',\n",
            "       'South Sea', 'Disability', 'NESB'],\n",
            "      dtype='object')\n",
            "Index(['Record ID', 'Institute', 'WorkArea', 'CESSATION YEAR',\n",
            "       'Reason for ceasing employment',\n",
            "       'Contributing Factors. Career Move - Public Sector ',\n",
            "       'Contributing Factors. Career Move - Private Sector ',\n",
            "       'Contributing Factors. Career Move - Self-employment',\n",
            "       'Contributing Factors. Ill Health',\n",
            "       'Contributing Factors. Maternity/Family',\n",
            "       'Contributing Factors. Dissatisfaction',\n",
            "       'Contributing Factors. Job Dissatisfaction',\n",
            "       'Contributing Factors. Interpersonal Conflict',\n",
            "       'Contributing Factors. Study', 'Contributing Factors. Travel',\n",
            "       'Contributing Factors. Other', 'Contributing Factors. NONE',\n",
            "       'Gender. What is your Gender?', 'CurrentAge. Current Age',\n",
            "       'Employment Type. Employment Type', 'Classification. Classification',\n",
            "       'LengthofServiceOverall. Overall Length of Service at Institute (in years)',\n",
            "       'LengthofServiceCurrent. Length of Service at current workplace (in years)'],\n",
            "      dtype='object')\n"
          ],
          "name": "stdout"
        }
      ]
    },
    {
      "cell_type": "markdown",
      "metadata": {
        "id": "IXqJ-kuTkq3r"
      },
      "source": [
        "## **Rename the columns**\n",
        "\n",
        "In the next step, we find it essential to standardize the column names as our main goal of the data cleaning part is to be able to combine the two dataframes into one united dataframe. Below are some of the columns we think essential for our final analysis:\n",
        "\n",
        "<table>\n",
        "<tr>\n",
        "<th>dete_survey</th>\n",
        "<th>tafe_survey</th>\n",
        "<th>Definition</th>\n",
        "</tr>\n",
        "<tr>\n",
        "<td>ID</td>\n",
        "<td>Record ID</td>\n",
        "<td>An id used to identify the participant of the survey</td>\n",
        "</tr>\n",
        "<tr>\n",
        "<td>SeparationType</td>\n",
        "<td>Reason for ceasing employment</td>\n",
        "<td>The reason why the participant's employment ended\n",
        "</tr>\n",
        "<tr>\n",
        "<td>Cease Date</td>\n",
        "<td>CESSATION YEAR</td>\n",
        "<td>The year or month the participant's employment ended</td>\n",
        "</tr>\n",
        "<tr>\n",
        "<td>DETE Start Date</td>\n",
        "<td></td>\n",
        "<td>The year the participant began employment with the DETE</td>\n",
        "</tr>\n",
        "<tr>\n",
        "<td></td>\n",
        "<td>LengthofServiceOverall.\n",
        "<br>Overall Length of Service at Institute (in years)</td>\n",
        "<td>The length of the person's employment (in years)</td>\n",
        "</tr>\n",
        "<tr>\n",
        "<td>Age</td>\n",
        "<td>CurrentAge.\n",
        "<br>Current Age</td>\n",
        "<td>The age of the participant</td>\n",
        "</tr>\n",
        "<tr>\n",
        "<td>Gender</td>\n",
        "<td>Gender.\n",
        "<br>What is your Gender?</td>\n",
        "<td>The gender of the participant</td>\n",
        "</tr>\n",
        "</table>"
      ]
    },
    {
      "cell_type": "markdown",
      "metadata": {
        "id": "_M5IJzgXmsvf"
      },
      "source": [
        "### **1. dete_survey**\n",
        "\n",
        "We use the following criteria to update the column names:\n",
        "- Make all the capitalization lowercase\n",
        "- Remove any trailing whitespace from the end of the strings\n",
        "- Replace spaces with underscores ('_')"
      ]
    },
    {
      "cell_type": "code",
      "metadata": {
        "id": "H7fLt5vziEBS",
        "outputId": "84b7ff5e-3ed4-480e-a4b0-8b2f1e60b012",
        "colab": {
          "base_uri": "https://localhost:8080/",
          "height": 483
        }
      },
      "source": [
        "# Display current column names\n",
        "print(\"BEFORE\")\n",
        "print(dete_survey_updated.columns)\n",
        "\n",
        "# Update column names based on the above criteria\n",
        "dete_survey_updated.columns = dete_survey_updated.columns.str.lower().str.strip().str.replace(\" \", \"_\")\n",
        "\n",
        "# Check the updated column names\n",
        "print(\"\\n\")\n",
        "print(\"AFTER\")\n",
        "print(dete_survey_updated.columns)"
      ],
      "execution_count": 8,
      "outputs": [
        {
          "output_type": "stream",
          "text": [
            "BEFORE\n",
            "Index(['ID', 'SeparationType', 'Cease Date', 'DETE Start Date',\n",
            "       'Role Start Date', 'Position', 'Classification', 'Region',\n",
            "       'Business Unit', 'Employment Status', 'Career move to public sector',\n",
            "       'Career move to private sector', 'Interpersonal conflicts',\n",
            "       'Job dissatisfaction', 'Dissatisfaction with the department',\n",
            "       'Physical work environment', 'Lack of recognition',\n",
            "       'Lack of job security', 'Work location', 'Employment conditions',\n",
            "       'Maternity/family', 'Relocation', 'Study/Travel', 'Ill Health',\n",
            "       'Traumatic incident', 'Work life balance', 'Workload',\n",
            "       'None of the above', 'Gender', 'Age', 'Aboriginal', 'Torres Strait',\n",
            "       'South Sea', 'Disability', 'NESB'],\n",
            "      dtype='object')\n",
            "\n",
            "\n",
            "AFTER\n",
            "Index(['id', 'separationtype', 'cease_date', 'dete_start_date',\n",
            "       'role_start_date', 'position', 'classification', 'region',\n",
            "       'business_unit', 'employment_status', 'career_move_to_public_sector',\n",
            "       'career_move_to_private_sector', 'interpersonal_conflicts',\n",
            "       'job_dissatisfaction', 'dissatisfaction_with_the_department',\n",
            "       'physical_work_environment', 'lack_of_recognition',\n",
            "       'lack_of_job_security', 'work_location', 'employment_conditions',\n",
            "       'maternity/family', 'relocation', 'study/travel', 'ill_health',\n",
            "       'traumatic_incident', 'work_life_balance', 'workload',\n",
            "       'none_of_the_above', 'gender', 'age', 'aboriginal', 'torres_strait',\n",
            "       'south_sea', 'disability', 'nesb'],\n",
            "      dtype='object')\n"
          ],
          "name": "stdout"
        }
      ]
    },
    {
      "cell_type": "markdown",
      "metadata": {
        "id": "rSuPXc1OoWNO"
      },
      "source": [
        "### **2. tafe_survey**\n",
        "\n",
        "This dataset requires more cleaning steps thus we begin with the obvious and easy ones first:\n",
        "- 'Record ID': 'id'\n",
        "- 'CESSATION YEAR': 'cease_date'\n",
        "- 'Reason for ceasing employment': 'separationtype'\n",
        "- 'Gender. What is your Gender?': 'gender'\n",
        "- 'CurrentAge. Current Age': 'age'\n",
        "- 'Employment Type. Employment Type': 'employment_status'\n",
        "- 'Classification. Classification': 'position'\n",
        "- 'LengthofServiceOverall. Overall Length of Service at Institute (in years)': 'institute_service'\n",
        "- 'LengthofServiceCurrent. Length of Service at current workplace (in years)': 'role_service'"
      ]
    },
    {
      "cell_type": "code",
      "metadata": {
        "id": "pqxIrGCPdHhp",
        "outputId": "a05f5083-488c-4e13-f80c-1327ced222cf",
        "colab": {
          "base_uri": "https://localhost:8080/",
          "height": 600
        }
      },
      "source": [
        "# Display current column names\n",
        "print(\"BEFORE\")\n",
        "print(tafe_survey_updated.columns)\n",
        "\n",
        "# Create a dictionary containing the new column names\n",
        "tafe_column_new_names = {\"Record ID\": \"id\",\n",
        "                         \"CESSATION YEAR\": \"cease_date\",\n",
        "                         \"Reason for ceasing employment\": \"separationtype\",\n",
        "                         \"Gender. What is your Gender?\": \"gender\",\n",
        "                         \"CurrentAge. Current Age\": \"age\",\n",
        "                         \"Employment Type. Employment Type\": \"employment_status\",\n",
        "                         \"Classification. Classification\": \"position\",\n",
        "                         \"LengthofServiceOverall. Overall Length of Service at Institute (in years)\": \"institute_service\",\n",
        "                         \"LengthofServiceCurrent. Length of Service at current workplace (in years)\": \"role_service\"}\n",
        "\n",
        "# Update column names based on the created dictionary\n",
        "tafe_survey_updated.rename(tafe_column_new_names, axis=1, inplace=True)\n",
        "\n",
        "# Check the updated column names\n",
        "print(\"\\n\")\n",
        "print(\"AFTER\")\n",
        "print(tafe_survey_updated.columns)"
      ],
      "execution_count": 9,
      "outputs": [
        {
          "output_type": "stream",
          "text": [
            "BEFORE\n",
            "Index(['Record ID', 'Institute', 'WorkArea', 'CESSATION YEAR',\n",
            "       'Reason for ceasing employment',\n",
            "       'Contributing Factors. Career Move - Public Sector ',\n",
            "       'Contributing Factors. Career Move - Private Sector ',\n",
            "       'Contributing Factors. Career Move - Self-employment',\n",
            "       'Contributing Factors. Ill Health',\n",
            "       'Contributing Factors. Maternity/Family',\n",
            "       'Contributing Factors. Dissatisfaction',\n",
            "       'Contributing Factors. Job Dissatisfaction',\n",
            "       'Contributing Factors. Interpersonal Conflict',\n",
            "       'Contributing Factors. Study', 'Contributing Factors. Travel',\n",
            "       'Contributing Factors. Other', 'Contributing Factors. NONE',\n",
            "       'Gender. What is your Gender?', 'CurrentAge. Current Age',\n",
            "       'Employment Type. Employment Type', 'Classification. Classification',\n",
            "       'LengthofServiceOverall. Overall Length of Service at Institute (in years)',\n",
            "       'LengthofServiceCurrent. Length of Service at current workplace (in years)'],\n",
            "      dtype='object')\n",
            "\n",
            "\n",
            "AFTER\n",
            "Index(['id', 'Institute', 'WorkArea', 'cease_date', 'separationtype',\n",
            "       'Contributing Factors. Career Move - Public Sector ',\n",
            "       'Contributing Factors. Career Move - Private Sector ',\n",
            "       'Contributing Factors. Career Move - Self-employment',\n",
            "       'Contributing Factors. Ill Health',\n",
            "       'Contributing Factors. Maternity/Family',\n",
            "       'Contributing Factors. Dissatisfaction',\n",
            "       'Contributing Factors. Job Dissatisfaction',\n",
            "       'Contributing Factors. Interpersonal Conflict',\n",
            "       'Contributing Factors. Study', 'Contributing Factors. Travel',\n",
            "       'Contributing Factors. Other', 'Contributing Factors. NONE', 'gender',\n",
            "       'age', 'employment_status', 'position', 'institute_service',\n",
            "       'role_service'],\n",
            "      dtype='object')\n"
          ],
          "name": "stdout"
        }
      ]
    },
    {
      "cell_type": "markdown",
      "metadata": {
        "id": "87gw1IUWs2YL"
      },
      "source": [
        "## **Filter the data (1): resigned employees**\n",
        "\n",
        "As the project only focuses on **resigned** employees due to **dissatisfaction**, we need to filter the current dataframe based on these two main criteria. In this section, we will first select the entries based on the separation type of \"Resignation\"."
      ]
    },
    {
      "cell_type": "markdown",
      "metadata": {
        "id": "RPaTe1KhtZAp"
      },
      "source": [
        "First, we review the unique values in separationtype column in both the datasets"
      ]
    },
    {
      "cell_type": "code",
      "metadata": {
        "id": "daHuZXpQct2q",
        "outputId": "c2ceb39d-0ab5-49da-ba0a-8b07a3d21e5c",
        "colab": {
          "base_uri": "https://localhost:8080/",
          "height": 333
        }
      },
      "source": [
        "# Review the unique values in separationtype column in both the datasets \n",
        "print(dete_survey_updated[\"separationtype\"].value_counts())\n",
        "print(\"\\n\")\n",
        "print(tafe_survey_updated[\"separationtype\"].value_counts())"
      ],
      "execution_count": 10,
      "outputs": [
        {
          "output_type": "stream",
          "text": [
            "Age Retirement                          285\n",
            "Resignation-Other reasons               150\n",
            "Resignation-Other employer               91\n",
            "Resignation-Move overseas/interstate     70\n",
            "Voluntary Early Retirement (VER)         67\n",
            "Ill Health Retirement                    61\n",
            "Other                                    49\n",
            "Contract Expired                         34\n",
            "Termination                              15\n",
            "Name: separationtype, dtype: int64\n",
            "\n",
            "\n",
            "Resignation                 340\n",
            "Contract Expired            127\n",
            "Retrenchment/ Redundancy    104\n",
            "Retirement                   82\n",
            "Transfer                     25\n",
            "Termination                  23\n",
            "Name: separationtype, dtype: int64\n"
          ],
          "name": "stdout"
        }
      ]
    },
    {
      "cell_type": "markdown",
      "metadata": {
        "id": "DU0JSSjPAUBt"
      },
      "source": [
        "From the above results, we can see that the dete_survey_updated dataframe contains multiple separation types coded as 'Resignation':\n",
        "\n",
        "- Resignation-Other reasons\n",
        "- Resignation-Other employer\n",
        "- Resignation-Move overseas/interstate\n",
        "\n",
        "These types should be grouped into one separation type 'Resignation' since our project does not require to go deeper into each separation type.\n"
      ]
    },
    {
      "cell_type": "code",
      "metadata": {
        "id": "36P3Kf89uTgw",
        "outputId": "bd5da9e0-f1cd-42f8-83a9-98f53bf49d02",
        "colab": {
          "base_uri": "https://localhost:8080/",
          "height": 150
        }
      },
      "source": [
        "# Update all separation types related to Resignation to one single type: Resignation\n",
        "dete_survey_updated[\"separationtype\"] = dete_survey_updated[\"separationtype\"].str.split(\"-\").str[0]\n",
        "dete_survey_updated[\"separationtype\"].value_counts()\n"
      ],
      "execution_count": 11,
      "outputs": [
        {
          "output_type": "execute_result",
          "data": {
            "text/plain": [
              "Resignation                         311\n",
              "Age Retirement                      285\n",
              "Voluntary Early Retirement (VER)     67\n",
              "Ill Health Retirement                61\n",
              "Other                                49\n",
              "Contract Expired                     34\n",
              "Termination                          15\n",
              "Name: separationtype, dtype: int64"
            ]
          },
          "metadata": {
            "tags": []
          },
          "execution_count": 11
        }
      ]
    },
    {
      "cell_type": "markdown",
      "metadata": {
        "id": "IJX_knWyt3iV"
      },
      "source": [
        "We then select only the data for survey respondents who have a Resignation separation type in both the dataframes as below."
      ]
    },
    {
      "cell_type": "code",
      "metadata": {
        "id": "pRIMd2oBt0p8"
      },
      "source": [
        "# Select data points with Resignation in dete_survey\n",
        "dete_resignations = dete_survey_updated[dete_survey_updated[\"separationtype\"] == \"Resignation\"].copy()\n",
        "\n",
        "# Select data points with Resignation in tafe_survey\n",
        "tafe_resignations = tafe_survey_updated[tafe_survey_updated[\"separationtype\"] == \"Resignation\"].copy()"
      ],
      "execution_count": 12,
      "outputs": []
    },
    {
      "cell_type": "markdown",
      "metadata": {
        "id": "ohvrQh0AwRSr"
      },
      "source": [
        "## **Verify the data**\n",
        "\n",
        "We'll focus on verifying that the years in the cease_date and dete_start_date columns make sense and do not contain suspicious outliers"
      ]
    },
    {
      "cell_type": "code",
      "metadata": {
        "id": "ph2i4tRew2h9",
        "outputId": "3e588012-839e-4458-b931-ab63d9019078",
        "colab": {
          "base_uri": "https://localhost:8080/",
          "height": 400
        }
      },
      "source": [
        "# Check the consistency of the date in cease_date\n",
        "print(dete_resignations[\"cease_date\"].value_counts())\n",
        "\n",
        "# Select only the year in cease_date\n",
        "dete_resignations[\"cease_date\"] = dete_resignations[\"cease_date\"].str.split(\"/\").str[-1].astype(float)\n",
        "\n",
        "# Check the updated cease_date\n",
        "print(dete_resignations[\"cease_date\"].value_counts())"
      ],
      "execution_count": 13,
      "outputs": [
        {
          "output_type": "stream",
          "text": [
            "2012       126\n",
            "2013        74\n",
            "01/2014     22\n",
            "12/2013     17\n",
            "06/2013     14\n",
            "09/2013     11\n",
            "11/2013      9\n",
            "07/2013      9\n",
            "10/2013      6\n",
            "08/2013      4\n",
            "05/2013      2\n",
            "05/2012      2\n",
            "07/2006      1\n",
            "09/2010      1\n",
            "07/2012      1\n",
            "2010         1\n",
            "Name: cease_date, dtype: int64\n",
            "2013.0    146\n",
            "2012.0    129\n",
            "2014.0     22\n",
            "2010.0      2\n",
            "2006.0      1\n",
            "Name: cease_date, dtype: int64\n"
          ],
          "name": "stdout"
        }
      ]
    },
    {
      "cell_type": "code",
      "metadata": {
        "id": "yVOs05sVyiGh",
        "outputId": "4faa7c93-466e-4aa7-d699-542ab8ff7ffa",
        "colab": {
          "base_uri": "https://localhost:8080/",
          "height": 1000
        }
      },
      "source": [
        "print(\"dete_resignations: dete_start_date\")\n",
        "print(dete_resignations[\"dete_start_date\"].value_counts().sort_index(ascending=True))\n",
        "print(\"\\n\")\n",
        "print(\"dete_resignations: cease_date\")\n",
        "print(dete_resignations[\"cease_date\"].value_counts().sort_index(ascending=True))\n",
        "print(\"\\n\")\n",
        "print(\"tafe_resignations: cease_date\")\n",
        "print(tafe_resignations[\"cease_date\"].value_counts().sort_index(ascending=True))"
      ],
      "execution_count": 14,
      "outputs": [
        {
          "output_type": "stream",
          "text": [
            "dete_resignations: dete_start_date\n",
            "1963.0     1\n",
            "1971.0     1\n",
            "1972.0     1\n",
            "1973.0     1\n",
            "1974.0     2\n",
            "1975.0     1\n",
            "1976.0     2\n",
            "1977.0     1\n",
            "1980.0     5\n",
            "1982.0     1\n",
            "1983.0     2\n",
            "1984.0     1\n",
            "1985.0     3\n",
            "1986.0     3\n",
            "1987.0     1\n",
            "1988.0     4\n",
            "1989.0     4\n",
            "1990.0     5\n",
            "1991.0     4\n",
            "1992.0     6\n",
            "1993.0     5\n",
            "1994.0     6\n",
            "1995.0     4\n",
            "1996.0     6\n",
            "1997.0     5\n",
            "1998.0     6\n",
            "1999.0     8\n",
            "2000.0     9\n",
            "2001.0     3\n",
            "2002.0     6\n",
            "2003.0     6\n",
            "2004.0    14\n",
            "2005.0    15\n",
            "2006.0    13\n",
            "2007.0    21\n",
            "2008.0    22\n",
            "2009.0    13\n",
            "2010.0    17\n",
            "2011.0    24\n",
            "2012.0    21\n",
            "2013.0    10\n",
            "Name: dete_start_date, dtype: int64\n",
            "\n",
            "\n",
            "dete_resignations: cease_date\n",
            "2006.0      1\n",
            "2010.0      2\n",
            "2012.0    129\n",
            "2013.0    146\n",
            "2014.0     22\n",
            "Name: cease_date, dtype: int64\n",
            "\n",
            "\n",
            "tafe_resignations: cease_date\n",
            "2009.0      2\n",
            "2010.0     68\n",
            "2011.0    116\n",
            "2012.0     94\n",
            "2013.0     55\n",
            "Name: cease_date, dtype: int64\n"
          ],
          "name": "stdout"
        }
      ]
    },
    {
      "cell_type": "code",
      "metadata": {
        "id": "T7JsxKVj05Zl",
        "outputId": "ff9e7439-6604-4f13-a1a6-47b0f1476510",
        "colab": {
          "base_uri": "https://localhost:8080/",
          "height": 445
        }
      },
      "source": [
        "# Plot the cease and start years from dete_registration\n",
        "dete_resignations[['dete_start_date','cease_date']].plot(kind='box', grid=True, figsize=(7,7))"
      ],
      "execution_count": 15,
      "outputs": [
        {
          "output_type": "execute_result",
          "data": {
            "text/plain": [
              "<matplotlib.axes._subplots.AxesSubplot at 0x7f911a15ceb8>"
            ]
          },
          "metadata": {
            "tags": []
          },
          "execution_count": 15
        },
        {
          "output_type": "display_data",
          "data": {
            "image/png": "[encoded data removed]",
            "text/plain": [
              "<Figure size 504x504 with 1 Axes>"
            ]
          },
          "metadata": {
            "tags": [],
            "needs_background": "light"
          }
        }
      ]
    },
    {
      "cell_type": "markdown",
      "metadata": {
        "id": "9Q52KYFOyhkT"
      },
      "source": [
        "Some observations from the above results:\n",
        "\n",
        "* DETE has a wider range of the cease years than that of TAFE.\n",
        "    - DETE: 2006 - 2014\n",
        "    - TAFE: 2009 - 2013\n",
        "* A large number of employees quitted  their jobs at DETE in 2012 and 2013, while at TAFE are from 2010 to 2012.\n",
        "* There do not appear to be any major issues with the values. \n"
      ]
    },
    {
      "cell_type": "markdown",
      "metadata": {
        "id": "sw0O-voo3H_6"
      },
      "source": [
        "## **Create new column: institute_service**\n",
        "\n",
        "Since our stakeholders want to know whether employees who work for the institutes for a short time are likely to resign due to dissatisfaction than employees who have been at the job longer, we need to analyze the service duration of the resigned employees. This is often referred as \"years of service\" in the Human Resources field.\n",
        "\n",
        "While the tafe_resignations dataframe already contains a \"service\" column, which we renamed to institute_service, the dete_resignations does not have sucha column. However, such information can be derived from the cease_date and dete_start_date columns.\n",
        "\n",
        "Below, we create a new column in the dete_resignations dataframe that shows the year differences between the cease_date and dete_start_date columns."
      ]
    },
    {
      "cell_type": "code",
      "metadata": {
        "id": "2hUfVunH3Q2R",
        "outputId": "7050319f-1ac1-4e1b-aae0-5a8966e429c7",
        "colab": {
          "base_uri": "https://localhost:8080/",
          "height": 116
        }
      },
      "source": [
        "# Create new column 'institute_service' in dete_resignations showing years of service\n",
        "dete_resignations[\"institute_service\"] = dete_resignations[\"cease_date\"] - dete_resignations[\"dete_start_date\"]\n",
        "\n",
        "# Check the newly created column\n",
        "dete_resignations[\"institute_service\"].head()"
      ],
      "execution_count": 16,
      "outputs": [
        {
          "output_type": "execute_result",
          "data": {
            "text/plain": [
              "3      7.0\n",
              "5     18.0\n",
              "8      3.0\n",
              "9     15.0\n",
              "11     3.0\n",
              "Name: institute_service, dtype: float64"
            ]
          },
          "metadata": {
            "tags": []
          },
          "execution_count": 16
        }
      ]
    },
    {
      "cell_type": "markdown",
      "metadata": {
        "id": "bIEUV6FC34bm"
      },
      "source": [
        "## **Filter the data (2): dissatisfied employees**\n",
        "\n",
        "In this section, we will finish our filtering task by categorizing employees as \"dissatisfied\" from each dataframe. Below are the criteria we use for the categorization:\n",
        "\n",
        "1. tafe_survey_updated:\n",
        "    - Contributing Factors. Dissatisfaction\n",
        "    - Contributing Factors. Job Dissatisfaction\n",
        "\n",
        "2. dete_survey_updated:\n",
        "    - job_dissatisfaction\n",
        "    - dissatisfaction_with_the_department\n",
        "    - physical_work_environment\n",
        "    - lack_of_recognition\n",
        "    - lack_of_job_security\n",
        "    - work_location\n",
        "    - employment_conditions\n",
        "    - work_life_balance\n",
        "    - workload\n",
        "\n",
        "If the employee indicated any of the factors above caused them to resign, we'll mark them as dissatisfied in a new column. The new dissatisfied column will contain just the following values:\n",
        "\n",
        "- True: indicates a person resigned because they were dissatisfied with the job\n",
        "- False: indicates a person resigned because of a reason other than dissatisfaction with the job\n",
        "- NaN: indicates the value is missing\n",
        "\n",
        "\n",
        "\n"
      ]
    },
    {
      "cell_type": "code",
      "metadata": {
        "id": "WOFZzjwY7pAJ",
        "outputId": "8ff32347-b2dd-446e-8f64-b5c63e21db72",
        "colab": {
          "base_uri": "https://localhost:8080/",
          "height": 150
        }
      },
      "source": [
        "# View the values in 'Contributing Factors. Dissatisfaction' in tafe_resignations\n",
        "print(tafe_resignations[\"Contributing Factors. Dissatisfaction\"].value_counts())\n",
        "print(\"\\n\")\n",
        "# View the values in 'Contributing Factors. Job Dissatisfaction' in tafe_resignations\n",
        "print(tafe_resignations[\"Contributing Factors. Job Dissatisfaction\"].value_counts())"
      ],
      "execution_count": 17,
      "outputs": [
        {
          "output_type": "stream",
          "text": [
            "-                                         277\n",
            "Contributing Factors. Dissatisfaction      55\n",
            "Name: Contributing Factors. Dissatisfaction, dtype: int64\n",
            "\n",
            "\n",
            "-                      270\n",
            "Job Dissatisfaction     62\n",
            "Name: Contributing Factors. Job Dissatisfaction, dtype: int64\n"
          ],
          "name": "stdout"
        }
      ]
    },
    {
      "cell_type": "code",
      "metadata": {
        "id": "u6Mbtwhy8pib"
      },
      "source": [
        "# Write a function to update values to either True, False, or NaN\n",
        "def update_vals(val):\n",
        "  if pd.isnull(val):\n",
        "    return np.nan\n",
        "  elif val == \"-\":\n",
        "    return False\n",
        "  else:\n",
        "    return True"
      ],
      "execution_count": 18,
      "outputs": []
    },
    {
      "cell_type": "code",
      "metadata": {
        "id": "gMvrsylg9j4r",
        "outputId": "38cd22c5-344c-421a-d01b-a362f670d4fc",
        "colab": {
          "base_uri": "https://localhost:8080/",
          "height": 83
        }
      },
      "source": [
        "# Create new column 'dissatisfied' in tafe_resignations\n",
        "tafe_resignations[\"dissatisfied\"] = tafe_resignations[[\"Contributing Factors. Dissatisfaction\", \"Contributing Factors. Job Dissatisfaction\"]].applymap(update_vals).any(axis=1, skipna=False)\n",
        "tafe_resignations_up = tafe_resignations.copy()\n",
        "\n",
        "# Check the values of the new column\n",
        "tafe_resignations_up['dissatisfied'].value_counts(dropna=False)"
      ],
      "execution_count": 19,
      "outputs": [
        {
          "output_type": "execute_result",
          "data": {
            "text/plain": [
              "False    241\n",
              "True      91\n",
              "NaN        8\n",
              "Name: dissatisfied, dtype: int64"
            ]
          },
          "metadata": {
            "tags": []
          },
          "execution_count": 19
        }
      ]
    },
    {
      "cell_type": "code",
      "metadata": {
        "id": "gZcB5pY3-7Us",
        "outputId": "22d4e3d5-6cb2-40ef-c955-a818e1b935f1",
        "colab": {
          "base_uri": "https://localhost:8080/",
          "height": 66
        }
      },
      "source": [
        "# Create new column 'dissatisfied' in dete_resignations\n",
        "dete_resignations[\"dissatisfied\"] = dete_resignations[[\"job_dissatisfaction\",\n",
        "                                                       \"dissatisfaction_with_the_department\",\n",
        "                                                       \"physical_work_environment\",\n",
        "                                                       \"lack_of_recognition\",\n",
        "                                                       \"lack_of_job_security\",\n",
        "                                                       \"work_location\",\n",
        "                                                       \"employment_conditions\",\n",
        "                                                       \"work_life_balance\",\n",
        "                                                       \"workload\"]].any(axis=1, skipna=False)\n",
        "dete_resignations_up = dete_resignations.copy()\n",
        "\n",
        "# Check the values of the new column\n",
        "dete_resignations_up['dissatisfied'].value_counts(dropna=False)"
      ],
      "execution_count": 20,
      "outputs": [
        {
          "output_type": "execute_result",
          "data": {
            "text/plain": [
              "False    162\n",
              "True     149\n",
              "Name: dissatisfied, dtype: int64"
            ]
          },
          "metadata": {
            "tags": []
          },
          "execution_count": 20
        }
      ]
    },
    {
      "cell_type": "markdown",
      "metadata": {
        "id": "0_9I1jhvAQfo"
      },
      "source": [
        "## **Combine the data**\n",
        "\n",
        "Given the cleaning process done so far, we believe the two dataframes are ready to be combined without causing any major errors. We add a column to each dataframe to easily distinguish between the two once we combine them."
      ]
    },
    {
      "cell_type": "code",
      "metadata": {
        "id": "qJEw4bZWAa4E"
      },
      "source": [
        "# Add a new column 'institute' for each dataframe\n",
        "dete_resignations_up[\"institute\"] = \"PETE\"\n",
        "tafe_resignations_up[\"institute\"] = \"TAFE\""
      ],
      "execution_count": 21,
      "outputs": []
    },
    {
      "cell_type": "code",
      "metadata": {
        "id": "vSBEJ2vuAtzE",
        "outputId": "61bf1c7a-0178-4ff1-9b53-2a260a0bc1a6",
        "colab": {
          "base_uri": "https://localhost:8080/",
          "height": 1000
        }
      },
      "source": [
        "# Combine two dataframes\n",
        "combined = pd.concat([dete_resignations_up, tafe_resignations_up], ignore_index=True)\n",
        "\n",
        "# Check the non-null values of the combined dataframe\n",
        "combined.info()"
      ],
      "execution_count": 22,
      "outputs": [
        {
          "output_type": "stream",
          "text": [
            "<class 'pandas.core.frame.DataFrame'>\n",
            "RangeIndex: 651 entries, 0 to 650\n",
            "Data columns (total 53 columns):\n",
            " #   Column                                               Non-Null Count  Dtype  \n",
            "---  ------                                               --------------  -----  \n",
            " 0   id                                                   651 non-null    float64\n",
            " 1   separationtype                                       651 non-null    object \n",
            " 2   cease_date                                           635 non-null    float64\n",
            " 3   dete_start_date                                      283 non-null    float64\n",
            " 4   role_start_date                                      271 non-null    float64\n",
            " 5   position                                             598 non-null    object \n",
            " 6   classification                                       161 non-null    object \n",
            " 7   region                                               265 non-null    object \n",
            " 8   business_unit                                        32 non-null     object \n",
            " 9   employment_status                                    597 non-null    object \n",
            " 10  career_move_to_public_sector                         311 non-null    object \n",
            " 11  career_move_to_private_sector                        311 non-null    object \n",
            " 12  interpersonal_conflicts                              311 non-null    object \n",
            " 13  job_dissatisfaction                                  311 non-null    object \n",
            " 14  dissatisfaction_with_the_department                  311 non-null    object \n",
            " 15  physical_work_environment                            311 non-null    object \n",
            " 16  lack_of_recognition                                  311 non-null    object \n",
            " 17  lack_of_job_security                                 311 non-null    object \n",
            " 18  work_location                                        311 non-null    object \n",
            " 19  employment_conditions                                311 non-null    object \n",
            " 20  maternity/family                                     311 non-null    object \n",
            " 21  relocation                                           311 non-null    object \n",
            " 22  study/travel                                         311 non-null    object \n",
            " 23  ill_health                                           311 non-null    object \n",
            " 24  traumatic_incident                                   311 non-null    object \n",
            " 25  work_life_balance                                    311 non-null    object \n",
            " 26  workload                                             311 non-null    object \n",
            " 27  none_of_the_above                                    311 non-null    object \n",
            " 28  gender                                               592 non-null    object \n",
            " 29  age                                                  596 non-null    object \n",
            " 30  aboriginal                                           7 non-null      object \n",
            " 31  torres_strait                                        0 non-null      object \n",
            " 32  south_sea                                            3 non-null      object \n",
            " 33  disability                                           8 non-null      object \n",
            " 34  nesb                                                 9 non-null      object \n",
            " 35  institute_service                                    563 non-null    object \n",
            " 36  dissatisfied                                         643 non-null    object \n",
            " 37  institute                                            651 non-null    object \n",
            " 38  Institute                                            340 non-null    object \n",
            " 39  WorkArea                                             340 non-null    object \n",
            " 40  Contributing Factors. Career Move - Public Sector    332 non-null    object \n",
            " 41  Contributing Factors. Career Move - Private Sector   332 non-null    object \n",
            " 42  Contributing Factors. Career Move - Self-employment  332 non-null    object \n",
            " 43  Contributing Factors. Ill Health                     332 non-null    object \n",
            " 44  Contributing Factors. Maternity/Family               332 non-null    object \n",
            " 45  Contributing Factors. Dissatisfaction                332 non-null    object \n",
            " 46  Contributing Factors. Job Dissatisfaction            332 non-null    object \n",
            " 47  Contributing Factors. Interpersonal Conflict         332 non-null    object \n",
            " 48  Contributing Factors. Study                          332 non-null    object \n",
            " 49  Contributing Factors. Travel                         332 non-null    object \n",
            " 50  Contributing Factors. Other                          332 non-null    object \n",
            " 51  Contributing Factors. NONE                           332 non-null    object \n",
            " 52  role_service                                         290 non-null    object \n",
            "dtypes: float64(4), object(49)\n",
            "memory usage: 269.7+ KB\n"
          ],
          "name": "stdout"
        }
      ]
    },
    {
      "cell_type": "markdown",
      "metadata": {
        "id": "q542vm3RBKcs"
      },
      "source": [
        "From the info table above, there are still columns that are not relevant to our analysis. We decide to drop any columns with less than 500 non null values since the columns we need all have more than 500 non-null values. The updated dataframe is as below:"
      ]
    },
    {
      "cell_type": "code",
      "metadata": {
        "id": "D7k9-6PiBOL8",
        "outputId": "f143343d-2b79-4db9-cdf4-0e81a86fa905",
        "colab": {
          "base_uri": "https://localhost:8080/",
          "height": 300
        }
      },
      "source": [
        "# Drop columns with fewer than 500 non null values\n",
        "combined_updated = combined.dropna(thresh=500, axis=1).copy()\n",
        "\n",
        "# Check the updated dataframe\n",
        "combined_updated.info()"
      ],
      "execution_count": 23,
      "outputs": [
        {
          "output_type": "stream",
          "text": [
            "<class 'pandas.core.frame.DataFrame'>\n",
            "RangeIndex: 651 entries, 0 to 650\n",
            "Data columns (total 10 columns):\n",
            " #   Column             Non-Null Count  Dtype  \n",
            "---  ------             --------------  -----  \n",
            " 0   id                 651 non-null    float64\n",
            " 1   separationtype     651 non-null    object \n",
            " 2   cease_date         635 non-null    float64\n",
            " 3   position           598 non-null    object \n",
            " 4   employment_status  597 non-null    object \n",
            " 5   gender             592 non-null    object \n",
            " 6   age                596 non-null    object \n",
            " 7   institute_service  563 non-null    object \n",
            " 8   dissatisfied       643 non-null    object \n",
            " 9   institute          651 non-null    object \n",
            "dtypes: float64(2), object(8)\n",
            "memory usage: 51.0+ KB\n"
          ],
          "name": "stdout"
        }
      ]
    },
    {
      "cell_type": "markdown",
      "metadata": {
        "id": "oyEddgFhDdQs"
      },
      "source": [
        "## **Clean 'institute_service' column**\n",
        "This column in the combined dataframe now has a mix of string and numeric values that make it impossible for us to carry out our analysis. In addition, the values are too granular that we doubt to get any insights from it. "
      ]
    },
    {
      "cell_type": "code",
      "metadata": {
        "id": "n-CB0GV3DmWh",
        "outputId": "f3f39cf7-8482-410c-ba39-f108288cf56d",
        "colab": {
          "base_uri": "https://localhost:8080/",
          "height": 866
        }
      },
      "source": [
        "combined_updated[\"institute_service\"].value_counts(dropna=False)"
      ],
      "execution_count": 24,
      "outputs": [
        {
          "output_type": "execute_result",
          "data": {
            "text/plain": [
              "NaN                   88\n",
              "Less than 1 year      73\n",
              "1-2                   64\n",
              "3-4                   63\n",
              "5-6                   33\n",
              "11-20                 26\n",
              "5.0                   23\n",
              "1.0                   22\n",
              "7-10                  21\n",
              "0.0                   20\n",
              "3.0                   20\n",
              "6.0                   17\n",
              "4.0                   16\n",
              "9.0                   14\n",
              "2.0                   14\n",
              "7.0                   13\n",
              "More than 20 years    10\n",
              "8.0                    8\n",
              "13.0                   8\n",
              "15.0                   7\n",
              "20.0                   7\n",
              "17.0                   6\n",
              "10.0                   6\n",
              "12.0                   6\n",
              "14.0                   6\n",
              "22.0                   6\n",
              "16.0                   5\n",
              "18.0                   5\n",
              "24.0                   4\n",
              "11.0                   4\n",
              "23.0                   4\n",
              "21.0                   3\n",
              "19.0                   3\n",
              "39.0                   3\n",
              "32.0                   3\n",
              "26.0                   2\n",
              "28.0                   2\n",
              "30.0                   2\n",
              "36.0                   2\n",
              "25.0                   2\n",
              "27.0                   1\n",
              "29.0                   1\n",
              "31.0                   1\n",
              "42.0                   1\n",
              "33.0                   1\n",
              "34.0                   1\n",
              "35.0                   1\n",
              "38.0                   1\n",
              "41.0                   1\n",
              "49.0                   1\n",
              "Name: institute_service, dtype: int64"
            ]
          },
          "metadata": {
            "tags": []
          },
          "execution_count": 24
        }
      ]
    },
    {
      "cell_type": "markdown",
      "metadata": {
        "id": "5x41hlCVMg5O"
      },
      "source": [
        "Therefore, we think it is essential to group these numbers into categories. We'll base our analysis on [this article](https://www.businesswire.com/news/home/20171108006002/en/Age-Number-Engage-Employees-Career-Stage), which makes the argument that understanding employee's needs according to career stage instead of age is more effective.\n",
        "\n",
        "We'll use the slightly modified definitions below:\n",
        "\n",
        "- New: Less than 3 years at a company\n",
        "- Experienced: 3-6 years at a company\n",
        "- Established: 7-10 years at a company\n",
        "- Veteran: 11 or more years at a company"
      ]
    },
    {
      "cell_type": "code",
      "metadata": {
        "id": "v5YGkALzI8zy",
        "outputId": "9d519538-1b17-480e-e658-03317ef3bdf0",
        "colab": {
          "base_uri": "https://localhost:8080/",
          "height": 116
        }
      },
      "source": [
        "# Extract the years of service to a new column\n",
        "combined_updated['institute_service_up'] = combined_updated[\"institute_service\"].astype('str').str.extract(r'(\\d+)').astype('float')\n",
        "\n",
        "# Create a function to categorize the years of service\n",
        "def categorize_service(year):\n",
        "  if year < 3:\n",
        "    return \"new\"\n",
        "  elif (year >=3) and (year <= 6):\n",
        "    return \"experienced\"\n",
        "  elif (year >=7) and (year <=10):\n",
        "    return \"established\"\n",
        "  elif pd.isnull(year):\n",
        "    return np.nan\n",
        "  else:\n",
        "    return \"veteran\"\n",
        "\n",
        "# Apply the newly created function to the column 'institute_service_up'\n",
        "combined_updated[\"service_cat\"] = combined_updated['institute_service_up'].apply(categorize_service)\n",
        "combined_updated[\"service_cat\"].value_counts(dropna=False)"
      ],
      "execution_count": 25,
      "outputs": [
        {
          "output_type": "execute_result",
          "data": {
            "text/plain": [
              "new            193\n",
              "experienced    172\n",
              "veteran        136\n",
              "NaN             88\n",
              "established     62\n",
              "Name: service_cat, dtype: int64"
            ]
          },
          "metadata": {
            "tags": []
          },
          "execution_count": 25
        }
      ]
    },
    {
      "cell_type": "markdown",
      "metadata": {
        "id": "nM8hvloHNOzY"
      },
      "source": [
        "## **Fill in missing values**\n",
        "\n",
        "When checking the values of the 'dissatisfied' column, we find that there are still missing values ('NaN') that need to be either dropped or filled in. We decide to treat these values as 'False' value, which means these employees did not resign due to dissatisfaction, given that if they were dissatisfied, they should have indicated so in the corresponding columns / answers."
      ]
    },
    {
      "cell_type": "code",
      "metadata": {
        "id": "2UOP4TDGK3lp",
        "outputId": "3ad15389-48cc-4fa9-fb3a-89317e93873e",
        "colab": {
          "base_uri": "https://localhost:8080/",
          "height": 83
        }
      },
      "source": [
        "# Check the current values of the 'dissatisfied' column\n",
        "combined_updated[\"dissatisfied\"].value_counts(dropna=False)"
      ],
      "execution_count": 26,
      "outputs": [
        {
          "output_type": "execute_result",
          "data": {
            "text/plain": [
              "False    403\n",
              "True     240\n",
              "NaN        8\n",
              "Name: dissatisfied, dtype: int64"
            ]
          },
          "metadata": {
            "tags": []
          },
          "execution_count": 26
        }
      ]
    },
    {
      "cell_type": "code",
      "metadata": {
        "id": "aD_OVUHhLJic"
      },
      "source": [
        "# Fill the missing values with the value 'False'\n",
        "combined_updated[\"dissatisfied\"] = combined_updated[\"dissatisfied\"].fillna(False)"
      ],
      "execution_count": 27,
      "outputs": []
    },
    {
      "cell_type": "markdown",
      "metadata": {
        "id": "IC1hfqLmKrUp"
      },
      "source": [
        "## **Some initial analyses of the data**\n",
        "\n",
        "At this point, our dataframe is ready for some initial analyses to answer the questions posed by our stakeholders.\n",
        "\n"
      ]
    },
    {
      "cell_type": "markdown",
      "metadata": {
        "id": "AH-DCt1DT7ss"
      },
      "source": [
        "### **1. At which Career Stages are employees likely to resign due to dissatisfaction?**"
      ]
    },
    {
      "cell_type": "code",
      "metadata": {
        "id": "lFnEU-XHLZyZ",
        "outputId": "878334c0-6a1b-4f8e-8d36-e9ff7de3e27d",
        "colab": {
          "base_uri": "https://localhost:8080/",
          "height": 458
        }
      },
      "source": [
        "# Create pivot table\n",
        "dis_pv_pct = combined_updated.pivot_table(index=\"service_cat\", values=\"dissatisfied\").sort_values(\"dissatisfied\", ascending=False)\n",
        "\n",
        "# Plot the newly created pivot table\n",
        "%matplotlib inline\n",
        "dis_pv_pct_fig = dis_pv_pct.plot(kind=\"bar\", rot = 0, legend=False, color=\"#006ba4\", xlabel=\"\", figsize=(7, 7))\n",
        "\n",
        "# Make up figure for better readability\n",
        "## Add title\n",
        "dis_pv_pct_fig.set_title(\"Percentage of dissatisfied employees in each Career Stage\", pad=20, fontsize=14)\n",
        "## Add value for each bar\n",
        "x_value = pd.DataFrame(dis_pv_pct)[\"dissatisfied\"]\n",
        "for i in range(0,4):\n",
        "  percentage = str(round(x_value[i]*100,1)) + \"%\"\n",
        "  dis_pv_pct_fig.text(i, x_value[i]+0.01, percentage, horizontalalignment='center')\n",
        "## Hide frame\n",
        "for key, spine in dis_pv_pct_fig.spines.items():\n",
        "  spine.set_visible(False)\n",
        "## Hide y axis\n",
        "dis_pv_pct_fig.get_yaxis().set_visible(False)\n",
        "## Hide x ticks\n",
        "dis_pv_pct_fig.tick_params(axis= \"x\", bottom=None)\n",
        "\n"
      ],
      "execution_count": 28,
      "outputs": [
        {
          "output_type": "display_data",
          "data": {
            "image/png": "[encoded data removed]",
            "text/plain": [
              "<Figure size 504x504 with 1 Axes>"
            ]
          },
          "metadata": {
            "tags": [],
            "needs_background": "light"
          }
        }
      ]
    },
    {
      "cell_type": "markdown",
      "metadata": {
        "id": "9Rj9tMk9QziK"
      },
      "source": [
        "**Findings:** employees with 7 or more years of service (Established and Veteran) are much more likely to resign due to dissatisfaction. One possible explanation is that these employees have rich working experience thus they have better chance at finding other jobs that provide higher job satisfaction than employees who are still in the early stages of their career."
      ]
    },
    {
      "cell_type": "markdown",
      "metadata": {
        "id": "TOJHoJ-gpEUv"
      },
      "source": [
        "### **2. Which Age groups are more likely to resgin due to dissatisfaction?**\n",
        "\n",
        "Classify into four age groups:\n",
        "- 24 or below\n",
        "- From 25 to 39\n",
        "- From 39 to 54\n",
        "- 55 or above"
      ]
    },
    {
      "cell_type": "code",
      "metadata": {
        "id": "WRqBMHDgrj_i",
        "outputId": "63da1fcb-45a7-4978-e156-526145d7d335",
        "colab": {
          "base_uri": "https://localhost:8080/",
          "height": 333
        }
      },
      "source": [
        "# Check the current values of the column 'age'\n",
        "combined_updated[\"age\"].value_counts(dropna=False)"
      ],
      "execution_count": 30,
      "outputs": [
        {
          "output_type": "execute_result",
          "data": {
            "text/plain": [
              "51-55            71\n",
              "NaN              55\n",
              "41-45            48\n",
              "41  45           45\n",
              "46-50            42\n",
              "36-40            41\n",
              "46  50           39\n",
              "26-30            35\n",
              "21  25           33\n",
              "26  30           32\n",
              "36  40           32\n",
              "31  35           32\n",
              "56 or older      29\n",
              "21-25            29\n",
              "31-35            29\n",
              "56-60            26\n",
              "61 or older      23\n",
              "20 or younger    10\n",
              "Name: age, dtype: int64"
            ]
          },
          "metadata": {
            "tags": []
          },
          "execution_count": 30
        }
      ]
    },
    {
      "cell_type": "code",
      "metadata": {
        "id": "a8rBhcutvdLs",
        "outputId": "43493087-1ac7-430a-b9db-735f804c4f7b",
        "colab": {
          "base_uri": "https://localhost:8080/",
          "height": 116
        }
      },
      "source": [
        "# Convert values to string type\n",
        "combined_updated[\"age\"].astype(\"str\")\n",
        "\n",
        "# Create a function to group age values\n",
        "def age_cat(age):\n",
        "  if pd.isnull(age):\n",
        "    return np.nan\n",
        "  elif int(age[0:2]) <= 24:\n",
        "    return \"< 25\"\n",
        "  elif (int(age[0:2]) > 24) and (int(age[0:2]) < 40):\n",
        "    return \"25 - 39\"\n",
        "  elif (int(age[0:2]) >= 40) and (int(age[0:2]) <= 54):\n",
        "    return \"40 - 54\"\n",
        "  elif int(age[0:2]) > 55:\n",
        "    return \"> 54\"\n",
        "  else:\n",
        "    return \"25 - 54\"\n",
        "\n",
        "# Apply the function and create a new column 'age_group'\n",
        "combined_updated[\"age_group\"] = combined_updated[\"age\"].apply(age_cat)\n",
        "\n",
        "combined_updated[\"age_group\"].value_counts(dropna=False)"
      ],
      "execution_count": null,
      "outputs": [
        {
          "output_type": "execute_result",
          "data": {
            "text/plain": [
              "40 - 54    245\n",
              "25 - 39    201\n",
              "> 54        78\n",
              "< 25        72\n",
              "NaN         55\n",
              "Name: age_group, dtype: int64"
            ]
          },
          "metadata": {
            "tags": []
          },
          "execution_count": 31
        }
      ]
    },
    {
      "cell_type": "code",
      "metadata": {
        "id": "lKVtQMb10Xso",
        "outputId": "efba1d70-c2f2-45b3-f083-d3641a1593b5",
        "colab": {
          "base_uri": "https://localhost:8080/",
          "height": 458
        }
      },
      "source": [
        "# Create pivot table\n",
        "dis_pv_age = combined_updated.pivot_table(index=\"age_group\", values=\"dissatisfied\").sort_values(\"dissatisfied\", ascending=False)\n",
        "\n",
        "# Plot the newly created pivot table\n",
        "dis_pv_age_fig = dis_pv_age.plot(kind=\"bar\", rot = 0, legend=False, color=\"#006ba4\", xlabel=\"\", figsize=(7, 7))\n",
        "\n",
        "# Make up figure for better readability\n",
        "## Add title\n",
        "dis_pv_age_fig.set_title(\"Percentage of resigned employees due to dissatisfaction by Age group\", pad=20, fontsize=14)\n",
        "## Add value for each bar\n",
        "x_value = pd.DataFrame(dis_pv_age)[\"dissatisfied\"]\n",
        "for i in range(0,4):\n",
        "  percentage = str(round(x_value[i]*100,1)) + \"%\"\n",
        "  dis_pv_age_fig.text(i, x_value[i]+0.01, percentage, horizontalalignment='center')\n",
        "## Hide frame\n",
        "for key, spine in dis_pv_age_fig.spines.items():\n",
        "  spine.set_visible(False)\n",
        "## Hide y axis\n",
        "dis_pv_age_fig.get_yaxis().set_visible(False)\n",
        "## Hide x ticks\n",
        "dis_pv_age_fig.tick_params(axis= \"x\", bottom=None)\n",
        "\n"
      ],
      "execution_count": 36,
      "outputs": [
        {
          "output_type": "display_data",
          "data": {
            "image/png": "[encoded data removed]",
            "text/plain": [
              "<Figure size 504x504 with 1 Axes>"
            ]
          },
          "metadata": {
            "tags": [],
            "needs_background": "light"
          }
        }
      ]
    },
    {
      "cell_type": "markdown",
      "metadata": {
        "id": "hc2KHHwlVHop"
      },
      "source": [
        "**Findings:** the older the employees are, the more likely they are to resign due to dissatisfaction. This finding is relatively in accordance with the finding in the previous section since older employees tend to have more working experience, thus having better chance at finding new jobs."
      ]
    },
    {
      "cell_type": "markdown",
      "metadata": {
        "id": "w11hYIpgSWce"
      },
      "source": [
        "### **3. Which Gender is more likely to resign due to dissatisfaction?**"
      ]
    },
    {
      "cell_type": "code",
      "metadata": {
        "id": "BPeHoYaeSdYb",
        "outputId": "1de9f4e5-1dcf-43b8-d896-b81cef912998",
        "colab": {
          "base_uri": "https://localhost:8080/",
          "height": 458
        }
      },
      "source": [
        "# Create pivot table\n",
        "gender_pct = combined_updated.pivot_table(index=\"gender\", values=\"dissatisfied\").sort_values(\"dissatisfied\", ascending=False)\n",
        "\n",
        "# Plot the newly created pivot table\n",
        "gender_pct_fig = gender_pct.plot(kind=\"bar\", rot = 0, legend=False, color=\"#006ba4\", xlabel=\"\", figsize=(7, 7))\n",
        "\n",
        "# Make up figure for better readability\n",
        "## Add title\n",
        "gender_pct_fig.set_title(\"Percentage of resigned employees due to dissatisfaction by Gender\", pad=20, fontsize=14)\n",
        "## Add value for each bar\n",
        "x_value = pd.DataFrame(gender_pct)[\"dissatisfied\"]\n",
        "for i in range(0,2):\n",
        "  percentage = str(round(x_value[i]*100,1)) + \"%\"\n",
        "  gender_pct_fig.text(i, x_value[i]+0.01, percentage, horizontalalignment='center')\n",
        "## Hide frame\n",
        "for key, spine in gender_pct_fig.spines.items():\n",
        "  spine.set_visible(False)\n",
        "## Hide y axis\n",
        "gender_pct_fig.get_yaxis().set_visible(False)\n",
        "## Hide x ticks\n",
        "gender_pct_fig.tick_params(axis= \"x\", bottom=None)\n",
        "\n"
      ],
      "execution_count": 42,
      "outputs": [
        {
          "output_type": "display_data",
          "data": {
            "image/png": "[encoded data removed]",
            "text/plain": [
              "<Figure size 504x504 with 1 Axes>"
            ]
          },
          "metadata": {
            "tags": [],
            "needs_background": "light"
          }
        }
      ]
    },
    {
      "cell_type": "markdown",
      "metadata": {
        "id": "HsR5Y8U2WswC"
      },
      "source": [
        "**Findings:** The rates of resignation due to dissatisfaction of both male and female employees are about the same, though dissatisfied male employees seems to more likely to resign than their female counterparts."
      ]
    },
    {
      "cell_type": "markdown",
      "metadata": {
        "id": "2LUyhE1X4B_e"
      },
      "source": [
        "### **4. Which Institute has more resigned employees due to dissatisfaction?**"
      ]
    },
    {
      "cell_type": "code",
      "metadata": {
        "id": "vlIx8qeq4JUd",
        "outputId": "53acc4c4-475f-4d0e-b21f-1825f3053512",
        "colab": {
          "base_uri": "https://localhost:8080/",
          "height": 458
        }
      },
      "source": [
        "# Create pivot table\n",
        "inst_pct = combined_updated.pivot_table(index=\"institute\", values=\"dissatisfied\").sort_values(\"dissatisfied\", ascending=False)\n",
        "\n",
        "# Plot the newly created pivot table\n",
        "inst_pct_fig = inst_pct.plot(kind=\"bar\", rot = 0, legend=False, color=\"#006ba4\", xlabel=\"\", figsize=(7, 7))\n",
        "\n",
        "# Make up figure for better readability\n",
        "## Add title\n",
        "inst_pct_fig.set_title(\"Percentage of resigned employees due to dissatisfaction between two institutes\", pad=20, fontsize=14)\n",
        "## Add value for each bar\n",
        "x_value = pd.DataFrame(inst_pct)[\"dissatisfied\"]\n",
        "for i in range(0,2):\n",
        "  percentage = str(round(x_value[i]*100,1)) + \"%\"\n",
        "  inst_pct_fig.text(i, x_value[i]+0.01, percentage, horizontalalignment='center')\n",
        "## Hide frame\n",
        "for key, spine in inst_pct_fig.spines.items():\n",
        "  spine.set_visible(False)\n",
        "## Hide y axis\n",
        "inst_pct_fig.get_yaxis().set_visible(False)\n",
        "## Hide x ticks\n",
        "inst_pct_fig.tick_params(axis= \"x\", bottom=None)\n",
        "\n"
      ],
      "execution_count": 40,
      "outputs": [
        {
          "output_type": "display_data",
          "data": {
            "image/png": "[encoded data removed]",
            "text/plain": [
              "<Figure size 504x504 with 1 Axes>"
            ]
          },
          "metadata": {
            "tags": [],
            "needs_background": "light"
          }
        }
      ]
    },
    {
      "cell_type": "markdown",
      "metadata": {
        "id": "DaQPfp2JWZNj"
      },
      "source": [
        "**Findings:** Dissatisfied employees who work for PETE are significantly more likely to resign than those who work for TAFE."
      ]
    },
    {
      "cell_type": "markdown",
      "metadata": {
        "id": "sxB0wAN1Vhyw"
      },
      "source": [
        "## **Conclusion**\n",
        "Based on the findings from our analysis, we believe that a **male** employee who is about **55 or older** and has been **working for PETE** for **more than 7 years** is the most likely to resign due to some kind of dissatisfaction."
      ]
    }
  ]
}